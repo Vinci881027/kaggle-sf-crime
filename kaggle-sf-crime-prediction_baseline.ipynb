{
 "cells": [
  {
   "cell_type": "markdown",
   "metadata": {},
   "source": [
    "# San Francisco Crime Project\n",
    "\n",
    "* Author: Kevin Chuang [@k-chuang](https://www.github.com/k-chuang)\n",
    "* Created on: August 25, 2018\n",
    "* Description: Data analysis, exploration, visualization, and data mining on crime in SF\n",
    "* Original dataset: [SF Gov Crime dataset](https://data.sfgov.org/Public-Safety/-Change-Notice-Police-Department-Incidents/tmnf-yvry/about)\n",
    "* Kaggle dataset: [Kaggle SF Crime](https://www.kaggle.com/c/sf-crime/data)\n",
    "\n",
    "---------------"
   ]
  },
  {
   "cell_type": "markdown",
   "metadata": {},
   "source": [
    "# Table of Contents\n",
    "\n",
    "- Introduction\n",
    "    - SF Crime Dataset\n",
    "- Basic Preparation\n",
    "    - Import libraries\n",
    "    - Load data\n",
    "- Data Exploration/Analysis Extension\n",
    "- Data Preprocessing\n",
    "    - Data Imputation/Removal\n",
    "    - Feature Engineering\n",
    "    - Feature Encoding\n",
    "- Build Machine Learning Models\n",
    "    - Train different baseline models\n",
    "    - Analyze results\n",
    "- Model Selection\n",
    "- Hyperparameter tuning\n",
    "- Train Model with optimal hyperparameters\n",
    "- Feature Selection\n",
    "    - Feature Importance\n",
    "    - Feature Removal\n",
    "- Train Final Model\n",
    "- Model Evaluation\n",
    "- Summary\n",
    "- Kaggle Submission\n",
    "- Conclusion"
   ]
  },
  {
   "cell_type": "markdown",
   "metadata": {},
   "source": [
    "# Introduction\n",
    "\n",
    "\n",
    "## SF Crime Dataset\n",
    "\n",
    "This dataset contains incidents derived from SFPD Crime Incident Reporting system. The data ranges from 1/1/2003 to 5/13/2015. The training set and test set rotate every week, meaning week 1,3,5,7... belong to test set, week 2,4,6,8 belong to training set. The goal is to try to predict the category of crime that occurred in the city of San Francisco. \n",
    "\n",
    "### Data Fields\n",
    "- **Dates** - timestamp of the crime incident\n",
    "- **Category** - category of the crime incident (only in train.csv). This is the target variable you are going to predict.\n",
    "- **Descript** - detailed description of the crime incident (only in train.csv)\n",
    "- **DayOfWeek** - the day of the week\n",
    "- **PdDistrict** - name of the Police Department District\n",
    "- **Resolution** - how the crime incident was resolved (only in train.csv)\n",
    "- **Address** - the approximate street address of the crime incident \n",
    "- **X** - Longitude\n",
    "- **Y** - Latitude\n",
    "\n",
    "\n",
    "In this juypter notebook, I will go through the whole process, end-to-end, of creating a machine learning model on the open source San Francisco Crime dataset. This includes data exploration & analysis, data preprocessing (huge part of this project and includes feature engineering), trying out different ML algorithms and determining the optimal ML model, tuning the hyperparameters of that model, and finally, evaluating the chosen model in terms of multiclass log loss. \n",
    "\n",
    "Since this is an old Kaggle competition, I will refrain from looking online for resources or old Kaggle kernels. The plan is to get better at coding an end to end data science project and to familiarize myself with the Python data science libraries. Also, I hope to learn some interesting things and discover some cool patterns or ideas using this dataset. Well, here goes nothing!\n",
    "\n"
   ]
  },
  {
   "cell_type": "markdown",
   "metadata": {},
   "source": [
    "## Import libraries"
   ]
  },
  {
   "cell_type": "code",
   "execution_count": 23,
   "metadata": {
    "ExecuteTime": {
     "end_time": "2018-09-15T00:10:19.277666Z",
     "start_time": "2018-09-15T00:10:17.704742Z"
    }
   },
   "outputs": [],
   "source": [
    "__author__ = 'Kevin Chuang (https://www.github.com/k-chuang)' \n",
    "\n",
    "# linear algebra\n",
    "import numpy as np \n",
    "\n",
    "# data processing\n",
    "import pandas as pd \n",
    "\n",
    "# data visualization\n",
    "import seaborn as sns\n",
    "%matplotlib inline\n",
    "from matplotlib import pyplot as plt\n",
    "from matplotlib import style\n",
    "\n",
    "# Algorithms\n",
    "from sklearn import linear_model\n",
    "from sklearn.linear_model import SGDClassifier, LogisticRegression\n",
    "from sklearn.ensemble import RandomForestClassifier\n",
    "from sklearn.linear_model import Perceptron\n",
    "from sklearn.tree import DecisionTreeClassifier\n",
    "from sklearn.neighbors import KNeighborsClassifier\n",
    "from sklearn.svm import SVC, LinearSVC\n",
    "from sklearn.naive_bayes import GaussianNB, MultinomialNB\n",
    "from sklearn.ensemble import AdaBoostClassifier\n",
    "from sklearn.neural_network import MLPClassifier\n",
    "from xgboost import XGBClassifier\n",
    "import xgboost as xgb\n",
    "\n",
    "# Preprocessing\n",
    "from sklearn.model_selection import train_test_split\n",
    "from sklearn.preprocessing import LabelEncoder, StandardScaler, OneHotEncoder\n",
    "\n",
    "# Metrics \n",
    "from sklearn.metrics import log_loss\n",
    "from sklearn.model_selection import cross_val_score\n",
    "\n",
    "# Model Selection & Hyperparameter tuning\n",
    "from sklearn.model_selection import GridSearchCV, RandomizedSearchCV, StratifiedKFold\n",
    "from skopt import BayesSearchCV\n",
    "from skopt.space  import Real, Categorical, Integer\n",
    "\n",
    "\n",
    "# Clustering\n",
    "from sklearn.cluster import KMeans\n",
    "\n",
    "# Mathematical Functions\n",
    "import math\n",
    "import re"
   ]
  },
  {
   "cell_type": "markdown",
   "metadata": {},
   "source": [
    "## Load data"
   ]
  },
  {
   "cell_type": "code",
   "execution_count": 24,
   "metadata": {
    "ExecuteTime": {
     "end_time": "2018-09-15T00:10:22.111001Z",
     "start_time": "2018-09-15T00:10:19.280864Z"
    }
   },
   "outputs": [],
   "source": [
    "train_df = pd.read_csv('data/train.csv')\n",
    "test_df = pd.read_csv('data/test.csv')"
   ]
  },
  {
   "cell_type": "code",
   "execution_count": 25,
   "metadata": {
    "ExecuteTime": {
     "end_time": "2018-09-15T00:10:22.435882Z",
     "start_time": "2018-09-15T00:10:22.113556Z"
    }
   },
   "outputs": [
    {
     "name": "stdout",
     "output_type": "stream",
     "text": [
      "<class 'pandas.core.frame.DataFrame'>\n",
      "RangeIndex: 878049 entries, 0 to 878048\n",
      "Data columns (total 9 columns):\n",
      " #   Column      Non-Null Count   Dtype  \n",
      "---  ------      --------------   -----  \n",
      " 0   Dates       878049 non-null  object \n",
      " 1   Category    878049 non-null  object \n",
      " 2   Descript    878049 non-null  object \n",
      " 3   DayOfWeek   878049 non-null  object \n",
      " 4   PdDistrict  878049 non-null  object \n",
      " 5   Resolution  878049 non-null  object \n",
      " 6   Address     878049 non-null  object \n",
      " 7   X           878049 non-null  float64\n",
      " 8   Y           878049 non-null  float64\n",
      "dtypes: float64(2), object(7)\n",
      "memory usage: 60.3+ MB\n"
     ]
    }
   ],
   "source": [
    "train_df.info()"
   ]
  },
  {
   "cell_type": "markdown",
   "metadata": {},
   "source": [
    "# Data Exploration & Analysis Extension\n",
    "\n",
    "- Complete data exploration & visualizations are located in jupyter notebook: [kaggle-sf-crime-data-exploration.ipynb](kaggle-sf-crime-data-exploration.ipynb)\n",
    "- This dataset suffers from **imbalanced classes** (**TREA** has 6 occurrences while **LARCENY/THEFT** has 1,749,000 occurrences)\n",
    "    - There are a couple ways to deal with imbalanced classes, such as:\n",
    "        - Changing performance metric (Do not use accuracy, use a confusion matrix, precision, recall, F1 score, ROC curves)\n",
    "        - Resample dataset (Oversample under-represented classes, and undersample over-represented classes)\n",
    "        - Try different ML algorithms that can handle imbalanced classes\n",
    "            - Decision Trees (Random Forests/XGBoost) often perform well on imbalanced classes (due to splitting rules)"
   ]
  },
  {
   "cell_type": "code",
   "execution_count": 26,
   "metadata": {
    "ExecuteTime": {
     "end_time": "2018-09-15T00:10:22.460838Z",
     "start_time": "2018-09-15T00:10:22.438200Z"
    }
   },
   "outputs": [
    {
     "data": {
      "text/html": [
       "<div>\n",
       "<style scoped>\n",
       "    .dataframe tbody tr th:only-of-type {\n",
       "        vertical-align: middle;\n",
       "    }\n",
       "\n",
       "    .dataframe tbody tr th {\n",
       "        vertical-align: top;\n",
       "    }\n",
       "\n",
       "    .dataframe thead th {\n",
       "        text-align: right;\n",
       "    }\n",
       "</style>\n",
       "<table border=\"1\" class=\"dataframe\">\n",
       "  <thead>\n",
       "    <tr style=\"text-align: right;\">\n",
       "      <th></th>\n",
       "      <th>Dates</th>\n",
       "      <th>Category</th>\n",
       "      <th>Descript</th>\n",
       "      <th>DayOfWeek</th>\n",
       "      <th>PdDistrict</th>\n",
       "      <th>Resolution</th>\n",
       "      <th>Address</th>\n",
       "      <th>X</th>\n",
       "      <th>Y</th>\n",
       "    </tr>\n",
       "  </thead>\n",
       "  <tbody>\n",
       "    <tr>\n",
       "      <th>0</th>\n",
       "      <td>2015-05-13 23:53:00</td>\n",
       "      <td>WARRANTS</td>\n",
       "      <td>WARRANT ARREST</td>\n",
       "      <td>Wednesday</td>\n",
       "      <td>NORTHERN</td>\n",
       "      <td>ARREST, BOOKED</td>\n",
       "      <td>OAK ST / LAGUNA ST</td>\n",
       "      <td>-122.425892</td>\n",
       "      <td>37.774599</td>\n",
       "    </tr>\n",
       "    <tr>\n",
       "      <th>1</th>\n",
       "      <td>2015-05-13 23:53:00</td>\n",
       "      <td>OTHER OFFENSES</td>\n",
       "      <td>TRAFFIC VIOLATION ARREST</td>\n",
       "      <td>Wednesday</td>\n",
       "      <td>NORTHERN</td>\n",
       "      <td>ARREST, BOOKED</td>\n",
       "      <td>OAK ST / LAGUNA ST</td>\n",
       "      <td>-122.425892</td>\n",
       "      <td>37.774599</td>\n",
       "    </tr>\n",
       "    <tr>\n",
       "      <th>2</th>\n",
       "      <td>2015-05-13 23:33:00</td>\n",
       "      <td>OTHER OFFENSES</td>\n",
       "      <td>TRAFFIC VIOLATION ARREST</td>\n",
       "      <td>Wednesday</td>\n",
       "      <td>NORTHERN</td>\n",
       "      <td>ARREST, BOOKED</td>\n",
       "      <td>VANNESS AV / GREENWICH ST</td>\n",
       "      <td>-122.424363</td>\n",
       "      <td>37.800414</td>\n",
       "    </tr>\n",
       "    <tr>\n",
       "      <th>3</th>\n",
       "      <td>2015-05-13 23:30:00</td>\n",
       "      <td>LARCENY/THEFT</td>\n",
       "      <td>GRAND THEFT FROM LOCKED AUTO</td>\n",
       "      <td>Wednesday</td>\n",
       "      <td>NORTHERN</td>\n",
       "      <td>NONE</td>\n",
       "      <td>1500 Block of LOMBARD ST</td>\n",
       "      <td>-122.426995</td>\n",
       "      <td>37.800873</td>\n",
       "    </tr>\n",
       "    <tr>\n",
       "      <th>4</th>\n",
       "      <td>2015-05-13 23:30:00</td>\n",
       "      <td>LARCENY/THEFT</td>\n",
       "      <td>GRAND THEFT FROM LOCKED AUTO</td>\n",
       "      <td>Wednesday</td>\n",
       "      <td>PARK</td>\n",
       "      <td>NONE</td>\n",
       "      <td>100 Block of BRODERICK ST</td>\n",
       "      <td>-122.438738</td>\n",
       "      <td>37.771541</td>\n",
       "    </tr>\n",
       "    <tr>\n",
       "      <th>5</th>\n",
       "      <td>2015-05-13 23:30:00</td>\n",
       "      <td>LARCENY/THEFT</td>\n",
       "      <td>GRAND THEFT FROM UNLOCKED AUTO</td>\n",
       "      <td>Wednesday</td>\n",
       "      <td>INGLESIDE</td>\n",
       "      <td>NONE</td>\n",
       "      <td>0 Block of TEDDY AV</td>\n",
       "      <td>-122.403252</td>\n",
       "      <td>37.713431</td>\n",
       "    </tr>\n",
       "    <tr>\n",
       "      <th>6</th>\n",
       "      <td>2015-05-13 23:30:00</td>\n",
       "      <td>VEHICLE THEFT</td>\n",
       "      <td>STOLEN AUTOMOBILE</td>\n",
       "      <td>Wednesday</td>\n",
       "      <td>INGLESIDE</td>\n",
       "      <td>NONE</td>\n",
       "      <td>AVALON AV / PERU AV</td>\n",
       "      <td>-122.423327</td>\n",
       "      <td>37.725138</td>\n",
       "    </tr>\n",
       "    <tr>\n",
       "      <th>7</th>\n",
       "      <td>2015-05-13 23:30:00</td>\n",
       "      <td>VEHICLE THEFT</td>\n",
       "      <td>STOLEN AUTOMOBILE</td>\n",
       "      <td>Wednesday</td>\n",
       "      <td>BAYVIEW</td>\n",
       "      <td>NONE</td>\n",
       "      <td>KIRKWOOD AV / DONAHUE ST</td>\n",
       "      <td>-122.371274</td>\n",
       "      <td>37.727564</td>\n",
       "    </tr>\n",
       "  </tbody>\n",
       "</table>\n",
       "</div>"
      ],
      "text/plain": [
       "                 Dates        Category                        Descript  \\\n",
       "0  2015-05-13 23:53:00        WARRANTS                  WARRANT ARREST   \n",
       "1  2015-05-13 23:53:00  OTHER OFFENSES        TRAFFIC VIOLATION ARREST   \n",
       "2  2015-05-13 23:33:00  OTHER OFFENSES        TRAFFIC VIOLATION ARREST   \n",
       "3  2015-05-13 23:30:00   LARCENY/THEFT    GRAND THEFT FROM LOCKED AUTO   \n",
       "4  2015-05-13 23:30:00   LARCENY/THEFT    GRAND THEFT FROM LOCKED AUTO   \n",
       "5  2015-05-13 23:30:00   LARCENY/THEFT  GRAND THEFT FROM UNLOCKED AUTO   \n",
       "6  2015-05-13 23:30:00   VEHICLE THEFT               STOLEN AUTOMOBILE   \n",
       "7  2015-05-13 23:30:00   VEHICLE THEFT               STOLEN AUTOMOBILE   \n",
       "\n",
       "   DayOfWeek PdDistrict      Resolution                    Address  \\\n",
       "0  Wednesday   NORTHERN  ARREST, BOOKED         OAK ST / LAGUNA ST   \n",
       "1  Wednesday   NORTHERN  ARREST, BOOKED         OAK ST / LAGUNA ST   \n",
       "2  Wednesday   NORTHERN  ARREST, BOOKED  VANNESS AV / GREENWICH ST   \n",
       "3  Wednesday   NORTHERN            NONE   1500 Block of LOMBARD ST   \n",
       "4  Wednesday       PARK            NONE  100 Block of BRODERICK ST   \n",
       "5  Wednesday  INGLESIDE            NONE        0 Block of TEDDY AV   \n",
       "6  Wednesday  INGLESIDE            NONE        AVALON AV / PERU AV   \n",
       "7  Wednesday    BAYVIEW            NONE   KIRKWOOD AV / DONAHUE ST   \n",
       "\n",
       "            X          Y  \n",
       "0 -122.425892  37.774599  \n",
       "1 -122.425892  37.774599  \n",
       "2 -122.424363  37.800414  \n",
       "3 -122.426995  37.800873  \n",
       "4 -122.438738  37.771541  \n",
       "5 -122.403252  37.713431  \n",
       "6 -122.423327  37.725138  \n",
       "7 -122.371274  37.727564  "
      ]
     },
     "execution_count": 26,
     "metadata": {},
     "output_type": "execute_result"
    }
   ],
   "source": [
    "train_df.head(8)"
   ]
  },
  {
   "cell_type": "code",
   "execution_count": 27,
   "metadata": {
    "ExecuteTime": {
     "end_time": "2018-09-15T00:10:22.468060Z",
     "start_time": "2018-09-15T00:10:22.462799Z"
    }
   },
   "outputs": [
    {
     "data": {
      "text/plain": [
       "array(['Dates', 'Category', 'Descript', 'DayOfWeek', 'PdDistrict',\n",
       "       'Resolution', 'Address', 'X', 'Y'], dtype=object)"
      ]
     },
     "execution_count": 27,
     "metadata": {},
     "output_type": "execute_result"
    }
   ],
   "source": [
    "train_df.columns.values"
   ]
  },
  {
   "cell_type": "code",
   "execution_count": 28,
   "metadata": {
    "ExecuteTime": {
     "end_time": "2018-09-15T00:10:22.772448Z",
     "start_time": "2018-09-15T00:10:22.469783Z"
    }
   },
   "outputs": [
    {
     "name": "stdout",
     "output_type": "stream",
     "text": [
      "<class 'pandas.core.frame.DataFrame'>\n",
      "RangeIndex: 878049 entries, 0 to 878048\n",
      "Data columns (total 9 columns):\n",
      " #   Column      Non-Null Count   Dtype  \n",
      "---  ------      --------------   -----  \n",
      " 0   Dates       878049 non-null  object \n",
      " 1   Category    878049 non-null  object \n",
      " 2   Descript    878049 non-null  object \n",
      " 3   DayOfWeek   878049 non-null  object \n",
      " 4   PdDistrict  878049 non-null  object \n",
      " 5   Resolution  878049 non-null  object \n",
      " 6   Address     878049 non-null  object \n",
      " 7   X           878049 non-null  float64\n",
      " 8   Y           878049 non-null  float64\n",
      "dtypes: float64(2), object(7)\n",
      "memory usage: 60.3+ MB\n"
     ]
    },
    {
     "name": "stderr",
     "output_type": "stream",
     "text": [
      "/tmp/ipykernel_3065411/1066574219.py:2: FutureWarning: null_counts is deprecated. Use show_counts instead\n",
      "  train_df.info(verbose=True, null_counts=True)\n"
     ]
    }
   ],
   "source": [
    "# set show nulls to True\n",
    "train_df.info(verbose=True, null_counts=True)"
   ]
  },
  {
   "cell_type": "markdown",
   "metadata": {},
   "source": [
    "------------\n",
    "### Things we learned thus far:\n",
    "\n",
    "- 878,049 instances in training set (or recorded crime instances in SF)\n",
    "- 9 columns (8 potential features + 1 label (Category))\n",
    "- Data types:\n",
    "    - 2 columns with float values\n",
    "    - 7 objects\n",
    "- There are no null (NaN) values (Yay!)"
   ]
  },
  {
   "cell_type": "code",
   "execution_count": 29,
   "metadata": {
    "ExecuteTime": {
     "end_time": "2018-09-15T00:10:22.891578Z",
     "start_time": "2018-09-15T00:10:22.791301Z"
    }
   },
   "outputs": [
    {
     "data": {
      "text/plain": [
       "LARCENY/THEFT                  174900\n",
       "OTHER OFFENSES                 126182\n",
       "NON-CRIMINAL                    92304\n",
       "ASSAULT                         76876\n",
       "DRUG/NARCOTIC                   53971\n",
       "VEHICLE THEFT                   53781\n",
       "VANDALISM                       44725\n",
       "WARRANTS                        42214\n",
       "BURGLARY                        36755\n",
       "SUSPICIOUS OCC                  31414\n",
       "MISSING PERSON                  25989\n",
       "ROBBERY                         23000\n",
       "FRAUD                           16679\n",
       "FORGERY/COUNTERFEITING          10609\n",
       "SECONDARY CODES                  9985\n",
       "WEAPON LAWS                      8555\n",
       "PROSTITUTION                     7484\n",
       "TRESPASS                         7326\n",
       "STOLEN PROPERTY                  4540\n",
       "SEX OFFENSES FORCIBLE            4388\n",
       "DISORDERLY CONDUCT               4320\n",
       "DRUNKENNESS                      4280\n",
       "RECOVERED VEHICLE                3138\n",
       "KIDNAPPING                       2341\n",
       "DRIVING UNDER THE INFLUENCE      2268\n",
       "RUNAWAY                          1946\n",
       "LIQUOR LAWS                      1903\n",
       "ARSON                            1513\n",
       "LOITERING                        1225\n",
       "EMBEZZLEMENT                     1166\n",
       "SUICIDE                           508\n",
       "FAMILY OFFENSES                   491\n",
       "BAD CHECKS                        406\n",
       "BRIBERY                           289\n",
       "EXTORTION                         256\n",
       "SEX OFFENSES NON FORCIBLE         148\n",
       "GAMBLING                          146\n",
       "PORNOGRAPHY/OBSCENE MAT            22\n",
       "TREA                                6\n",
       "Name: Category, dtype: int64"
      ]
     },
     "execution_count": 29,
     "metadata": {},
     "output_type": "execute_result"
    }
   ],
   "source": [
    "## Count number of observations for each crime \n",
    "train_df['Category'].value_counts()"
   ]
  },
  {
   "cell_type": "code",
   "execution_count": 30,
   "metadata": {
    "ExecuteTime": {
     "end_time": "2018-09-15T00:10:22.992868Z",
     "start_time": "2018-09-15T00:10:22.893918Z"
    }
   },
   "outputs": [
    {
     "data": {
      "text/plain": [
       "SOUTHERN      157182\n",
       "MISSION       119908\n",
       "NORTHERN      105296\n",
       "BAYVIEW        89431\n",
       "CENTRAL        85460\n",
       "TENDERLOIN     81809\n",
       "INGLESIDE      78845\n",
       "TARAVAL        65596\n",
       "PARK           49313\n",
       "RICHMOND       45209\n",
       "Name: PdDistrict, dtype: int64"
      ]
     },
     "execution_count": 30,
     "metadata": {},
     "output_type": "execute_result"
    }
   ],
   "source": [
    "## Count number of observations of crime for each PD District\n",
    "train_df['PdDistrict'].value_counts()"
   ]
  },
  {
   "cell_type": "code",
   "execution_count": 31,
   "metadata": {
    "ExecuteTime": {
     "end_time": "2018-09-15T00:10:23.086159Z",
     "start_time": "2018-09-15T00:10:22.995288Z"
    }
   },
   "outputs": [
    {
     "data": {
      "text/plain": [
       "Friday       133734\n",
       "Wednesday    129211\n",
       "Saturday     126810\n",
       "Thursday     125038\n",
       "Tuesday      124965\n",
       "Monday       121584\n",
       "Sunday       116707\n",
       "Name: DayOfWeek, dtype: int64"
      ]
     },
     "execution_count": 31,
     "metadata": {},
     "output_type": "execute_result"
    }
   ],
   "source": [
    "## Count number of observations for each day of week\n",
    "train_df['DayOfWeek'].value_counts()"
   ]
  },
  {
   "cell_type": "code",
   "execution_count": 32,
   "metadata": {
    "ExecuteTime": {
     "end_time": "2018-09-15T00:10:23.187282Z",
     "start_time": "2018-09-15T00:10:23.088498Z"
    }
   },
   "outputs": [
    {
     "data": {
      "text/plain": [
       "NONE                                      526790\n",
       "ARREST, BOOKED                            206403\n",
       "ARREST, CITED                              77004\n",
       "LOCATED                                    17101\n",
       "PSYCHOPATHIC CASE                          14534\n",
       "UNFOUNDED                                   9585\n",
       "JUVENILE BOOKED                             5564\n",
       "COMPLAINANT REFUSES TO PROSECUTE            3976\n",
       "DISTRICT ATTORNEY REFUSES TO PROSECUTE      3934\n",
       "NOT PROSECUTED                              3714\n",
       "JUVENILE CITED                              3332\n",
       "PROSECUTED BY OUTSIDE AGENCY                2504\n",
       "EXCEPTIONAL CLEARANCE                       1530\n",
       "JUVENILE ADMONISHED                         1455\n",
       "JUVENILE DIVERTED                            355\n",
       "CLEARED-CONTACT JUVENILE FOR MORE INFO       217\n",
       "PROSECUTED FOR LESSER OFFENSE                 51\n",
       "Name: Resolution, dtype: int64"
      ]
     },
     "execution_count": 32,
     "metadata": {},
     "output_type": "execute_result"
    }
   ],
   "source": [
    "## Count number of observations for Resolution feature\n",
    "train_df['Resolution'].value_counts()"
   ]
  },
  {
   "cell_type": "code",
   "execution_count": 33,
   "metadata": {
    "ExecuteTime": {
     "end_time": "2018-09-15T00:10:23.339069Z",
     "start_time": "2018-09-15T00:10:23.189621Z"
    }
   },
   "outputs": [
    {
     "data": {
      "text/html": [
       "<div>\n",
       "<style scoped>\n",
       "    .dataframe tbody tr th:only-of-type {\n",
       "        vertical-align: middle;\n",
       "    }\n",
       "\n",
       "    .dataframe tbody tr th {\n",
       "        vertical-align: top;\n",
       "    }\n",
       "\n",
       "    .dataframe thead th {\n",
       "        text-align: right;\n",
       "    }\n",
       "</style>\n",
       "<table border=\"1\" class=\"dataframe\">\n",
       "  <thead>\n",
       "    <tr style=\"text-align: right;\">\n",
       "      <th></th>\n",
       "      <th>X</th>\n",
       "      <th>Y</th>\n",
       "    </tr>\n",
       "  </thead>\n",
       "  <tbody>\n",
       "    <tr>\n",
       "      <th>count</th>\n",
       "      <td>878049.000000</td>\n",
       "      <td>878049.000000</td>\n",
       "    </tr>\n",
       "    <tr>\n",
       "      <th>mean</th>\n",
       "      <td>-122.422616</td>\n",
       "      <td>37.771020</td>\n",
       "    </tr>\n",
       "    <tr>\n",
       "      <th>std</th>\n",
       "      <td>0.030354</td>\n",
       "      <td>0.456893</td>\n",
       "    </tr>\n",
       "    <tr>\n",
       "      <th>min</th>\n",
       "      <td>-122.513642</td>\n",
       "      <td>37.707879</td>\n",
       "    </tr>\n",
       "    <tr>\n",
       "      <th>25%</th>\n",
       "      <td>-122.432952</td>\n",
       "      <td>37.752427</td>\n",
       "    </tr>\n",
       "    <tr>\n",
       "      <th>50%</th>\n",
       "      <td>-122.416420</td>\n",
       "      <td>37.775421</td>\n",
       "    </tr>\n",
       "    <tr>\n",
       "      <th>75%</th>\n",
       "      <td>-122.406959</td>\n",
       "      <td>37.784369</td>\n",
       "    </tr>\n",
       "    <tr>\n",
       "      <th>max</th>\n",
       "      <td>-120.500000</td>\n",
       "      <td>90.000000</td>\n",
       "    </tr>\n",
       "  </tbody>\n",
       "</table>\n",
       "</div>"
      ],
      "text/plain": [
       "                   X              Y\n",
       "count  878049.000000  878049.000000\n",
       "mean     -122.422616      37.771020\n",
       "std         0.030354       0.456893\n",
       "min      -122.513642      37.707879\n",
       "25%      -122.432952      37.752427\n",
       "50%      -122.416420      37.775421\n",
       "75%      -122.406959      37.784369\n",
       "max      -120.500000      90.000000"
      ]
     },
     "execution_count": 33,
     "metadata": {},
     "output_type": "execute_result"
    }
   ],
   "source": [
    "train_df[['X','Y']].describe()"
   ]
  },
  {
   "cell_type": "markdown",
   "metadata": {},
   "source": [
    "**There seems to be an invalid coordinates (max) 90 (latitude) or -120.5 (longitude) does not seem to be a valid coordinate in San Francisco. We must fix these values for this feature.**"
   ]
  },
  {
   "cell_type": "markdown",
   "metadata": {},
   "source": [
    "# Data Preprocessing\n",
    "\n",
    "- Data cleaning\n",
    "    - imputation or removal of outlier values\n",
    "- Feature Engineering (Feature Creation)\n",
    "- Feature Encoding\n",
    "    - **Integer encode** or **label encode** ordinal categorical features that maintain order (Year, Business Quarter, Block/Street Number)\n",
    "    - Usually: \n",
    "        - **One hot encode** nominal categorical features (DayOfWeek, PdDistrict, StreetType, Category)\n",
    "            - mainly for logistic regression\n",
    "        - However, Random Forests & Boosting algorithms can handle nominal categorical features directly, so we just **integer encode** these features."
   ]
  },
  {
   "cell_type": "markdown",
   "metadata": {},
   "source": [
    "## Data Cleaning\n",
    "\n",
    "- Data removal\n",
    "- Data imputation"
   ]
  },
  {
   "cell_type": "code",
   "execution_count": 34,
   "metadata": {
    "ExecuteTime": {
     "end_time": "2018-09-15T00:10:23.382595Z",
     "start_time": "2018-09-15T00:10:23.341391Z"
    }
   },
   "outputs": [
    {
     "data": {
      "text/html": [
       "<div>\n",
       "<style scoped>\n",
       "    .dataframe tbody tr th:only-of-type {\n",
       "        vertical-align: middle;\n",
       "    }\n",
       "\n",
       "    .dataframe tbody tr th {\n",
       "        vertical-align: top;\n",
       "    }\n",
       "\n",
       "    .dataframe thead th {\n",
       "        text-align: right;\n",
       "    }\n",
       "</style>\n",
       "<table border=\"1\" class=\"dataframe\">\n",
       "  <thead>\n",
       "    <tr style=\"text-align: right;\">\n",
       "      <th></th>\n",
       "      <th>Dates</th>\n",
       "      <th>Category</th>\n",
       "      <th>Descript</th>\n",
       "      <th>DayOfWeek</th>\n",
       "      <th>PdDistrict</th>\n",
       "      <th>Resolution</th>\n",
       "      <th>Address</th>\n",
       "      <th>X</th>\n",
       "      <th>Y</th>\n",
       "    </tr>\n",
       "  </thead>\n",
       "  <tbody>\n",
       "    <tr>\n",
       "      <th>660485</th>\n",
       "      <td>2005-12-30 17:00:00</td>\n",
       "      <td>LARCENY/THEFT</td>\n",
       "      <td>GRAND THEFT FROM LOCKED AUTO</td>\n",
       "      <td>Friday</td>\n",
       "      <td>TENDERLOIN</td>\n",
       "      <td>NONE</td>\n",
       "      <td>5THSTNORTH ST / OFARRELL ST</td>\n",
       "      <td>-120.5</td>\n",
       "      <td>90.0</td>\n",
       "    </tr>\n",
       "    <tr>\n",
       "      <th>660711</th>\n",
       "      <td>2005-12-30 00:34:00</td>\n",
       "      <td>ASSAULT</td>\n",
       "      <td>INFLICT INJURY ON COHABITEE</td>\n",
       "      <td>Friday</td>\n",
       "      <td>BAYVIEW</td>\n",
       "      <td>ARREST, BOOKED</td>\n",
       "      <td>JAMESLICKFREEWAY HY / SILVER AV</td>\n",
       "      <td>-120.5</td>\n",
       "      <td>90.0</td>\n",
       "    </tr>\n",
       "    <tr>\n",
       "      <th>660712</th>\n",
       "      <td>2005-12-30 00:34:00</td>\n",
       "      <td>ASSAULT</td>\n",
       "      <td>AGGRAVATED ASSAULT WITH BODILY FORCE</td>\n",
       "      <td>Friday</td>\n",
       "      <td>BAYVIEW</td>\n",
       "      <td>ARREST, BOOKED</td>\n",
       "      <td>JAMESLICKFREEWAY HY / SILVER AV</td>\n",
       "      <td>-120.5</td>\n",
       "      <td>90.0</td>\n",
       "    </tr>\n",
       "    <tr>\n",
       "      <th>661106</th>\n",
       "      <td>2005-12-29 00:07:00</td>\n",
       "      <td>NON-CRIMINAL</td>\n",
       "      <td>AIDED CASE, MENTAL DISTURBED</td>\n",
       "      <td>Thursday</td>\n",
       "      <td>TENDERLOIN</td>\n",
       "      <td>PSYCHOPATHIC CASE</td>\n",
       "      <td>5THSTNORTH ST / EDDY ST</td>\n",
       "      <td>-120.5</td>\n",
       "      <td>90.0</td>\n",
       "    </tr>\n",
       "    <tr>\n",
       "      <th>666430</th>\n",
       "      <td>2005-11-30 11:25:00</td>\n",
       "      <td>OTHER OFFENSES</td>\n",
       "      <td>TRAFFIC VIOLATION</td>\n",
       "      <td>Wednesday</td>\n",
       "      <td>TENDERLOIN</td>\n",
       "      <td>ARREST, CITED</td>\n",
       "      <td>5THSTNORTH ST / ELLIS ST</td>\n",
       "      <td>-120.5</td>\n",
       "      <td>90.0</td>\n",
       "    </tr>\n",
       "    <tr>\n",
       "      <th>...</th>\n",
       "      <td>...</td>\n",
       "      <td>...</td>\n",
       "      <td>...</td>\n",
       "      <td>...</td>\n",
       "      <td>...</td>\n",
       "      <td>...</td>\n",
       "      <td>...</td>\n",
       "      <td>...</td>\n",
       "      <td>...</td>\n",
       "    </tr>\n",
       "    <tr>\n",
       "      <th>844995</th>\n",
       "      <td>2003-06-11 08:49:00</td>\n",
       "      <td>OTHER OFFENSES</td>\n",
       "      <td>DRIVERS LICENSE, SUSPENDED OR REVOKED</td>\n",
       "      <td>Wednesday</td>\n",
       "      <td>INGLESIDE</td>\n",
       "      <td>ARREST, CITED</td>\n",
       "      <td>JAMES LICK FREEWAY HY / CESAR CHAVEZ ST</td>\n",
       "      <td>-120.5</td>\n",
       "      <td>90.0</td>\n",
       "    </tr>\n",
       "    <tr>\n",
       "      <th>845842</th>\n",
       "      <td>2003-06-09 09:25:00</td>\n",
       "      <td>OTHER OFFENSES</td>\n",
       "      <td>DRIVERS LICENSE, SUSPENDED OR REVOKED</td>\n",
       "      <td>Monday</td>\n",
       "      <td>INGLESIDE</td>\n",
       "      <td>ARREST, CITED</td>\n",
       "      <td>JAMES LICK FREEWAY HY / CESAR CHAVEZ ST</td>\n",
       "      <td>-120.5</td>\n",
       "      <td>90.0</td>\n",
       "    </tr>\n",
       "    <tr>\n",
       "      <th>852880</th>\n",
       "      <td>2003-05-02 01:00:00</td>\n",
       "      <td>SEX OFFENSES FORCIBLE</td>\n",
       "      <td>FORCIBLE RAPE, BODILY FORCE</td>\n",
       "      <td>Friday</td>\n",
       "      <td>SOUTHERN</td>\n",
       "      <td>COMPLAINANT REFUSES TO PROSECUTE</td>\n",
       "      <td>3RD ST / JAMES LICK FREEWAY HY</td>\n",
       "      <td>-120.5</td>\n",
       "      <td>90.0</td>\n",
       "    </tr>\n",
       "    <tr>\n",
       "      <th>857248</th>\n",
       "      <td>2003-04-14 16:30:00</td>\n",
       "      <td>ROBBERY</td>\n",
       "      <td>ROBBERY ON THE STREET, STRONGARM</td>\n",
       "      <td>Monday</td>\n",
       "      <td>BAYVIEW</td>\n",
       "      <td>COMPLAINANT REFUSES TO PROSECUTE</td>\n",
       "      <td>GILMAN AV / FITCH ST</td>\n",
       "      <td>-120.5</td>\n",
       "      <td>90.0</td>\n",
       "    </tr>\n",
       "    <tr>\n",
       "      <th>871198</th>\n",
       "      <td>2003-02-05 12:00:00</td>\n",
       "      <td>LARCENY/THEFT</td>\n",
       "      <td>PETTY THEFT FROM LOCKED AUTO</td>\n",
       "      <td>Wednesday</td>\n",
       "      <td>SOUTHERN</td>\n",
       "      <td>NONE</td>\n",
       "      <td>SPEAR ST / THE EMBARCADERO SOUTH ST</td>\n",
       "      <td>-120.5</td>\n",
       "      <td>90.0</td>\n",
       "    </tr>\n",
       "  </tbody>\n",
       "</table>\n",
       "<p>67 rows × 9 columns</p>\n",
       "</div>"
      ],
      "text/plain": [
       "                      Dates               Category  \\\n",
       "660485  2005-12-30 17:00:00          LARCENY/THEFT   \n",
       "660711  2005-12-30 00:34:00                ASSAULT   \n",
       "660712  2005-12-30 00:34:00                ASSAULT   \n",
       "661106  2005-12-29 00:07:00           NON-CRIMINAL   \n",
       "666430  2005-11-30 11:25:00         OTHER OFFENSES   \n",
       "...                     ...                    ...   \n",
       "844995  2003-06-11 08:49:00         OTHER OFFENSES   \n",
       "845842  2003-06-09 09:25:00         OTHER OFFENSES   \n",
       "852880  2003-05-02 01:00:00  SEX OFFENSES FORCIBLE   \n",
       "857248  2003-04-14 16:30:00                ROBBERY   \n",
       "871198  2003-02-05 12:00:00          LARCENY/THEFT   \n",
       "\n",
       "                                     Descript  DayOfWeek  PdDistrict  \\\n",
       "660485           GRAND THEFT FROM LOCKED AUTO     Friday  TENDERLOIN   \n",
       "660711            INFLICT INJURY ON COHABITEE     Friday     BAYVIEW   \n",
       "660712   AGGRAVATED ASSAULT WITH BODILY FORCE     Friday     BAYVIEW   \n",
       "661106           AIDED CASE, MENTAL DISTURBED   Thursday  TENDERLOIN   \n",
       "666430                      TRAFFIC VIOLATION  Wednesday  TENDERLOIN   \n",
       "...                                       ...        ...         ...   \n",
       "844995  DRIVERS LICENSE, SUSPENDED OR REVOKED  Wednesday   INGLESIDE   \n",
       "845842  DRIVERS LICENSE, SUSPENDED OR REVOKED     Monday   INGLESIDE   \n",
       "852880            FORCIBLE RAPE, BODILY FORCE     Friday    SOUTHERN   \n",
       "857248       ROBBERY ON THE STREET, STRONGARM     Monday     BAYVIEW   \n",
       "871198           PETTY THEFT FROM LOCKED AUTO  Wednesday    SOUTHERN   \n",
       "\n",
       "                              Resolution  \\\n",
       "660485                              NONE   \n",
       "660711                    ARREST, BOOKED   \n",
       "660712                    ARREST, BOOKED   \n",
       "661106                 PSYCHOPATHIC CASE   \n",
       "666430                     ARREST, CITED   \n",
       "...                                  ...   \n",
       "844995                     ARREST, CITED   \n",
       "845842                     ARREST, CITED   \n",
       "852880  COMPLAINANT REFUSES TO PROSECUTE   \n",
       "857248  COMPLAINANT REFUSES TO PROSECUTE   \n",
       "871198                              NONE   \n",
       "\n",
       "                                        Address      X     Y  \n",
       "660485              5THSTNORTH ST / OFARRELL ST -120.5  90.0  \n",
       "660711          JAMESLICKFREEWAY HY / SILVER AV -120.5  90.0  \n",
       "660712          JAMESLICKFREEWAY HY / SILVER AV -120.5  90.0  \n",
       "661106                  5THSTNORTH ST / EDDY ST -120.5  90.0  \n",
       "666430                 5THSTNORTH ST / ELLIS ST -120.5  90.0  \n",
       "...                                         ...    ...   ...  \n",
       "844995  JAMES LICK FREEWAY HY / CESAR CHAVEZ ST -120.5  90.0  \n",
       "845842  JAMES LICK FREEWAY HY / CESAR CHAVEZ ST -120.5  90.0  \n",
       "852880           3RD ST / JAMES LICK FREEWAY HY -120.5  90.0  \n",
       "857248                     GILMAN AV / FITCH ST -120.5  90.0  \n",
       "871198      SPEAR ST / THE EMBARCADERO SOUTH ST -120.5  90.0  \n",
       "\n",
       "[67 rows x 9 columns]"
      ]
     },
     "execution_count": 34,
     "metadata": {},
     "output_type": "execute_result"
    }
   ],
   "source": [
    "train_df[train_df['Y'] == train_df['Y'].max()]"
   ]
  },
  {
   "cell_type": "markdown",
   "metadata": {},
   "source": [
    "I notice that there are 108 rows with incorrect coordinates, and they seem to be the exact same two coordinates (90, -120.5). There are many ways to handle this. We need to do data imputation, which can be done several ways. For now, I will randomly sample from a normal distribution with the range of a standard deviation from the mean. However, I could use a linear regression model to predict the latitude and longitude values (based on other variables such as PD district?) and use that to impute the bad / inconsistent data points.\n",
    "\n",
    "Another method is to completely remove this data. Since I already have a lot of data, and I do not want this incorrect data to affect my results, I could remove them. However, I will stick with data imputation."
   ]
  },
  {
   "cell_type": "code",
   "execution_count": 35,
   "metadata": {
    "ExecuteTime": {
     "end_time": "2018-09-15T00:10:23.415432Z",
     "start_time": "2018-09-15T00:10:23.385191Z"
    }
   },
   "outputs": [],
   "source": [
    "train_df['Y'].replace(to_replace= train_df['Y'].max() ,value=np.nan, inplace=True)\n",
    "train_df['X'].replace(to_replace= train_df['X'].max() ,value=np.nan, inplace=True)\n",
    "test_df['Y'].replace(to_replace= test_df['Y'].max() ,value=np.nan, inplace=True)\n",
    "test_df['X'].replace(to_replace= test_df['X'].max() ,value=np.nan, inplace=True)"
   ]
  },
  {
   "cell_type": "code",
   "execution_count": 36,
   "metadata": {
    "ExecuteTime": {
     "end_time": "2018-09-15T00:10:23.917984Z",
     "start_time": "2018-09-15T00:10:23.417166Z"
    }
   },
   "outputs": [
    {
     "data": {
      "text/plain": [
       "Dates          0\n",
       "Category       0\n",
       "Descript       0\n",
       "DayOfWeek      0\n",
       "PdDistrict     0\n",
       "Resolution     0\n",
       "Address        0\n",
       "X             67\n",
       "Y             67\n",
       "dtype: int64"
      ]
     },
     "execution_count": 36,
     "metadata": {},
     "output_type": "execute_result"
    }
   ],
   "source": [
    "train_df.isnull().sum()"
   ]
  },
  {
   "cell_type": "code",
   "execution_count": 37,
   "metadata": {
    "ExecuteTime": {
     "end_time": "2018-09-15T00:10:24.145140Z",
     "start_time": "2018-09-15T00:10:23.920445Z"
    }
   },
   "outputs": [
    {
     "data": {
      "text/plain": [
       "Id             0\n",
       "Dates          0\n",
       "DayOfWeek      0\n",
       "PdDistrict     0\n",
       "Address        0\n",
       "X             76\n",
       "Y             76\n",
       "dtype: int64"
      ]
     },
     "execution_count": 37,
     "metadata": {},
     "output_type": "execute_result"
    }
   ],
   "source": [
    "test_df.isnull().sum()"
   ]
  },
  {
   "cell_type": "code",
   "execution_count": 38,
   "metadata": {
    "ExecuteTime": {
     "end_time": "2018-09-15T00:10:24.366520Z",
     "start_time": "2018-09-15T00:10:24.147409Z"
    }
   },
   "outputs": [],
   "source": [
    "data = [train_df, test_df]\n",
    "\n",
    "for dataset in data:\n",
    "    mean_X = dataset[\"X\"].mean()\n",
    "    std_X = dataset[\"X\"].std()\n",
    "    mean_Y = dataset[\"Y\"].mean()\n",
    "    std_Y = dataset[\"Y\"].std()\n",
    "    max_X = mean_X + std_X\n",
    "    min_X = mean_X - std_X\n",
    "    max_Y = mean_Y + std_Y\n",
    "    min_Y = mean_Y - std_Y\n",
    "\n",
    "    # Both X and Y will have the same null so just use Y\n",
    "    is_null = dataset['Y'].isnull().sum()\n",
    "    # randomly sample float numbers within a range from a uniform distribution\n",
    "#     random_X = (max_X - min_X) * np.random.random_sample(size = is_null) + min_X\n",
    "#     random_Y = (max_Y - min_Y) * np.random.random_sample(size = is_null) + min_Y\n",
    "    # randomly sample float numbers within a range from a normal distribution\n",
    "    random_X = (max_X - min_X) * np.random.randn(is_null) + min_X\n",
    "    random_Y = (max_Y - min_Y) * np.random.randn(is_null) + min_Y\n",
    "\n",
    "    X_slice = dataset['X'].copy()\n",
    "    Y_slice = dataset['Y'].copy()\n",
    "    X_slice[np.isnan(X_slice)] = random_X\n",
    "    Y_slice[np.isnan(Y_slice)] = random_Y\n",
    "    dataset['X'] = X_slice\n",
    "    dataset['Y'] = Y_slice\n"
   ]
  },
  {
   "cell_type": "code",
   "execution_count": 39,
   "metadata": {
    "ExecuteTime": {
     "end_time": "2018-09-15T00:10:24.551483Z",
     "start_time": "2018-09-15T00:10:24.368883Z"
    }
   },
   "outputs": [
    {
     "data": {
      "text/html": [
       "<div>\n",
       "<style scoped>\n",
       "    .dataframe tbody tr th:only-of-type {\n",
       "        vertical-align: middle;\n",
       "    }\n",
       "\n",
       "    .dataframe tbody tr th {\n",
       "        vertical-align: top;\n",
       "    }\n",
       "\n",
       "    .dataframe thead th {\n",
       "        text-align: right;\n",
       "    }\n",
       "</style>\n",
       "<table border=\"1\" class=\"dataframe\">\n",
       "  <thead>\n",
       "    <tr style=\"text-align: right;\">\n",
       "      <th></th>\n",
       "      <th>X</th>\n",
       "      <th>Y</th>\n",
       "    </tr>\n",
       "  </thead>\n",
       "  <tbody>\n",
       "    <tr>\n",
       "      <th>count</th>\n",
       "      <td>878049.000000</td>\n",
       "      <td>878049.000000</td>\n",
       "    </tr>\n",
       "    <tr>\n",
       "      <th>mean</th>\n",
       "      <td>-122.422765</td>\n",
       "      <td>37.767033</td>\n",
       "    </tr>\n",
       "    <tr>\n",
       "      <th>std</th>\n",
       "      <td>0.025289</td>\n",
       "      <td>0.024167</td>\n",
       "    </tr>\n",
       "    <tr>\n",
       "      <th>min</th>\n",
       "      <td>-122.577782</td>\n",
       "      <td>37.623778</td>\n",
       "    </tr>\n",
       "    <tr>\n",
       "      <th>25%</th>\n",
       "      <td>-122.432952</td>\n",
       "      <td>37.752427</td>\n",
       "    </tr>\n",
       "    <tr>\n",
       "      <th>50%</th>\n",
       "      <td>-122.416422</td>\n",
       "      <td>37.775421</td>\n",
       "    </tr>\n",
       "    <tr>\n",
       "      <th>75%</th>\n",
       "      <td>-122.406959</td>\n",
       "      <td>37.784368</td>\n",
       "    </tr>\n",
       "    <tr>\n",
       "      <th>max</th>\n",
       "      <td>-122.292743</td>\n",
       "      <td>37.821673</td>\n",
       "    </tr>\n",
       "  </tbody>\n",
       "</table>\n",
       "</div>"
      ],
      "text/plain": [
       "                   X              Y\n",
       "count  878049.000000  878049.000000\n",
       "mean     -122.422765      37.767033\n",
       "std         0.025289       0.024167\n",
       "min      -122.577782      37.623778\n",
       "25%      -122.432952      37.752427\n",
       "50%      -122.416422      37.775421\n",
       "75%      -122.406959      37.784368\n",
       "max      -122.292743      37.821673"
      ]
     },
     "execution_count": 39,
     "metadata": {},
     "output_type": "execute_result"
    }
   ],
   "source": [
    "train_df[['X', 'Y']].describe()"
   ]
  },
  {
   "cell_type": "code",
   "execution_count": 40,
   "metadata": {
    "ExecuteTime": {
     "end_time": "2018-09-15T00:10:24.558034Z",
     "start_time": "2018-09-15T00:10:24.553530Z"
    }
   },
   "outputs": [
    {
     "data": {
      "text/plain": [
       "878049"
      ]
     },
     "execution_count": 40,
     "metadata": {},
     "output_type": "execute_result"
    }
   ],
   "source": [
    "len(train_df)"
   ]
  },
  {
   "cell_type": "code",
   "execution_count": 41,
   "metadata": {
    "ExecuteTime": {
     "end_time": "2018-09-15T00:10:24.757891Z",
     "start_time": "2018-09-15T00:10:24.560297Z"
    }
   },
   "outputs": [
    {
     "data": {
      "text/html": [
       "<div>\n",
       "<style scoped>\n",
       "    .dataframe tbody tr th:only-of-type {\n",
       "        vertical-align: middle;\n",
       "    }\n",
       "\n",
       "    .dataframe tbody tr th {\n",
       "        vertical-align: top;\n",
       "    }\n",
       "\n",
       "    .dataframe thead th {\n",
       "        text-align: right;\n",
       "    }\n",
       "</style>\n",
       "<table border=\"1\" class=\"dataframe\">\n",
       "  <thead>\n",
       "    <tr style=\"text-align: right;\">\n",
       "      <th></th>\n",
       "      <th>X</th>\n",
       "      <th>Y</th>\n",
       "    </tr>\n",
       "  </thead>\n",
       "  <tbody>\n",
       "    <tr>\n",
       "      <th>count</th>\n",
       "      <td>884262.000000</td>\n",
       "      <td>884262.000000</td>\n",
       "    </tr>\n",
       "    <tr>\n",
       "      <th>mean</th>\n",
       "      <td>-122.422860</td>\n",
       "      <td>37.766984</td>\n",
       "    </tr>\n",
       "    <tr>\n",
       "      <th>std</th>\n",
       "      <td>0.025348</td>\n",
       "      <td>0.024185</td>\n",
       "    </tr>\n",
       "    <tr>\n",
       "      <th>min</th>\n",
       "      <td>-122.544259</td>\n",
       "      <td>37.616884</td>\n",
       "    </tr>\n",
       "    <tr>\n",
       "      <th>25%</th>\n",
       "      <td>-122.433075</td>\n",
       "      <td>37.752357</td>\n",
       "    </tr>\n",
       "    <tr>\n",
       "      <th>50%</th>\n",
       "      <td>-122.416517</td>\n",
       "      <td>37.775421</td>\n",
       "    </tr>\n",
       "    <tr>\n",
       "      <th>75%</th>\n",
       "      <td>-122.406959</td>\n",
       "      <td>37.784353</td>\n",
       "    </tr>\n",
       "    <tr>\n",
       "      <th>max</th>\n",
       "      <td>-122.318053</td>\n",
       "      <td>37.859899</td>\n",
       "    </tr>\n",
       "  </tbody>\n",
       "</table>\n",
       "</div>"
      ],
      "text/plain": [
       "                   X              Y\n",
       "count  884262.000000  884262.000000\n",
       "mean     -122.422860      37.766984\n",
       "std         0.025348       0.024185\n",
       "min      -122.544259      37.616884\n",
       "25%      -122.433075      37.752357\n",
       "50%      -122.416517      37.775421\n",
       "75%      -122.406959      37.784353\n",
       "max      -122.318053      37.859899"
      ]
     },
     "execution_count": 41,
     "metadata": {},
     "output_type": "execute_result"
    }
   ],
   "source": [
    "test_df[['X', 'Y']].describe()"
   ]
  },
  {
   "cell_type": "code",
   "execution_count": 42,
   "metadata": {
    "ExecuteTime": {
     "end_time": "2018-09-15T00:10:24.765879Z",
     "start_time": "2018-09-15T00:10:24.760906Z"
    }
   },
   "outputs": [
    {
     "data": {
      "text/plain": [
       "884262"
      ]
     },
     "execution_count": 42,
     "metadata": {},
     "output_type": "execute_result"
    }
   ],
   "source": [
    "len(test_df)"
   ]
  },
  {
   "cell_type": "markdown",
   "metadata": {},
   "source": [
    "# Feature Engineering\n",
    "\n",
    "- Let's create some new features from the data that exists in the current feature space\n",
    "- There are a couple categories of features:\n",
    "    - Temporal features\n",
    "    - Spatial features"
   ]
  },
  {
   "cell_type": "markdown",
   "metadata": {},
   "source": [
    "## Temporal Features\n",
    "We want to have a column for Time, so we must parse through the 'Dates' feature to create the 'Time' feature\n"
   ]
  },
  {
   "cell_type": "code",
   "execution_count": 43,
   "metadata": {
    "ExecuteTime": {
     "end_time": "2018-09-15T00:10:25.274601Z",
     "start_time": "2018-09-15T00:10:24.768516Z"
    }
   },
   "outputs": [],
   "source": [
    "# Transform the Date into a python datetime object.\n",
    "train_df[\"Dates\"] = pd.to_datetime(train_df[\"Dates\"], format=\"%Y-%m-%d %H:%M:%S\")\n",
    "test_df[\"Dates\"] = pd.to_datetime(test_df[\"Dates\"], format=\"%Y-%m-%d %H:%M:%S\")"
   ]
  },
  {
   "cell_type": "code",
   "execution_count": 44,
   "metadata": {
    "ExecuteTime": {
     "end_time": "2018-09-15T00:10:31.564182Z",
     "start_time": "2018-09-15T00:10:25.277052Z"
    }
   },
   "outputs": [],
   "source": [
    "# Minute\n",
    "train_df[\"Minute\"] = train_df[\"Dates\"].map(lambda x: x.minute)\n",
    "test_df[\"Minute\"] = test_df[\"Dates\"].map(lambda x: x.minute)"
   ]
  },
  {
   "cell_type": "code",
   "execution_count": 45,
   "metadata": {
    "ExecuteTime": {
     "end_time": "2018-09-15T00:10:37.693960Z",
     "start_time": "2018-09-15T00:10:31.566084Z"
    }
   },
   "outputs": [],
   "source": [
    "# Hour\n",
    "train_df[\"Hour\"] = train_df[\"Dates\"].map(lambda x: x.hour)\n",
    "test_df[\"Hour\"] = test_df[\"Dates\"].map(lambda x: x.hour)"
   ]
  },
  {
   "cell_type": "code",
   "execution_count": 46,
   "metadata": {
    "ExecuteTime": {
     "end_time": "2018-09-15T00:10:43.874460Z",
     "start_time": "2018-09-15T00:10:37.696280Z"
    }
   },
   "outputs": [],
   "source": [
    "# Day\n",
    "train_df[\"Day\"] = train_df[\"Dates\"].map(lambda x: x.day)\n",
    "test_df[\"Day\"] = test_df[\"Dates\"].map(lambda x: x.day)"
   ]
  },
  {
   "cell_type": "code",
   "execution_count": 47,
   "metadata": {
    "ExecuteTime": {
     "end_time": "2018-09-15T00:10:49.946466Z",
     "start_time": "2018-09-15T00:10:43.876358Z"
    }
   },
   "outputs": [],
   "source": [
    "# Month\n",
    "train_df[\"Month\"] = train_df[\"Dates\"].map(lambda x: x.month)\n",
    "test_df[\"Month\"] = test_df[\"Dates\"].map(lambda x: x.month)"
   ]
  },
  {
   "cell_type": "code",
   "execution_count": 48,
   "metadata": {
    "ExecuteTime": {
     "end_time": "2018-09-15T00:10:55.794134Z",
     "start_time": "2018-09-15T00:10:49.948660Z"
    }
   },
   "outputs": [],
   "source": [
    "# Year\n",
    "train_df[\"Year\"] = train_df[\"Dates\"].map(lambda x: x.year)\n",
    "test_df[\"Year\"] = test_df[\"Dates\"].map(lambda x: x.year)"
   ]
  },
  {
   "cell_type": "code",
   "execution_count": 49,
   "metadata": {
    "ExecuteTime": {
     "end_time": "2018-09-15T00:10:56.787121Z",
     "start_time": "2018-09-15T00:10:55.796072Z"
    }
   },
   "outputs": [],
   "source": [
    "# Hour Zone 0 - Pass midnight, 1 - morning, 2 - afternoon, 3 - dinner / sun set, 4 - night\n",
    "def get_hour_zone(hour):\n",
    "    if hour >= 2 and hour < 8: \n",
    "        return 0\n",
    "    elif hour >= 8 and hour < 12: \n",
    "        return 1\n",
    "    elif hour >= 12 and hour < 18: \n",
    "        return 2\n",
    "    elif hour >= 18 and hour < 22: \n",
    "        return 3\n",
    "    elif hour < 2 or hour >= 22: \n",
    "        return 4\n",
    "    \n",
    "train_df[\"Hour_Zone\"] = train_df[\"Hour\"].map(get_hour_zone)\n",
    "test_df[\"Hour_Zone\"] = test_df[\"Hour\"].map(get_hour_zone)"
   ]
  },
  {
   "cell_type": "code",
   "execution_count": 50,
   "metadata": {
    "ExecuteTime": {
     "end_time": "2018-09-15T00:11:03.922991Z",
     "start_time": "2018-09-15T00:10:56.789255Z"
    }
   },
   "outputs": [
    {
     "name": "stdout",
     "output_type": "stream",
     "text": [
      "[0, 1, 2, 3, 4, 5, 6, 7, 8, 9, 10, 11, 12, 13, 14, 15, 16, 17, 18, 19, 20, 21, 22, 23, 24, 25]\n",
      "[0, 1, 2, 3, 4, 5, 6, 7, 8, 9, 10, 11, 12, 13, 14, 15, 16, 17, 18, 19, 20, 21, 22, 23, 24, 25, 26]\n"
     ]
    }
   ],
   "source": [
    "# Add Week of Year\n",
    "train_df[\"WeekOfYear\"] = train_df[\"Dates\"].map(lambda x: int(x.weekofyear / 2) - 1)\n",
    "test_df[\"WeekOfYear\"] = test_df[\"Dates\"].map(lambda x: int(x.weekofyear / 2))\n",
    "\n",
    "print(sorted(train_df['WeekOfYear'].unique()))\n",
    "print(sorted(test_df['WeekOfYear'].unique()))"
   ]
  },
  {
   "cell_type": "code",
   "execution_count": 51,
   "metadata": {
    "ExecuteTime": {
     "end_time": "2018-09-15T00:11:03.944540Z",
     "start_time": "2018-09-15T00:11:03.925176Z"
    }
   },
   "outputs": [
    {
     "data": {
      "text/html": [
       "<div>\n",
       "<style scoped>\n",
       "    .dataframe tbody tr th:only-of-type {\n",
       "        vertical-align: middle;\n",
       "    }\n",
       "\n",
       "    .dataframe tbody tr th {\n",
       "        vertical-align: top;\n",
       "    }\n",
       "\n",
       "    .dataframe thead th {\n",
       "        text-align: right;\n",
       "    }\n",
       "</style>\n",
       "<table border=\"1\" class=\"dataframe\">\n",
       "  <thead>\n",
       "    <tr style=\"text-align: right;\">\n",
       "      <th></th>\n",
       "      <th>Dates</th>\n",
       "      <th>Category</th>\n",
       "      <th>Descript</th>\n",
       "      <th>DayOfWeek</th>\n",
       "      <th>PdDistrict</th>\n",
       "      <th>Resolution</th>\n",
       "      <th>Address</th>\n",
       "      <th>X</th>\n",
       "      <th>Y</th>\n",
       "      <th>Minute</th>\n",
       "      <th>Hour</th>\n",
       "      <th>Day</th>\n",
       "      <th>Month</th>\n",
       "      <th>Year</th>\n",
       "      <th>Hour_Zone</th>\n",
       "      <th>WeekOfYear</th>\n",
       "    </tr>\n",
       "  </thead>\n",
       "  <tbody>\n",
       "    <tr>\n",
       "      <th>0</th>\n",
       "      <td>2015-05-13 23:53:00</td>\n",
       "      <td>WARRANTS</td>\n",
       "      <td>WARRANT ARREST</td>\n",
       "      <td>Wednesday</td>\n",
       "      <td>NORTHERN</td>\n",
       "      <td>ARREST, BOOKED</td>\n",
       "      <td>OAK ST / LAGUNA ST</td>\n",
       "      <td>-122.425892</td>\n",
       "      <td>37.774599</td>\n",
       "      <td>53</td>\n",
       "      <td>23</td>\n",
       "      <td>13</td>\n",
       "      <td>5</td>\n",
       "      <td>2015</td>\n",
       "      <td>4</td>\n",
       "      <td>9</td>\n",
       "    </tr>\n",
       "    <tr>\n",
       "      <th>1</th>\n",
       "      <td>2015-05-13 23:53:00</td>\n",
       "      <td>OTHER OFFENSES</td>\n",
       "      <td>TRAFFIC VIOLATION ARREST</td>\n",
       "      <td>Wednesday</td>\n",
       "      <td>NORTHERN</td>\n",
       "      <td>ARREST, BOOKED</td>\n",
       "      <td>OAK ST / LAGUNA ST</td>\n",
       "      <td>-122.425892</td>\n",
       "      <td>37.774599</td>\n",
       "      <td>53</td>\n",
       "      <td>23</td>\n",
       "      <td>13</td>\n",
       "      <td>5</td>\n",
       "      <td>2015</td>\n",
       "      <td>4</td>\n",
       "      <td>9</td>\n",
       "    </tr>\n",
       "    <tr>\n",
       "      <th>2</th>\n",
       "      <td>2015-05-13 23:33:00</td>\n",
       "      <td>OTHER OFFENSES</td>\n",
       "      <td>TRAFFIC VIOLATION ARREST</td>\n",
       "      <td>Wednesday</td>\n",
       "      <td>NORTHERN</td>\n",
       "      <td>ARREST, BOOKED</td>\n",
       "      <td>VANNESS AV / GREENWICH ST</td>\n",
       "      <td>-122.424363</td>\n",
       "      <td>37.800414</td>\n",
       "      <td>33</td>\n",
       "      <td>23</td>\n",
       "      <td>13</td>\n",
       "      <td>5</td>\n",
       "      <td>2015</td>\n",
       "      <td>4</td>\n",
       "      <td>9</td>\n",
       "    </tr>\n",
       "    <tr>\n",
       "      <th>3</th>\n",
       "      <td>2015-05-13 23:30:00</td>\n",
       "      <td>LARCENY/THEFT</td>\n",
       "      <td>GRAND THEFT FROM LOCKED AUTO</td>\n",
       "      <td>Wednesday</td>\n",
       "      <td>NORTHERN</td>\n",
       "      <td>NONE</td>\n",
       "      <td>1500 Block of LOMBARD ST</td>\n",
       "      <td>-122.426995</td>\n",
       "      <td>37.800873</td>\n",
       "      <td>30</td>\n",
       "      <td>23</td>\n",
       "      <td>13</td>\n",
       "      <td>5</td>\n",
       "      <td>2015</td>\n",
       "      <td>4</td>\n",
       "      <td>9</td>\n",
       "    </tr>\n",
       "    <tr>\n",
       "      <th>4</th>\n",
       "      <td>2015-05-13 23:30:00</td>\n",
       "      <td>LARCENY/THEFT</td>\n",
       "      <td>GRAND THEFT FROM LOCKED AUTO</td>\n",
       "      <td>Wednesday</td>\n",
       "      <td>PARK</td>\n",
       "      <td>NONE</td>\n",
       "      <td>100 Block of BRODERICK ST</td>\n",
       "      <td>-122.438738</td>\n",
       "      <td>37.771541</td>\n",
       "      <td>30</td>\n",
       "      <td>23</td>\n",
       "      <td>13</td>\n",
       "      <td>5</td>\n",
       "      <td>2015</td>\n",
       "      <td>4</td>\n",
       "      <td>9</td>\n",
       "    </tr>\n",
       "  </tbody>\n",
       "</table>\n",
       "</div>"
      ],
      "text/plain": [
       "                Dates        Category                      Descript  \\\n",
       "0 2015-05-13 23:53:00        WARRANTS                WARRANT ARREST   \n",
       "1 2015-05-13 23:53:00  OTHER OFFENSES      TRAFFIC VIOLATION ARREST   \n",
       "2 2015-05-13 23:33:00  OTHER OFFENSES      TRAFFIC VIOLATION ARREST   \n",
       "3 2015-05-13 23:30:00   LARCENY/THEFT  GRAND THEFT FROM LOCKED AUTO   \n",
       "4 2015-05-13 23:30:00   LARCENY/THEFT  GRAND THEFT FROM LOCKED AUTO   \n",
       "\n",
       "   DayOfWeek PdDistrict      Resolution                    Address  \\\n",
       "0  Wednesday   NORTHERN  ARREST, BOOKED         OAK ST / LAGUNA ST   \n",
       "1  Wednesday   NORTHERN  ARREST, BOOKED         OAK ST / LAGUNA ST   \n",
       "2  Wednesday   NORTHERN  ARREST, BOOKED  VANNESS AV / GREENWICH ST   \n",
       "3  Wednesday   NORTHERN            NONE   1500 Block of LOMBARD ST   \n",
       "4  Wednesday       PARK            NONE  100 Block of BRODERICK ST   \n",
       "\n",
       "            X          Y  Minute  Hour  Day  Month  Year  Hour_Zone  \\\n",
       "0 -122.425892  37.774599      53    23   13      5  2015          4   \n",
       "1 -122.425892  37.774599      53    23   13      5  2015          4   \n",
       "2 -122.424363  37.800414      33    23   13      5  2015          4   \n",
       "3 -122.426995  37.800873      30    23   13      5  2015          4   \n",
       "4 -122.438738  37.771541      30    23   13      5  2015          4   \n",
       "\n",
       "   WeekOfYear  \n",
       "0           9  \n",
       "1           9  \n",
       "2           9  \n",
       "3           9  \n",
       "4           9  "
      ]
     },
     "execution_count": 51,
     "metadata": {},
     "output_type": "execute_result"
    }
   ],
   "source": [
    "train_df.head()"
   ]
  },
  {
   "cell_type": "markdown",
   "metadata": {},
   "source": [
    "### Holiday Feature\n",
    "\n",
    "- Certain crimes may be more apparent on holidays"
   ]
  },
  {
   "cell_type": "code",
   "execution_count": 52,
   "metadata": {
    "ExecuteTime": {
     "end_time": "2018-09-15T00:11:04.369855Z",
     "start_time": "2018-09-15T00:11:03.946433Z"
    }
   },
   "outputs": [],
   "source": [
    "from pandas.tseries.holiday import USFederalHolidayCalendar as calendar\n",
    "\n",
    "# Training set\n",
    "cal = calendar()\n",
    "holidays = cal.holidays(start=train_df['Dates'].min(), end=train_df['Dates'].max())\n",
    "train_df['Holiday'] = train_df['Dates'].dt.date.astype('datetime64').isin(holidays)"
   ]
  },
  {
   "cell_type": "code",
   "execution_count": 53,
   "metadata": {
    "ExecuteTime": {
     "end_time": "2018-09-15T00:11:04.784067Z",
     "start_time": "2018-09-15T00:11:04.372197Z"
    }
   },
   "outputs": [],
   "source": [
    "# Test set\n",
    "cal = calendar()\n",
    "holidays = cal.holidays(start=test_df['Dates'].min(), end=test_df['Dates'].max())\n",
    "test_df['Holiday'] = test_df['Dates'].dt.date.astype('datetime64').isin(holidays)"
   ]
  },
  {
   "cell_type": "code",
   "execution_count": 54,
   "metadata": {
    "ExecuteTime": {
     "end_time": "2018-09-15T00:11:04.885777Z",
     "start_time": "2018-09-15T00:11:04.786072Z"
    }
   },
   "outputs": [
    {
     "data": {
      "text/plain": [
       "25653"
      ]
     },
     "execution_count": 54,
     "metadata": {},
     "output_type": "execute_result"
    }
   ],
   "source": [
    "len(train_df[train_df['Holiday'] == True])"
   ]
  },
  {
   "cell_type": "code",
   "execution_count": 55,
   "metadata": {
    "ExecuteTime": {
     "end_time": "2018-09-15T00:11:04.993193Z",
     "start_time": "2018-09-15T00:11:04.888127Z"
    }
   },
   "outputs": [
    {
     "data": {
      "text/plain": [
       "18316"
      ]
     },
     "execution_count": 55,
     "metadata": {},
     "output_type": "execute_result"
    }
   ],
   "source": [
    "len(test_df[test_df['Holiday'] == True])"
   ]
  },
  {
   "cell_type": "markdown",
   "metadata": {},
   "source": [
    "### Business Hours Feature\n",
    "\n",
    "- There should be an effect of business hours on the type of crime committed\n",
    "- Let's create a binary feature where:\n",
    "    - 1 is typical business hours [8:00AM - 6:00PM]\n",
    "    - 0 is not business hours [6:01PM - 7:59 AM]"
   ]
  },
  {
   "cell_type": "code",
   "execution_count": 56,
   "metadata": {
    "ExecuteTime": {
     "end_time": "2018-09-15T00:11:12.059178Z",
     "start_time": "2018-09-15T00:11:04.995075Z"
    }
   },
   "outputs": [],
   "source": [
    "from datetime import datetime, time\n",
    "\n",
    "def time_in_range(start, end, x):\n",
    "    \"\"\"Return true if x is in the inclusive range [start, end]\"\"\"\n",
    "    if start <= end:\n",
    "        return start <= x <= end\n",
    "    else:\n",
    "        return start <= x or x <= end\n",
    "\n",
    "def map_business_hours(date):\n",
    "    \n",
    "    # Convert military time to AM & PM\n",
    "    time_parsed = date.time()\n",
    "    business_start = time(8, 0, 0)\n",
    "    business_end = time(18, 0, 0)\n",
    "    \n",
    "    if time_in_range(business_start, business_end, time_parsed):\n",
    "        return 1\n",
    "    else:\n",
    "        return 0\n",
    "    \n",
    "train_df['BusinessHour'] = train_df['Dates'].map(map_business_hours).astype('uint8')\n",
    "test_df['BusinessHour'] = test_df['Dates'].map(map_business_hours).astype('uint8')"
   ]
  },
  {
   "cell_type": "code",
   "execution_count": 57,
   "metadata": {
    "ExecuteTime": {
     "end_time": "2018-09-15T00:11:12.078593Z",
     "start_time": "2018-09-15T00:11:12.061166Z"
    }
   },
   "outputs": [
    {
     "data": {
      "text/plain": [
       "1    455215\n",
       "0    422834\n",
       "Name: BusinessHour, dtype: int64"
      ]
     },
     "execution_count": 57,
     "metadata": {},
     "output_type": "execute_result"
    }
   ],
   "source": [
    "train_df['BusinessHour'].value_counts()"
   ]
  },
  {
   "cell_type": "code",
   "execution_count": 58,
   "metadata": {
    "ExecuteTime": {
     "end_time": "2018-09-15T00:11:12.102491Z",
     "start_time": "2018-09-15T00:11:12.082130Z"
    }
   },
   "outputs": [
    {
     "data": {
      "text/html": [
       "<div>\n",
       "<style scoped>\n",
       "    .dataframe tbody tr th:only-of-type {\n",
       "        vertical-align: middle;\n",
       "    }\n",
       "\n",
       "    .dataframe tbody tr th {\n",
       "        vertical-align: top;\n",
       "    }\n",
       "\n",
       "    .dataframe thead th {\n",
       "        text-align: right;\n",
       "    }\n",
       "</style>\n",
       "<table border=\"1\" class=\"dataframe\">\n",
       "  <thead>\n",
       "    <tr style=\"text-align: right;\">\n",
       "      <th></th>\n",
       "      <th>Dates</th>\n",
       "      <th>Category</th>\n",
       "      <th>Descript</th>\n",
       "      <th>DayOfWeek</th>\n",
       "      <th>PdDistrict</th>\n",
       "      <th>Resolution</th>\n",
       "      <th>Address</th>\n",
       "      <th>X</th>\n",
       "      <th>Y</th>\n",
       "      <th>Minute</th>\n",
       "      <th>Hour</th>\n",
       "      <th>Day</th>\n",
       "      <th>Month</th>\n",
       "      <th>Year</th>\n",
       "      <th>Hour_Zone</th>\n",
       "      <th>WeekOfYear</th>\n",
       "      <th>Holiday</th>\n",
       "      <th>BusinessHour</th>\n",
       "    </tr>\n",
       "  </thead>\n",
       "  <tbody>\n",
       "    <tr>\n",
       "      <th>0</th>\n",
       "      <td>2015-05-13 23:53:00</td>\n",
       "      <td>WARRANTS</td>\n",
       "      <td>WARRANT ARREST</td>\n",
       "      <td>Wednesday</td>\n",
       "      <td>NORTHERN</td>\n",
       "      <td>ARREST, BOOKED</td>\n",
       "      <td>OAK ST / LAGUNA ST</td>\n",
       "      <td>-122.425892</td>\n",
       "      <td>37.774599</td>\n",
       "      <td>53</td>\n",
       "      <td>23</td>\n",
       "      <td>13</td>\n",
       "      <td>5</td>\n",
       "      <td>2015</td>\n",
       "      <td>4</td>\n",
       "      <td>9</td>\n",
       "      <td>False</td>\n",
       "      <td>0</td>\n",
       "    </tr>\n",
       "    <tr>\n",
       "      <th>1</th>\n",
       "      <td>2015-05-13 23:53:00</td>\n",
       "      <td>OTHER OFFENSES</td>\n",
       "      <td>TRAFFIC VIOLATION ARREST</td>\n",
       "      <td>Wednesday</td>\n",
       "      <td>NORTHERN</td>\n",
       "      <td>ARREST, BOOKED</td>\n",
       "      <td>OAK ST / LAGUNA ST</td>\n",
       "      <td>-122.425892</td>\n",
       "      <td>37.774599</td>\n",
       "      <td>53</td>\n",
       "      <td>23</td>\n",
       "      <td>13</td>\n",
       "      <td>5</td>\n",
       "      <td>2015</td>\n",
       "      <td>4</td>\n",
       "      <td>9</td>\n",
       "      <td>False</td>\n",
       "      <td>0</td>\n",
       "    </tr>\n",
       "    <tr>\n",
       "      <th>2</th>\n",
       "      <td>2015-05-13 23:33:00</td>\n",
       "      <td>OTHER OFFENSES</td>\n",
       "      <td>TRAFFIC VIOLATION ARREST</td>\n",
       "      <td>Wednesday</td>\n",
       "      <td>NORTHERN</td>\n",
       "      <td>ARREST, BOOKED</td>\n",
       "      <td>VANNESS AV / GREENWICH ST</td>\n",
       "      <td>-122.424363</td>\n",
       "      <td>37.800414</td>\n",
       "      <td>33</td>\n",
       "      <td>23</td>\n",
       "      <td>13</td>\n",
       "      <td>5</td>\n",
       "      <td>2015</td>\n",
       "      <td>4</td>\n",
       "      <td>9</td>\n",
       "      <td>False</td>\n",
       "      <td>0</td>\n",
       "    </tr>\n",
       "    <tr>\n",
       "      <th>3</th>\n",
       "      <td>2015-05-13 23:30:00</td>\n",
       "      <td>LARCENY/THEFT</td>\n",
       "      <td>GRAND THEFT FROM LOCKED AUTO</td>\n",
       "      <td>Wednesday</td>\n",
       "      <td>NORTHERN</td>\n",
       "      <td>NONE</td>\n",
       "      <td>1500 Block of LOMBARD ST</td>\n",
       "      <td>-122.426995</td>\n",
       "      <td>37.800873</td>\n",
       "      <td>30</td>\n",
       "      <td>23</td>\n",
       "      <td>13</td>\n",
       "      <td>5</td>\n",
       "      <td>2015</td>\n",
       "      <td>4</td>\n",
       "      <td>9</td>\n",
       "      <td>False</td>\n",
       "      <td>0</td>\n",
       "    </tr>\n",
       "    <tr>\n",
       "      <th>4</th>\n",
       "      <td>2015-05-13 23:30:00</td>\n",
       "      <td>LARCENY/THEFT</td>\n",
       "      <td>GRAND THEFT FROM LOCKED AUTO</td>\n",
       "      <td>Wednesday</td>\n",
       "      <td>PARK</td>\n",
       "      <td>NONE</td>\n",
       "      <td>100 Block of BRODERICK ST</td>\n",
       "      <td>-122.438738</td>\n",
       "      <td>37.771541</td>\n",
       "      <td>30</td>\n",
       "      <td>23</td>\n",
       "      <td>13</td>\n",
       "      <td>5</td>\n",
       "      <td>2015</td>\n",
       "      <td>4</td>\n",
       "      <td>9</td>\n",
       "      <td>False</td>\n",
       "      <td>0</td>\n",
       "    </tr>\n",
       "    <tr>\n",
       "      <th>5</th>\n",
       "      <td>2015-05-13 23:30:00</td>\n",
       "      <td>LARCENY/THEFT</td>\n",
       "      <td>GRAND THEFT FROM UNLOCKED AUTO</td>\n",
       "      <td>Wednesday</td>\n",
       "      <td>INGLESIDE</td>\n",
       "      <td>NONE</td>\n",
       "      <td>0 Block of TEDDY AV</td>\n",
       "      <td>-122.403252</td>\n",
       "      <td>37.713431</td>\n",
       "      <td>30</td>\n",
       "      <td>23</td>\n",
       "      <td>13</td>\n",
       "      <td>5</td>\n",
       "      <td>2015</td>\n",
       "      <td>4</td>\n",
       "      <td>9</td>\n",
       "      <td>False</td>\n",
       "      <td>0</td>\n",
       "    </tr>\n",
       "    <tr>\n",
       "      <th>6</th>\n",
       "      <td>2015-05-13 23:30:00</td>\n",
       "      <td>VEHICLE THEFT</td>\n",
       "      <td>STOLEN AUTOMOBILE</td>\n",
       "      <td>Wednesday</td>\n",
       "      <td>INGLESIDE</td>\n",
       "      <td>NONE</td>\n",
       "      <td>AVALON AV / PERU AV</td>\n",
       "      <td>-122.423327</td>\n",
       "      <td>37.725138</td>\n",
       "      <td>30</td>\n",
       "      <td>23</td>\n",
       "      <td>13</td>\n",
       "      <td>5</td>\n",
       "      <td>2015</td>\n",
       "      <td>4</td>\n",
       "      <td>9</td>\n",
       "      <td>False</td>\n",
       "      <td>0</td>\n",
       "    </tr>\n",
       "    <tr>\n",
       "      <th>7</th>\n",
       "      <td>2015-05-13 23:30:00</td>\n",
       "      <td>VEHICLE THEFT</td>\n",
       "      <td>STOLEN AUTOMOBILE</td>\n",
       "      <td>Wednesday</td>\n",
       "      <td>BAYVIEW</td>\n",
       "      <td>NONE</td>\n",
       "      <td>KIRKWOOD AV / DONAHUE ST</td>\n",
       "      <td>-122.371274</td>\n",
       "      <td>37.727564</td>\n",
       "      <td>30</td>\n",
       "      <td>23</td>\n",
       "      <td>13</td>\n",
       "      <td>5</td>\n",
       "      <td>2015</td>\n",
       "      <td>4</td>\n",
       "      <td>9</td>\n",
       "      <td>False</td>\n",
       "      <td>0</td>\n",
       "    </tr>\n",
       "    <tr>\n",
       "      <th>8</th>\n",
       "      <td>2015-05-13 23:00:00</td>\n",
       "      <td>LARCENY/THEFT</td>\n",
       "      <td>GRAND THEFT FROM LOCKED AUTO</td>\n",
       "      <td>Wednesday</td>\n",
       "      <td>RICHMOND</td>\n",
       "      <td>NONE</td>\n",
       "      <td>600 Block of 47TH AV</td>\n",
       "      <td>-122.508194</td>\n",
       "      <td>37.776601</td>\n",
       "      <td>0</td>\n",
       "      <td>23</td>\n",
       "      <td>13</td>\n",
       "      <td>5</td>\n",
       "      <td>2015</td>\n",
       "      <td>4</td>\n",
       "      <td>9</td>\n",
       "      <td>False</td>\n",
       "      <td>0</td>\n",
       "    </tr>\n",
       "    <tr>\n",
       "      <th>9</th>\n",
       "      <td>2015-05-13 23:00:00</td>\n",
       "      <td>LARCENY/THEFT</td>\n",
       "      <td>GRAND THEFT FROM LOCKED AUTO</td>\n",
       "      <td>Wednesday</td>\n",
       "      <td>CENTRAL</td>\n",
       "      <td>NONE</td>\n",
       "      <td>JEFFERSON ST / LEAVENWORTH ST</td>\n",
       "      <td>-122.419088</td>\n",
       "      <td>37.807802</td>\n",
       "      <td>0</td>\n",
       "      <td>23</td>\n",
       "      <td>13</td>\n",
       "      <td>5</td>\n",
       "      <td>2015</td>\n",
       "      <td>4</td>\n",
       "      <td>9</td>\n",
       "      <td>False</td>\n",
       "      <td>0</td>\n",
       "    </tr>\n",
       "  </tbody>\n",
       "</table>\n",
       "</div>"
      ],
      "text/plain": [
       "                Dates        Category                        Descript  \\\n",
       "0 2015-05-13 23:53:00        WARRANTS                  WARRANT ARREST   \n",
       "1 2015-05-13 23:53:00  OTHER OFFENSES        TRAFFIC VIOLATION ARREST   \n",
       "2 2015-05-13 23:33:00  OTHER OFFENSES        TRAFFIC VIOLATION ARREST   \n",
       "3 2015-05-13 23:30:00   LARCENY/THEFT    GRAND THEFT FROM LOCKED AUTO   \n",
       "4 2015-05-13 23:30:00   LARCENY/THEFT    GRAND THEFT FROM LOCKED AUTO   \n",
       "5 2015-05-13 23:30:00   LARCENY/THEFT  GRAND THEFT FROM UNLOCKED AUTO   \n",
       "6 2015-05-13 23:30:00   VEHICLE THEFT               STOLEN AUTOMOBILE   \n",
       "7 2015-05-13 23:30:00   VEHICLE THEFT               STOLEN AUTOMOBILE   \n",
       "8 2015-05-13 23:00:00   LARCENY/THEFT    GRAND THEFT FROM LOCKED AUTO   \n",
       "9 2015-05-13 23:00:00   LARCENY/THEFT    GRAND THEFT FROM LOCKED AUTO   \n",
       "\n",
       "   DayOfWeek PdDistrict      Resolution                        Address  \\\n",
       "0  Wednesday   NORTHERN  ARREST, BOOKED             OAK ST / LAGUNA ST   \n",
       "1  Wednesday   NORTHERN  ARREST, BOOKED             OAK ST / LAGUNA ST   \n",
       "2  Wednesday   NORTHERN  ARREST, BOOKED      VANNESS AV / GREENWICH ST   \n",
       "3  Wednesday   NORTHERN            NONE       1500 Block of LOMBARD ST   \n",
       "4  Wednesday       PARK            NONE      100 Block of BRODERICK ST   \n",
       "5  Wednesday  INGLESIDE            NONE            0 Block of TEDDY AV   \n",
       "6  Wednesday  INGLESIDE            NONE            AVALON AV / PERU AV   \n",
       "7  Wednesday    BAYVIEW            NONE       KIRKWOOD AV / DONAHUE ST   \n",
       "8  Wednesday   RICHMOND            NONE           600 Block of 47TH AV   \n",
       "9  Wednesday    CENTRAL            NONE  JEFFERSON ST / LEAVENWORTH ST   \n",
       "\n",
       "            X          Y  Minute  Hour  Day  Month  Year  Hour_Zone  \\\n",
       "0 -122.425892  37.774599      53    23   13      5  2015          4   \n",
       "1 -122.425892  37.774599      53    23   13      5  2015          4   \n",
       "2 -122.424363  37.800414      33    23   13      5  2015          4   \n",
       "3 -122.426995  37.800873      30    23   13      5  2015          4   \n",
       "4 -122.438738  37.771541      30    23   13      5  2015          4   \n",
       "5 -122.403252  37.713431      30    23   13      5  2015          4   \n",
       "6 -122.423327  37.725138      30    23   13      5  2015          4   \n",
       "7 -122.371274  37.727564      30    23   13      5  2015          4   \n",
       "8 -122.508194  37.776601       0    23   13      5  2015          4   \n",
       "9 -122.419088  37.807802       0    23   13      5  2015          4   \n",
       "\n",
       "   WeekOfYear  Holiday  BusinessHour  \n",
       "0           9    False             0  \n",
       "1           9    False             0  \n",
       "2           9    False             0  \n",
       "3           9    False             0  \n",
       "4           9    False             0  \n",
       "5           9    False             0  \n",
       "6           9    False             0  \n",
       "7           9    False             0  \n",
       "8           9    False             0  \n",
       "9           9    False             0  "
      ]
     },
     "execution_count": 58,
     "metadata": {},
     "output_type": "execute_result"
    }
   ],
   "source": [
    "train_df.head(10)"
   ]
  },
  {
   "cell_type": "markdown",
   "metadata": {},
   "source": [
    "### Business Quarter (Removed)\n",
    "\n",
    "- Business Quarter might have an effect on what types of crimes are commited\n",
    "- Q1 = 1 (Jan. - March) Q2 = 2 (April - June), Q3 = 3 (July - Sept.), Q4 = 4 (Oct. - Dec.)"
   ]
  },
  {
   "cell_type": "code",
   "execution_count": 59,
   "metadata": {
    "ExecuteTime": {
     "end_time": "2018-09-15T00:11:12.108233Z",
     "start_time": "2018-09-15T00:11:12.104172Z"
    }
   },
   "outputs": [],
   "source": [
    "# def map_business_quarter(month):\n",
    "    \n",
    "#     if month in [1, 2, 3]:\n",
    "# #         print(time_parsed)\n",
    "#         return 1\n",
    "#     elif month in [4, 5, 6]:\n",
    "#         return 2\n",
    "#     elif month in [7, 8, 9]:\n",
    "#         return 3\n",
    "#     elif month in [10, 11, 12]:\n",
    "#         return 4\n",
    "    \n",
    "# train_df['Quarter'] = train_df['Month'].map(map_business_quarter)\n",
    "# test_df['Quarter'] = test_df['Month'].map(map_business_quarter)"
   ]
  },
  {
   "cell_type": "code",
   "execution_count": 60,
   "metadata": {
    "ExecuteTime": {
     "end_time": "2018-09-15T00:11:12.113726Z",
     "start_time": "2018-09-15T00:11:12.110576Z"
    }
   },
   "outputs": [],
   "source": [
    "# train_df['Quarter'].value_counts()"
   ]
  },
  {
   "cell_type": "code",
   "execution_count": 61,
   "metadata": {
    "ExecuteTime": {
     "end_time": "2018-09-15T00:11:12.119440Z",
     "start_time": "2018-09-15T00:11:12.116998Z"
    }
   },
   "outputs": [],
   "source": [
    "# train_df.head(10)"
   ]
  },
  {
   "cell_type": "markdown",
   "metadata": {},
   "source": [
    "### Season\n",
    "\n",
    "The season feature may affect what type of crimes are commited. \n",
    "- 1 = Winter, 2 = Spring, 3 = Summer, 4 = Fall"
   ]
  },
  {
   "cell_type": "code",
   "execution_count": 62,
   "metadata": {
    "ExecuteTime": {
     "end_time": "2018-09-15T00:11:12.174037Z",
     "start_time": "2018-09-15T00:11:12.121921Z"
    }
   },
   "outputs": [],
   "source": [
    "train_df['Season']=(train_df['Month']%12 + 3)//3\n",
    "test_df['Season']=(test_df['Month']%12 + 3)//3"
   ]
  },
  {
   "cell_type": "code",
   "execution_count": 63,
   "metadata": {
    "ExecuteTime": {
     "end_time": "2018-09-15T00:11:12.193165Z",
     "start_time": "2018-09-15T00:11:12.175930Z"
    }
   },
   "outputs": [
    {
     "data": {
      "text/html": [
       "<div>\n",
       "<style scoped>\n",
       "    .dataframe tbody tr th:only-of-type {\n",
       "        vertical-align: middle;\n",
       "    }\n",
       "\n",
       "    .dataframe tbody tr th {\n",
       "        vertical-align: top;\n",
       "    }\n",
       "\n",
       "    .dataframe thead th {\n",
       "        text-align: right;\n",
       "    }\n",
       "</style>\n",
       "<table border=\"1\" class=\"dataframe\">\n",
       "  <thead>\n",
       "    <tr style=\"text-align: right;\">\n",
       "      <th></th>\n",
       "      <th>Dates</th>\n",
       "      <th>Category</th>\n",
       "      <th>Descript</th>\n",
       "      <th>DayOfWeek</th>\n",
       "      <th>PdDistrict</th>\n",
       "      <th>Resolution</th>\n",
       "      <th>Address</th>\n",
       "      <th>X</th>\n",
       "      <th>Y</th>\n",
       "      <th>Minute</th>\n",
       "      <th>Hour</th>\n",
       "      <th>Day</th>\n",
       "      <th>Month</th>\n",
       "      <th>Year</th>\n",
       "      <th>Hour_Zone</th>\n",
       "      <th>WeekOfYear</th>\n",
       "      <th>Holiday</th>\n",
       "      <th>BusinessHour</th>\n",
       "      <th>Season</th>\n",
       "    </tr>\n",
       "  </thead>\n",
       "  <tbody>\n",
       "    <tr>\n",
       "      <th>0</th>\n",
       "      <td>2015-05-13 23:53:00</td>\n",
       "      <td>WARRANTS</td>\n",
       "      <td>WARRANT ARREST</td>\n",
       "      <td>Wednesday</td>\n",
       "      <td>NORTHERN</td>\n",
       "      <td>ARREST, BOOKED</td>\n",
       "      <td>OAK ST / LAGUNA ST</td>\n",
       "      <td>-122.425892</td>\n",
       "      <td>37.774599</td>\n",
       "      <td>53</td>\n",
       "      <td>23</td>\n",
       "      <td>13</td>\n",
       "      <td>5</td>\n",
       "      <td>2015</td>\n",
       "      <td>4</td>\n",
       "      <td>9</td>\n",
       "      <td>False</td>\n",
       "      <td>0</td>\n",
       "      <td>2</td>\n",
       "    </tr>\n",
       "    <tr>\n",
       "      <th>1</th>\n",
       "      <td>2015-05-13 23:53:00</td>\n",
       "      <td>OTHER OFFENSES</td>\n",
       "      <td>TRAFFIC VIOLATION ARREST</td>\n",
       "      <td>Wednesday</td>\n",
       "      <td>NORTHERN</td>\n",
       "      <td>ARREST, BOOKED</td>\n",
       "      <td>OAK ST / LAGUNA ST</td>\n",
       "      <td>-122.425892</td>\n",
       "      <td>37.774599</td>\n",
       "      <td>53</td>\n",
       "      <td>23</td>\n",
       "      <td>13</td>\n",
       "      <td>5</td>\n",
       "      <td>2015</td>\n",
       "      <td>4</td>\n",
       "      <td>9</td>\n",
       "      <td>False</td>\n",
       "      <td>0</td>\n",
       "      <td>2</td>\n",
       "    </tr>\n",
       "    <tr>\n",
       "      <th>2</th>\n",
       "      <td>2015-05-13 23:33:00</td>\n",
       "      <td>OTHER OFFENSES</td>\n",
       "      <td>TRAFFIC VIOLATION ARREST</td>\n",
       "      <td>Wednesday</td>\n",
       "      <td>NORTHERN</td>\n",
       "      <td>ARREST, BOOKED</td>\n",
       "      <td>VANNESS AV / GREENWICH ST</td>\n",
       "      <td>-122.424363</td>\n",
       "      <td>37.800414</td>\n",
       "      <td>33</td>\n",
       "      <td>23</td>\n",
       "      <td>13</td>\n",
       "      <td>5</td>\n",
       "      <td>2015</td>\n",
       "      <td>4</td>\n",
       "      <td>9</td>\n",
       "      <td>False</td>\n",
       "      <td>0</td>\n",
       "      <td>2</td>\n",
       "    </tr>\n",
       "    <tr>\n",
       "      <th>3</th>\n",
       "      <td>2015-05-13 23:30:00</td>\n",
       "      <td>LARCENY/THEFT</td>\n",
       "      <td>GRAND THEFT FROM LOCKED AUTO</td>\n",
       "      <td>Wednesday</td>\n",
       "      <td>NORTHERN</td>\n",
       "      <td>NONE</td>\n",
       "      <td>1500 Block of LOMBARD ST</td>\n",
       "      <td>-122.426995</td>\n",
       "      <td>37.800873</td>\n",
       "      <td>30</td>\n",
       "      <td>23</td>\n",
       "      <td>13</td>\n",
       "      <td>5</td>\n",
       "      <td>2015</td>\n",
       "      <td>4</td>\n",
       "      <td>9</td>\n",
       "      <td>False</td>\n",
       "      <td>0</td>\n",
       "      <td>2</td>\n",
       "    </tr>\n",
       "    <tr>\n",
       "      <th>4</th>\n",
       "      <td>2015-05-13 23:30:00</td>\n",
       "      <td>LARCENY/THEFT</td>\n",
       "      <td>GRAND THEFT FROM LOCKED AUTO</td>\n",
       "      <td>Wednesday</td>\n",
       "      <td>PARK</td>\n",
       "      <td>NONE</td>\n",
       "      <td>100 Block of BRODERICK ST</td>\n",
       "      <td>-122.438738</td>\n",
       "      <td>37.771541</td>\n",
       "      <td>30</td>\n",
       "      <td>23</td>\n",
       "      <td>13</td>\n",
       "      <td>5</td>\n",
       "      <td>2015</td>\n",
       "      <td>4</td>\n",
       "      <td>9</td>\n",
       "      <td>False</td>\n",
       "      <td>0</td>\n",
       "      <td>2</td>\n",
       "    </tr>\n",
       "  </tbody>\n",
       "</table>\n",
       "</div>"
      ],
      "text/plain": [
       "                Dates        Category                      Descript  \\\n",
       "0 2015-05-13 23:53:00        WARRANTS                WARRANT ARREST   \n",
       "1 2015-05-13 23:53:00  OTHER OFFENSES      TRAFFIC VIOLATION ARREST   \n",
       "2 2015-05-13 23:33:00  OTHER OFFENSES      TRAFFIC VIOLATION ARREST   \n",
       "3 2015-05-13 23:30:00   LARCENY/THEFT  GRAND THEFT FROM LOCKED AUTO   \n",
       "4 2015-05-13 23:30:00   LARCENY/THEFT  GRAND THEFT FROM LOCKED AUTO   \n",
       "\n",
       "   DayOfWeek PdDistrict      Resolution                    Address  \\\n",
       "0  Wednesday   NORTHERN  ARREST, BOOKED         OAK ST / LAGUNA ST   \n",
       "1  Wednesday   NORTHERN  ARREST, BOOKED         OAK ST / LAGUNA ST   \n",
       "2  Wednesday   NORTHERN  ARREST, BOOKED  VANNESS AV / GREENWICH ST   \n",
       "3  Wednesday   NORTHERN            NONE   1500 Block of LOMBARD ST   \n",
       "4  Wednesday       PARK            NONE  100 Block of BRODERICK ST   \n",
       "\n",
       "            X          Y  Minute  Hour  Day  Month  Year  Hour_Zone  \\\n",
       "0 -122.425892  37.774599      53    23   13      5  2015          4   \n",
       "1 -122.425892  37.774599      53    23   13      5  2015          4   \n",
       "2 -122.424363  37.800414      33    23   13      5  2015          4   \n",
       "3 -122.426995  37.800873      30    23   13      5  2015          4   \n",
       "4 -122.438738  37.771541      30    23   13      5  2015          4   \n",
       "\n",
       "   WeekOfYear  Holiday  BusinessHour  Season  \n",
       "0           9    False             0       2  \n",
       "1           9    False             0       2  \n",
       "2           9    False             0       2  \n",
       "3           9    False             0       2  \n",
       "4           9    False             0       2  "
      ]
     },
     "execution_count": 63,
     "metadata": {},
     "output_type": "execute_result"
    }
   ],
   "source": [
    "train_df.head()"
   ]
  },
  {
   "cell_type": "markdown",
   "metadata": {},
   "source": [
    "### Weekend\n",
    "\n",
    "- Weekends may have effect on what types of crimes are commmited\n",
    "- Weekday = 0, Weekend =1"
   ]
  },
  {
   "cell_type": "code",
   "execution_count": 64,
   "metadata": {
    "ExecuteTime": {
     "end_time": "2018-09-15T00:11:12.984924Z",
     "start_time": "2018-09-15T00:11:12.195523Z"
    }
   },
   "outputs": [],
   "source": [
    "# Weekend Feature\n",
    "\n",
    "# Weekday = 0, Weekend = 1\n",
    "days = {'Monday':0 ,'Tuesday':0 ,'Wednesday':0 ,'Thursday':0 ,'Friday':0, 'Saturday':1 ,'Sunday':1}\n",
    "\n",
    "train_df['Weekend'] = train_df['DayOfWeek'].replace(days).astype('uint8')\n",
    "test_df['Weekend'] = test_df['DayOfWeek'].replace(days).astype('uint8')"
   ]
  },
  {
   "cell_type": "markdown",
   "metadata": {},
   "source": [
    "## Spatial Features"
   ]
  },
  {
   "cell_type": "markdown",
   "metadata": {},
   "source": [
    "### Street Type\n",
    "\n",
    "The street type can have an effect on what type of crime is committed, so we want to extract the street type from the 'Address' feature.\n",
    "\n",
    "We have avenues, streets, ways, boulevards, highways, courts, walks, plazas, and differet number of intersections of roads/streets (Addresses with /)."
   ]
  },
  {
   "cell_type": "code",
   "execution_count": 65,
   "metadata": {
    "ExecuteTime": {
     "end_time": "2018-09-15T00:11:13.197395Z",
     "start_time": "2018-09-15T00:11:12.986765Z"
    }
   },
   "outputs": [
    {
     "data": {
      "text/plain": [
       "Index(['800 Block of BRYANT ST', '800 Block of MARKET ST',\n",
       "       '2000 Block of MISSION ST', '1000 Block of POTRERO AV',\n",
       "       '900 Block of MARKET ST', '0 Block of TURK ST', '0 Block of 6TH ST',\n",
       "       '300 Block of ELLIS ST', '400 Block of ELLIS ST',\n",
       "       '16TH ST / MISSION ST',\n",
       "       ...\n",
       "       '5TH AV / CALIFORNIA ST', 'HAZELWOOD AV / YERBABUENA AV',\n",
       "       '0 Block of TROY AL', '900 Block of MARTIN LUTHER KING JR DR',\n",
       "       'CLIPPER ST / PORTOLA DR', 'PRECITA AV / CESAR CHAVEZ ST',\n",
       "       '0 Block of COLUSA PL', '2800 Block of KEITH ST',\n",
       "       'CABRILLO ST / ARGUELLO BL', 'OFARRELL ST / CYRIL MAGNIN ST'],\n",
       "      dtype='object', length=23228)"
      ]
     },
     "execution_count": 65,
     "metadata": {},
     "output_type": "execute_result"
    }
   ],
   "source": [
    "train_df['Address'].value_counts().index"
   ]
  },
  {
   "cell_type": "code",
   "execution_count": 66,
   "metadata": {
    "ExecuteTime": {
     "end_time": "2018-09-15T00:11:17.624158Z",
     "start_time": "2018-09-15T00:11:13.199248Z"
    },
    "scrolled": true
   },
   "outputs": [],
   "source": [
    "def find_streets(address):\n",
    "    street_types = ['AV', 'ST', 'CT', 'PZ', 'LN', 'DR', 'PL', 'HY', \n",
    "                    'FY', 'WY', 'TR', 'RD', 'BL', 'WAY', 'CR', 'AL', 'I-80',  \n",
    "                    'RW', 'WK','EL CAMINO DEL MAR']\n",
    "    street_pattern = '|'.join(street_types)\n",
    "    streets = re.findall(street_pattern, address)\n",
    "    if len(streets) == 0:\n",
    "        # Debug\n",
    "#         print(address)\n",
    "        return 'OTHER'\n",
    "    elif len(streets) == 1:\n",
    "        return streets[0]\n",
    "    else:\n",
    "#         print(address)\n",
    "        return 'INT'\n",
    "\n",
    "train_df['StreetType'] = train_df['Address'].map(find_streets)\n",
    "test_df['StreetType'] = test_df['Address'].map(find_streets)\n"
   ]
  },
  {
   "cell_type": "code",
   "execution_count": 67,
   "metadata": {
    "ExecuteTime": {
     "end_time": "2018-09-15T00:11:17.759847Z",
     "start_time": "2018-09-15T00:11:17.626318Z"
    }
   },
   "outputs": [
    {
     "data": {
      "text/plain": [
       "INT                  389995\n",
       "ST                   358797\n",
       "AV                    92467\n",
       "BL                    13074\n",
       "DR                     8200\n",
       "WY                     4063\n",
       "RD                     2384\n",
       "PZ                     2347\n",
       "CT                     2059\n",
       "LN                     1356\n",
       "PL                      863\n",
       "HY                      819\n",
       "TR                      766\n",
       "I-80                    322\n",
       "CR                      291\n",
       "AL                      150\n",
       "WAY                      55\n",
       "EL CAMINO DEL MAR        21\n",
       "OTHER                    14\n",
       "WK                        5\n",
       "RW                        1\n",
       "Name: StreetType, dtype: int64"
      ]
     },
     "execution_count": 67,
     "metadata": {},
     "output_type": "execute_result"
    }
   ],
   "source": [
    "train_df['StreetType'].value_counts()"
   ]
  },
  {
   "cell_type": "code",
   "execution_count": 68,
   "metadata": {
    "ExecuteTime": {
     "end_time": "2018-09-15T00:11:17.808128Z",
     "start_time": "2018-09-15T00:11:17.762189Z"
    }
   },
   "outputs": [
    {
     "data": {
      "text/plain": [
       "0"
      ]
     },
     "execution_count": 68,
     "metadata": {},
     "output_type": "execute_result"
    }
   ],
   "source": [
    "# Check for null values\n",
    "train_df['StreetType'].isnull().sum()"
   ]
  },
  {
   "cell_type": "code",
   "execution_count": 69,
   "metadata": {
    "ExecuteTime": {
     "end_time": "2018-09-15T00:11:17.834744Z",
     "start_time": "2018-09-15T00:11:17.810033Z"
    }
   },
   "outputs": [
    {
     "data": {
      "text/html": [
       "<div>\n",
       "<style scoped>\n",
       "    .dataframe tbody tr th:only-of-type {\n",
       "        vertical-align: middle;\n",
       "    }\n",
       "\n",
       "    .dataframe tbody tr th {\n",
       "        vertical-align: top;\n",
       "    }\n",
       "\n",
       "    .dataframe thead th {\n",
       "        text-align: right;\n",
       "    }\n",
       "</style>\n",
       "<table border=\"1\" class=\"dataframe\">\n",
       "  <thead>\n",
       "    <tr style=\"text-align: right;\">\n",
       "      <th></th>\n",
       "      <th>Dates</th>\n",
       "      <th>Category</th>\n",
       "      <th>Descript</th>\n",
       "      <th>DayOfWeek</th>\n",
       "      <th>PdDistrict</th>\n",
       "      <th>Resolution</th>\n",
       "      <th>Address</th>\n",
       "      <th>X</th>\n",
       "      <th>Y</th>\n",
       "      <th>Minute</th>\n",
       "      <th>...</th>\n",
       "      <th>Day</th>\n",
       "      <th>Month</th>\n",
       "      <th>Year</th>\n",
       "      <th>Hour_Zone</th>\n",
       "      <th>WeekOfYear</th>\n",
       "      <th>Holiday</th>\n",
       "      <th>BusinessHour</th>\n",
       "      <th>Season</th>\n",
       "      <th>Weekend</th>\n",
       "      <th>StreetType</th>\n",
       "    </tr>\n",
       "  </thead>\n",
       "  <tbody>\n",
       "    <tr>\n",
       "      <th>0</th>\n",
       "      <td>2015-05-13 23:53:00</td>\n",
       "      <td>WARRANTS</td>\n",
       "      <td>WARRANT ARREST</td>\n",
       "      <td>Wednesday</td>\n",
       "      <td>NORTHERN</td>\n",
       "      <td>ARREST, BOOKED</td>\n",
       "      <td>OAK ST / LAGUNA ST</td>\n",
       "      <td>-122.425892</td>\n",
       "      <td>37.774599</td>\n",
       "      <td>53</td>\n",
       "      <td>...</td>\n",
       "      <td>13</td>\n",
       "      <td>5</td>\n",
       "      <td>2015</td>\n",
       "      <td>4</td>\n",
       "      <td>9</td>\n",
       "      <td>False</td>\n",
       "      <td>0</td>\n",
       "      <td>2</td>\n",
       "      <td>0</td>\n",
       "      <td>INT</td>\n",
       "    </tr>\n",
       "    <tr>\n",
       "      <th>1</th>\n",
       "      <td>2015-05-13 23:53:00</td>\n",
       "      <td>OTHER OFFENSES</td>\n",
       "      <td>TRAFFIC VIOLATION ARREST</td>\n",
       "      <td>Wednesday</td>\n",
       "      <td>NORTHERN</td>\n",
       "      <td>ARREST, BOOKED</td>\n",
       "      <td>OAK ST / LAGUNA ST</td>\n",
       "      <td>-122.425892</td>\n",
       "      <td>37.774599</td>\n",
       "      <td>53</td>\n",
       "      <td>...</td>\n",
       "      <td>13</td>\n",
       "      <td>5</td>\n",
       "      <td>2015</td>\n",
       "      <td>4</td>\n",
       "      <td>9</td>\n",
       "      <td>False</td>\n",
       "      <td>0</td>\n",
       "      <td>2</td>\n",
       "      <td>0</td>\n",
       "      <td>INT</td>\n",
       "    </tr>\n",
       "    <tr>\n",
       "      <th>2</th>\n",
       "      <td>2015-05-13 23:33:00</td>\n",
       "      <td>OTHER OFFENSES</td>\n",
       "      <td>TRAFFIC VIOLATION ARREST</td>\n",
       "      <td>Wednesday</td>\n",
       "      <td>NORTHERN</td>\n",
       "      <td>ARREST, BOOKED</td>\n",
       "      <td>VANNESS AV / GREENWICH ST</td>\n",
       "      <td>-122.424363</td>\n",
       "      <td>37.800414</td>\n",
       "      <td>33</td>\n",
       "      <td>...</td>\n",
       "      <td>13</td>\n",
       "      <td>5</td>\n",
       "      <td>2015</td>\n",
       "      <td>4</td>\n",
       "      <td>9</td>\n",
       "      <td>False</td>\n",
       "      <td>0</td>\n",
       "      <td>2</td>\n",
       "      <td>0</td>\n",
       "      <td>INT</td>\n",
       "    </tr>\n",
       "    <tr>\n",
       "      <th>3</th>\n",
       "      <td>2015-05-13 23:30:00</td>\n",
       "      <td>LARCENY/THEFT</td>\n",
       "      <td>GRAND THEFT FROM LOCKED AUTO</td>\n",
       "      <td>Wednesday</td>\n",
       "      <td>NORTHERN</td>\n",
       "      <td>NONE</td>\n",
       "      <td>1500 Block of LOMBARD ST</td>\n",
       "      <td>-122.426995</td>\n",
       "      <td>37.800873</td>\n",
       "      <td>30</td>\n",
       "      <td>...</td>\n",
       "      <td>13</td>\n",
       "      <td>5</td>\n",
       "      <td>2015</td>\n",
       "      <td>4</td>\n",
       "      <td>9</td>\n",
       "      <td>False</td>\n",
       "      <td>0</td>\n",
       "      <td>2</td>\n",
       "      <td>0</td>\n",
       "      <td>INT</td>\n",
       "    </tr>\n",
       "    <tr>\n",
       "      <th>4</th>\n",
       "      <td>2015-05-13 23:30:00</td>\n",
       "      <td>LARCENY/THEFT</td>\n",
       "      <td>GRAND THEFT FROM LOCKED AUTO</td>\n",
       "      <td>Wednesday</td>\n",
       "      <td>PARK</td>\n",
       "      <td>NONE</td>\n",
       "      <td>100 Block of BRODERICK ST</td>\n",
       "      <td>-122.438738</td>\n",
       "      <td>37.771541</td>\n",
       "      <td>30</td>\n",
       "      <td>...</td>\n",
       "      <td>13</td>\n",
       "      <td>5</td>\n",
       "      <td>2015</td>\n",
       "      <td>4</td>\n",
       "      <td>9</td>\n",
       "      <td>False</td>\n",
       "      <td>0</td>\n",
       "      <td>2</td>\n",
       "      <td>0</td>\n",
       "      <td>ST</td>\n",
       "    </tr>\n",
       "    <tr>\n",
       "      <th>5</th>\n",
       "      <td>2015-05-13 23:30:00</td>\n",
       "      <td>LARCENY/THEFT</td>\n",
       "      <td>GRAND THEFT FROM UNLOCKED AUTO</td>\n",
       "      <td>Wednesday</td>\n",
       "      <td>INGLESIDE</td>\n",
       "      <td>NONE</td>\n",
       "      <td>0 Block of TEDDY AV</td>\n",
       "      <td>-122.403252</td>\n",
       "      <td>37.713431</td>\n",
       "      <td>30</td>\n",
       "      <td>...</td>\n",
       "      <td>13</td>\n",
       "      <td>5</td>\n",
       "      <td>2015</td>\n",
       "      <td>4</td>\n",
       "      <td>9</td>\n",
       "      <td>False</td>\n",
       "      <td>0</td>\n",
       "      <td>2</td>\n",
       "      <td>0</td>\n",
       "      <td>AV</td>\n",
       "    </tr>\n",
       "    <tr>\n",
       "      <th>6</th>\n",
       "      <td>2015-05-13 23:30:00</td>\n",
       "      <td>VEHICLE THEFT</td>\n",
       "      <td>STOLEN AUTOMOBILE</td>\n",
       "      <td>Wednesday</td>\n",
       "      <td>INGLESIDE</td>\n",
       "      <td>NONE</td>\n",
       "      <td>AVALON AV / PERU AV</td>\n",
       "      <td>-122.423327</td>\n",
       "      <td>37.725138</td>\n",
       "      <td>30</td>\n",
       "      <td>...</td>\n",
       "      <td>13</td>\n",
       "      <td>5</td>\n",
       "      <td>2015</td>\n",
       "      <td>4</td>\n",
       "      <td>9</td>\n",
       "      <td>False</td>\n",
       "      <td>0</td>\n",
       "      <td>2</td>\n",
       "      <td>0</td>\n",
       "      <td>INT</td>\n",
       "    </tr>\n",
       "    <tr>\n",
       "      <th>7</th>\n",
       "      <td>2015-05-13 23:30:00</td>\n",
       "      <td>VEHICLE THEFT</td>\n",
       "      <td>STOLEN AUTOMOBILE</td>\n",
       "      <td>Wednesday</td>\n",
       "      <td>BAYVIEW</td>\n",
       "      <td>NONE</td>\n",
       "      <td>KIRKWOOD AV / DONAHUE ST</td>\n",
       "      <td>-122.371274</td>\n",
       "      <td>37.727564</td>\n",
       "      <td>30</td>\n",
       "      <td>...</td>\n",
       "      <td>13</td>\n",
       "      <td>5</td>\n",
       "      <td>2015</td>\n",
       "      <td>4</td>\n",
       "      <td>9</td>\n",
       "      <td>False</td>\n",
       "      <td>0</td>\n",
       "      <td>2</td>\n",
       "      <td>0</td>\n",
       "      <td>INT</td>\n",
       "    </tr>\n",
       "  </tbody>\n",
       "</table>\n",
       "<p>8 rows × 21 columns</p>\n",
       "</div>"
      ],
      "text/plain": [
       "                Dates        Category                        Descript  \\\n",
       "0 2015-05-13 23:53:00        WARRANTS                  WARRANT ARREST   \n",
       "1 2015-05-13 23:53:00  OTHER OFFENSES        TRAFFIC VIOLATION ARREST   \n",
       "2 2015-05-13 23:33:00  OTHER OFFENSES        TRAFFIC VIOLATION ARREST   \n",
       "3 2015-05-13 23:30:00   LARCENY/THEFT    GRAND THEFT FROM LOCKED AUTO   \n",
       "4 2015-05-13 23:30:00   LARCENY/THEFT    GRAND THEFT FROM LOCKED AUTO   \n",
       "5 2015-05-13 23:30:00   LARCENY/THEFT  GRAND THEFT FROM UNLOCKED AUTO   \n",
       "6 2015-05-13 23:30:00   VEHICLE THEFT               STOLEN AUTOMOBILE   \n",
       "7 2015-05-13 23:30:00   VEHICLE THEFT               STOLEN AUTOMOBILE   \n",
       "\n",
       "   DayOfWeek PdDistrict      Resolution                    Address  \\\n",
       "0  Wednesday   NORTHERN  ARREST, BOOKED         OAK ST / LAGUNA ST   \n",
       "1  Wednesday   NORTHERN  ARREST, BOOKED         OAK ST / LAGUNA ST   \n",
       "2  Wednesday   NORTHERN  ARREST, BOOKED  VANNESS AV / GREENWICH ST   \n",
       "3  Wednesday   NORTHERN            NONE   1500 Block of LOMBARD ST   \n",
       "4  Wednesday       PARK            NONE  100 Block of BRODERICK ST   \n",
       "5  Wednesday  INGLESIDE            NONE        0 Block of TEDDY AV   \n",
       "6  Wednesday  INGLESIDE            NONE        AVALON AV / PERU AV   \n",
       "7  Wednesday    BAYVIEW            NONE   KIRKWOOD AV / DONAHUE ST   \n",
       "\n",
       "            X          Y  Minute  ...  Day  Month  Year  Hour_Zone  \\\n",
       "0 -122.425892  37.774599      53  ...   13      5  2015          4   \n",
       "1 -122.425892  37.774599      53  ...   13      5  2015          4   \n",
       "2 -122.424363  37.800414      33  ...   13      5  2015          4   \n",
       "3 -122.426995  37.800873      30  ...   13      5  2015          4   \n",
       "4 -122.438738  37.771541      30  ...   13      5  2015          4   \n",
       "5 -122.403252  37.713431      30  ...   13      5  2015          4   \n",
       "6 -122.423327  37.725138      30  ...   13      5  2015          4   \n",
       "7 -122.371274  37.727564      30  ...   13      5  2015          4   \n",
       "\n",
       "   WeekOfYear  Holiday  BusinessHour  Season  Weekend  StreetType  \n",
       "0           9    False             0       2        0         INT  \n",
       "1           9    False             0       2        0         INT  \n",
       "2           9    False             0       2        0         INT  \n",
       "3           9    False             0       2        0         INT  \n",
       "4           9    False             0       2        0          ST  \n",
       "5           9    False             0       2        0          AV  \n",
       "6           9    False             0       2        0         INT  \n",
       "7           9    False             0       2        0         INT  \n",
       "\n",
       "[8 rows x 21 columns]"
      ]
     },
     "execution_count": 69,
     "metadata": {},
     "output_type": "execute_result"
    }
   ],
   "source": [
    "train_df.head(8)"
   ]
  },
  {
   "cell_type": "markdown",
   "metadata": {},
   "source": [
    "## Block Features (Removed)\n",
    "\n",
    "- Let's explore and create the block feature, since we saw it a lot in the address features\n",
    "- Binary feature\n",
    "    - Categorize address that contains 'Block', as having a block, and if no block exists, we will assign to 0.\n",
    "- 617231 addresses with blocks\n",
    "- 260818 addresses with no blocks"
   ]
  },
  {
   "cell_type": "code",
   "execution_count": 70,
   "metadata": {
    "ExecuteTime": {
     "end_time": "2018-09-15T00:11:17.840253Z",
     "start_time": "2018-09-15T00:11:17.836605Z"
    }
   },
   "outputs": [],
   "source": [
    "# def find_block(address):\n",
    "#     block_pattern = 'Block'\n",
    "#     blocks = re.search(block_pattern, address)\n",
    "#     if blocks:\n",
    "# #         print(address)\n",
    "#         return 1\n",
    "#     else:\n",
    "# #         print(address)\n",
    "#         return 0\n",
    "\n",
    "\n",
    "# train_df['Block'] = train_df['Address'].map(find_block)\n",
    "# test_df['Block'] = test_df['Address'].map(find_block)"
   ]
  },
  {
   "cell_type": "code",
   "execution_count": 71,
   "metadata": {
    "ExecuteTime": {
     "end_time": "2018-09-15T00:11:17.844279Z",
     "start_time": "2018-09-15T00:11:17.842121Z"
    }
   },
   "outputs": [],
   "source": [
    "# train_df['Block'].value_counts()"
   ]
  },
  {
   "cell_type": "markdown",
   "metadata": {},
   "source": [
    "## Block Number Feature\n",
    "\n",
    "- Let's explore the block number from address\n",
    "- Block number has ordinal data type (order matters), and has spatial significance\n",
    "- It seems all the block numbers are in intervals of 100\n",
    "- How to categorize\n",
    "    - Addresses that do not have a block number will be categorized as 0\n",
    "    - Addresses with block number will be divided by 100, and added by 1 for mapping (0 is saved for addresses with no block number)\n",
    "- 85 unique block numbers (including 1 where there is no block number)"
   ]
  },
  {
   "cell_type": "code",
   "execution_count": 72,
   "metadata": {
    "ExecuteTime": {
     "end_time": "2018-09-15T00:11:21.837626Z",
     "start_time": "2018-09-15T00:11:17.846149Z"
    }
   },
   "outputs": [],
   "source": [
    "def find_block_number(address):\n",
    "    block_num_pattern = '[0-9]+\\s[Block]'\n",
    "    block_num = re.search(block_num_pattern, address)\n",
    "    if block_num:\n",
    "#         print(address)\n",
    "        num_pattern = '[0-9]+'\n",
    "        block_no_pos = re.search(num_pattern, address)\n",
    "        # Get integer of found regular expression\n",
    "        block_no = int(block_no_pos.group())\n",
    "        # Convert block number by dividing by 100 and adding 1 (0 = addresses with no block)\n",
    "        block_map = (block_no // 100) + 1\n",
    "#         print(block_map)\n",
    "        return block_map\n",
    "    else:\n",
    "#         print(address)\n",
    "        # \n",
    "        return 0\n",
    "\n",
    "\n",
    "train_df['BlockNo'] = train_df['Address'].map(find_block_number)\n",
    "test_df['BlockNo'] = test_df['Address'].map(find_block_number)"
   ]
  },
  {
   "cell_type": "code",
   "execution_count": 73,
   "metadata": {
    "ExecuteTime": {
     "end_time": "2018-09-15T00:11:21.875408Z",
     "start_time": "2018-09-15T00:11:21.839834Z"
    },
    "scrolled": true
   },
   "outputs": [
    {
     "data": {
      "text/plain": [
       "0     260818\n",
       "1      76325\n",
       "2      51917\n",
       "9      51718\n",
       "3      38407\n",
       "       ...  \n",
       "82         7\n",
       "79         5\n",
       "81         4\n",
       "84         4\n",
       "80         3\n",
       "Name: BlockNo, Length: 85, dtype: int64"
      ]
     },
     "execution_count": 73,
     "metadata": {},
     "output_type": "execute_result"
    }
   ],
   "source": [
    "train_df['BlockNo'].value_counts()"
   ]
  },
  {
   "cell_type": "markdown",
   "metadata": {},
   "source": [
    "## X, Y Coordinates\n",
    "\n",
    "- Normalize and scale the X and Y coordinates\n",
    "- I use **K-Means clustering** to create a new feature for the longitude and latitude by grouping clusters of points based on Euclidean distances.\n",
    "- X = longitude, Y = latitude\n",
    "- I also extract more spatial features from the X, Y coordinates by transforming them from the cartesian space to the polar space ([Reference](https://www.kaggle.com/c/sf-crime/discussion/18853))\n",
    "    1. three variants of rotated Cartesian coordinates (rotated by 30, 45, 60 degree each) \n",
    "    2. Polar coordinates (i.e. the 'r' and the angle 'theta')\n",
    "    3. The approach makes some intuitive sense i.e. that having such features should help in extracting some more spatial information (than relying on the current x-y alone)"
   ]
  },
  {
   "cell_type": "code",
   "execution_count": 74,
   "metadata": {
    "ExecuteTime": {
     "end_time": "2018-09-15T00:11:22.862516Z",
     "start_time": "2018-09-15T00:11:21.879241Z"
    }
   },
   "outputs": [
    {
     "name": "stdout",
     "output_type": "stream",
     "text": [
      "There are 34309 unique longitude values, 34309 unique latitude values\n"
     ]
    }
   ],
   "source": [
    "# Normalize X and Y\n",
    "print('There are %d unique longitude values, %d unique latitude values' % (train_df['X'].nunique(), \n",
    "                                                                           train_df['Y'].nunique()))\n",
    "\n",
    "xy_scaler = StandardScaler().fit(train_df[['X', 'Y']])\n",
    "train_df[['X', 'Y']] = xy_scaler.transform(train_df[['X', 'Y']])\n",
    "test_df[['X', 'Y']] = xy_scaler.transform(test_df[['X', 'Y']])"
   ]
  },
  {
   "cell_type": "code",
   "execution_count": 75,
   "metadata": {
    "ExecuteTime": {
     "end_time": "2018-09-15T00:11:23.200903Z",
     "start_time": "2018-09-15T00:11:22.864443Z"
    }
   },
   "outputs": [],
   "source": [
    "# X-Y plane rotation and space transformation to extract more spatial information\n",
    "# 2-dimensional rotation based on below functions:\n",
    "# rotated x = xcos - ysin\n",
    "# rotated y = xsin + ycos\n",
    "# Conver from cartesian space -> polar space\n",
    "\n",
    "cos_30 = math.cos(math.radians(30))\n",
    "sin_30 = math.sin(math.radians(30))\n",
    "cos_45 = math.cos(math.radians(45))\n",
    "sin_45 = math.sin(math.radians(45))\n",
    "cos_60 = math.cos(math.radians(60))\n",
    "sin_60 = math.sin(math.radians(60))\n",
    "\n",
    "\n",
    "train_df[\"Rot30_X\"] = train_df['X'] * cos_30 - train_df['Y'] * sin_30 \n",
    "train_df[\"Rot30_Y\"] = train_df['X'] * sin_30 + train_df['Y'] * cos_30\n",
    "train_df[\"Rot45_X\"] = train_df['X'] * cos_45 - train_df['Y'] * sin_45  \n",
    "train_df[\"Rot45_Y\"] = train_df['X'] * sin_45 + train_df['Y'] * cos_45\n",
    "train_df[\"Rot60_X\"] = train_df['X'] * cos_60 - train_df['Y'] * sin_60  \n",
    "train_df[\"Rot60_Y\"] = train_df['X'] * sin_60 + train_df['Y'] * cos_60\n",
    "train_df[\"Radius\"] = np.sqrt(train_df['X'] ** 2 + train_df['Y'] ** 2)\n",
    "train_df[\"Angle\"] = np.arctan2(train_df['X'], train_df['Y'])\n",
    "\n",
    "test_df[\"Rot30_X\"] = test_df['X'] * cos_30 - test_df['Y'] * sin_30  \n",
    "test_df[\"Rot30_Y\"] = test_df['X'] * sin_30 + test_df['Y'] * cos_30\n",
    "test_df[\"Rot45_X\"] = test_df['X'] * cos_45 - test_df['Y'] * sin_45  \n",
    "test_df[\"Rot45_Y\"] = test_df['X'] * sin_45 + test_df['Y'] * cos_45\n",
    "test_df[\"Rot60_X\"] = test_df['X'] * cos_60 - test_df['Y'] * sin_60  \n",
    "test_df[\"Rot60_Y\"] = test_df['X'] * sin_60 + test_df['Y'] * cos_60\n",
    "test_df[\"Radius\"] = np.sqrt(test_df['X'] ** 2 + test_df['Y'] ** 2)\n",
    "test_df[\"Angle\"] = np.arctan2(test_df['X'], test_df['Y'])"
   ]
  },
  {
   "cell_type": "code",
   "execution_count": 76,
   "metadata": {
    "ExecuteTime": {
     "end_time": "2018-09-15T00:11:25.125720Z",
     "start_time": "2018-09-15T00:11:23.202875Z"
    }
   },
   "outputs": [
    {
     "data": {
      "text/html": [
       "<div>\n",
       "<style scoped>\n",
       "    .dataframe tbody tr th:only-of-type {\n",
       "        vertical-align: middle;\n",
       "    }\n",
       "\n",
       "    .dataframe tbody tr th {\n",
       "        vertical-align: top;\n",
       "    }\n",
       "\n",
       "    .dataframe thead th {\n",
       "        text-align: right;\n",
       "    }\n",
       "</style>\n",
       "<table border=\"1\" class=\"dataframe\">\n",
       "  <thead>\n",
       "    <tr style=\"text-align: right;\">\n",
       "      <th></th>\n",
       "      <th>X</th>\n",
       "      <th>Y</th>\n",
       "      <th>Minute</th>\n",
       "      <th>Hour</th>\n",
       "      <th>Day</th>\n",
       "      <th>Month</th>\n",
       "      <th>Year</th>\n",
       "      <th>Hour_Zone</th>\n",
       "      <th>WeekOfYear</th>\n",
       "      <th>BusinessHour</th>\n",
       "      <th>...</th>\n",
       "      <th>Weekend</th>\n",
       "      <th>BlockNo</th>\n",
       "      <th>Rot30_X</th>\n",
       "      <th>Rot30_Y</th>\n",
       "      <th>Rot45_X</th>\n",
       "      <th>Rot45_Y</th>\n",
       "      <th>Rot60_X</th>\n",
       "      <th>Rot60_Y</th>\n",
       "      <th>Radius</th>\n",
       "      <th>Angle</th>\n",
       "    </tr>\n",
       "  </thead>\n",
       "  <tbody>\n",
       "    <tr>\n",
       "      <th>count</th>\n",
       "      <td>8.780490e+05</td>\n",
       "      <td>8.780490e+05</td>\n",
       "      <td>878049.000000</td>\n",
       "      <td>878049.000000</td>\n",
       "      <td>878049.000000</td>\n",
       "      <td>878049.000000</td>\n",
       "      <td>878049.000000</td>\n",
       "      <td>878049.000000</td>\n",
       "      <td>878049.000000</td>\n",
       "      <td>878049.000000</td>\n",
       "      <td>...</td>\n",
       "      <td>878049.000000</td>\n",
       "      <td>878049.000000</td>\n",
       "      <td>8.780490e+05</td>\n",
       "      <td>8.780490e+05</td>\n",
       "      <td>8.780490e+05</td>\n",
       "      <td>8.780490e+05</td>\n",
       "      <td>8.780490e+05</td>\n",
       "      <td>8.780490e+05</td>\n",
       "      <td>878049.000000</td>\n",
       "      <td>878049.000000</td>\n",
       "    </tr>\n",
       "    <tr>\n",
       "      <th>mean</th>\n",
       "      <td>1.311546e-12</td>\n",
       "      <td>2.352151e-13</td>\n",
       "      <td>20.155026</td>\n",
       "      <td>13.412655</td>\n",
       "      <td>15.570623</td>\n",
       "      <td>6.436509</td>\n",
       "      <td>2008.712046</td>\n",
       "      <td>2.212740</td>\n",
       "      <td>12.185458</td>\n",
       "      <td>0.518439</td>\n",
       "      <td>...</td>\n",
       "      <td>0.277339</td>\n",
       "      <td>7.743576</td>\n",
       "      <td>1.018221e-12</td>\n",
       "      <td>8.594712e-13</td>\n",
       "      <td>7.610775e-13</td>\n",
       "      <td>1.093720e-12</td>\n",
       "      <td>4.520718e-13</td>\n",
       "      <td>1.253436e-12</td>\n",
       "      <td>1.219268</td>\n",
       "      <td>0.278865</td>\n",
       "    </tr>\n",
       "    <tr>\n",
       "      <th>std</th>\n",
       "      <td>1.000001e+00</td>\n",
       "      <td>1.000001e+00</td>\n",
       "      <td>18.594915</td>\n",
       "      <td>6.549573</td>\n",
       "      <td>8.783005</td>\n",
       "      <td>3.428972</td>\n",
       "      <td>3.631194</td>\n",
       "      <td>1.214321</td>\n",
       "      <td>7.482940</td>\n",
       "      <td>0.499660</td>\n",
       "      <td>...</td>\n",
       "      <td>0.447685</td>\n",
       "      <td>10.233725</td>\n",
       "      <td>9.308499e-01</td>\n",
       "      <td>1.064669e+00</td>\n",
       "      <td>9.196880e-01</td>\n",
       "      <td>1.074326e+00</td>\n",
       "      <td>9.308499e-01</td>\n",
       "      <td>1.064669e+00</td>\n",
       "      <td>0.716509</td>\n",
       "      <td>1.652422</td>\n",
       "    </tr>\n",
       "    <tr>\n",
       "      <th>min</th>\n",
       "      <td>-6.129782e+00</td>\n",
       "      <td>-5.927638e+00</td>\n",
       "      <td>0.000000</td>\n",
       "      <td>0.000000</td>\n",
       "      <td>1.000000</td>\n",
       "      <td>1.000000</td>\n",
       "      <td>2003.000000</td>\n",
       "      <td>0.000000</td>\n",
       "      <td>0.000000</td>\n",
       "      <td>0.000000</td>\n",
       "      <td>...</td>\n",
       "      <td>0.000000</td>\n",
       "      <td>0.000000</td>\n",
       "      <td>-6.438988e+00</td>\n",
       "      <td>-7.097541e+00</td>\n",
       "      <td>-5.933096e+00</td>\n",
       "      <td>-6.969067e+00</td>\n",
       "      <td>-5.022873e+00</td>\n",
       "      <td>-6.365663e+00</td>\n",
       "      <td>0.020075</td>\n",
       "      <td>-3.141583</td>\n",
       "    </tr>\n",
       "    <tr>\n",
       "      <th>25%</th>\n",
       "      <td>-4.027872e-01</td>\n",
       "      <td>-6.043561e-01</td>\n",
       "      <td>0.000000</td>\n",
       "      <td>9.000000</td>\n",
       "      <td>8.000000</td>\n",
       "      <td>3.000000</td>\n",
       "      <td>2006.000000</td>\n",
       "      <td>1.000000</td>\n",
       "      <td>6.000000</td>\n",
       "      <td>0.000000</td>\n",
       "      <td>...</td>\n",
       "      <td>0.000000</td>\n",
       "      <td>0.000000</td>\n",
       "      <td>-4.145265e-01</td>\n",
       "      <td>-5.664321e-01</td>\n",
       "      <td>-4.914479e-01</td>\n",
       "      <td>-5.401724e-01</td>\n",
       "      <td>-5.843718e-01</td>\n",
       "      <td>-4.588948e-01</td>\n",
       "      <td>0.742432</td>\n",
       "      <td>-1.065728</td>\n",
       "    </tr>\n",
       "    <tr>\n",
       "      <th>50%</th>\n",
       "      <td>2.508495e-01</td>\n",
       "      <td>3.470641e-01</td>\n",
       "      <td>19.000000</td>\n",
       "      <td>14.000000</td>\n",
       "      <td>16.000000</td>\n",
       "      <td>6.000000</td>\n",
       "      <td>2009.000000</td>\n",
       "      <td>2.000000</td>\n",
       "      <td>12.000000</td>\n",
       "      <td>1.000000</td>\n",
       "      <td>...</td>\n",
       "      <td>0.000000</td>\n",
       "      <td>4.000000</td>\n",
       "      <td>6.283256e-02</td>\n",
       "      <td>2.142980e-01</td>\n",
       "      <td>-9.704161e-02</td>\n",
       "      <td>2.240039e-01</td>\n",
       "      <td>-2.373012e-01</td>\n",
       "      <td>3.121881e-01</td>\n",
       "      <td>1.003645</td>\n",
       "      <td>0.508744</td>\n",
       "    </tr>\n",
       "    <tr>\n",
       "      <th>75%</th>\n",
       "      <td>6.250450e-01</td>\n",
       "      <td>7.172737e-01</td>\n",
       "      <td>33.000000</td>\n",
       "      <td>19.000000</td>\n",
       "      <td>23.000000</td>\n",
       "      <td>9.000000</td>\n",
       "      <td>2012.000000</td>\n",
       "      <td>3.000000</td>\n",
       "      <td>19.000000</td>\n",
       "      <td>1.000000</td>\n",
       "      <td>...</td>\n",
       "      <td>1.000000</td>\n",
       "      <td>11.000000</td>\n",
       "      <td>4.804508e-01</td>\n",
       "      <td>8.071966e-01</td>\n",
       "      <td>4.085435e-01</td>\n",
       "      <td>7.867546e-01</td>\n",
       "      <td>5.060266e-01</td>\n",
       "      <td>7.512327e-01</td>\n",
       "      <td>1.639537</td>\n",
       "      <td>1.172386</td>\n",
       "    </tr>\n",
       "    <tr>\n",
       "      <th>max</th>\n",
       "      <td>5.141434e+00</td>\n",
       "      <td>2.260883e+00</td>\n",
       "      <td>59.000000</td>\n",
       "      <td>23.000000</td>\n",
       "      <td>31.000000</td>\n",
       "      <td>12.000000</td>\n",
       "      <td>2015.000000</td>\n",
       "      <td>4.000000</td>\n",
       "      <td>25.000000</td>\n",
       "      <td>1.000000</td>\n",
       "      <td>...</td>\n",
       "      <td>1.000000</td>\n",
       "      <td>84.000000</td>\n",
       "      <td>4.112470e+00</td>\n",
       "      <td>3.159863e+00</td>\n",
       "      <td>4.588434e+00</td>\n",
       "      <td>4.116578e+00</td>\n",
       "      <td>4.778798e+00</td>\n",
       "      <td>4.792756e+00</td>\n",
       "      <td>7.111044</td>\n",
       "      <td>3.141165</td>\n",
       "    </tr>\n",
       "  </tbody>\n",
       "</table>\n",
       "<p>8 rows × 21 columns</p>\n",
       "</div>"
      ],
      "text/plain": [
       "                  X             Y         Minute           Hour  \\\n",
       "count  8.780490e+05  8.780490e+05  878049.000000  878049.000000   \n",
       "mean   1.311546e-12  2.352151e-13      20.155026      13.412655   \n",
       "std    1.000001e+00  1.000001e+00      18.594915       6.549573   \n",
       "min   -6.129782e+00 -5.927638e+00       0.000000       0.000000   \n",
       "25%   -4.027872e-01 -6.043561e-01       0.000000       9.000000   \n",
       "50%    2.508495e-01  3.470641e-01      19.000000      14.000000   \n",
       "75%    6.250450e-01  7.172737e-01      33.000000      19.000000   \n",
       "max    5.141434e+00  2.260883e+00      59.000000      23.000000   \n",
       "\n",
       "                 Day          Month           Year      Hour_Zone  \\\n",
       "count  878049.000000  878049.000000  878049.000000  878049.000000   \n",
       "mean       15.570623       6.436509    2008.712046       2.212740   \n",
       "std         8.783005       3.428972       3.631194       1.214321   \n",
       "min         1.000000       1.000000    2003.000000       0.000000   \n",
       "25%         8.000000       3.000000    2006.000000       1.000000   \n",
       "50%        16.000000       6.000000    2009.000000       2.000000   \n",
       "75%        23.000000       9.000000    2012.000000       3.000000   \n",
       "max        31.000000      12.000000    2015.000000       4.000000   \n",
       "\n",
       "          WeekOfYear   BusinessHour  ...        Weekend        BlockNo  \\\n",
       "count  878049.000000  878049.000000  ...  878049.000000  878049.000000   \n",
       "mean       12.185458       0.518439  ...       0.277339       7.743576   \n",
       "std         7.482940       0.499660  ...       0.447685      10.233725   \n",
       "min         0.000000       0.000000  ...       0.000000       0.000000   \n",
       "25%         6.000000       0.000000  ...       0.000000       0.000000   \n",
       "50%        12.000000       1.000000  ...       0.000000       4.000000   \n",
       "75%        19.000000       1.000000  ...       1.000000      11.000000   \n",
       "max        25.000000       1.000000  ...       1.000000      84.000000   \n",
       "\n",
       "            Rot30_X       Rot30_Y       Rot45_X       Rot45_Y       Rot60_X  \\\n",
       "count  8.780490e+05  8.780490e+05  8.780490e+05  8.780490e+05  8.780490e+05   \n",
       "mean   1.018221e-12  8.594712e-13  7.610775e-13  1.093720e-12  4.520718e-13   \n",
       "std    9.308499e-01  1.064669e+00  9.196880e-01  1.074326e+00  9.308499e-01   \n",
       "min   -6.438988e+00 -7.097541e+00 -5.933096e+00 -6.969067e+00 -5.022873e+00   \n",
       "25%   -4.145265e-01 -5.664321e-01 -4.914479e-01 -5.401724e-01 -5.843718e-01   \n",
       "50%    6.283256e-02  2.142980e-01 -9.704161e-02  2.240039e-01 -2.373012e-01   \n",
       "75%    4.804508e-01  8.071966e-01  4.085435e-01  7.867546e-01  5.060266e-01   \n",
       "max    4.112470e+00  3.159863e+00  4.588434e+00  4.116578e+00  4.778798e+00   \n",
       "\n",
       "            Rot60_Y         Radius          Angle  \n",
       "count  8.780490e+05  878049.000000  878049.000000  \n",
       "mean   1.253436e-12       1.219268       0.278865  \n",
       "std    1.064669e+00       0.716509       1.652422  \n",
       "min   -6.365663e+00       0.020075      -3.141583  \n",
       "25%   -4.588948e-01       0.742432      -1.065728  \n",
       "50%    3.121881e-01       1.003645       0.508744  \n",
       "75%    7.512327e-01       1.639537       1.172386  \n",
       "max    4.792756e+00       7.111044       3.141165  \n",
       "\n",
       "[8 rows x 21 columns]"
      ]
     },
     "execution_count": 76,
     "metadata": {},
     "output_type": "execute_result"
    }
   ],
   "source": [
    "# View the description of the numerical features again to ensure everything is right\n",
    "train_df.describe()"
   ]
  },
  {
   "cell_type": "code",
   "execution_count": 77,
   "metadata": {
    "ExecuteTime": {
     "end_time": "2018-09-15T00:15:25.723811Z",
     "start_time": "2018-09-15T00:11:25.127445Z"
    }
   },
   "outputs": [],
   "source": [
    "# run KMeans separately on both the training set and test set\n",
    "data = [train_df, test_df]\n",
    "num_clusters = 40\n",
    "for dataset in data:\n",
    "    coordinates = dataset.loc[:,['Y','X']]\n",
    "    kmeans = KMeans(n_clusters=num_clusters, random_state=1).fit(coordinates)\n",
    "    id_labels=kmeans.labels_\n",
    "#     print(kmeans.cluster_centers_)\n",
    "    dataset['Cluster'] = id_labels"
   ]
  },
  {
   "cell_type": "code",
   "execution_count": 78,
   "metadata": {
    "ExecuteTime": {
     "end_time": "2018-09-15T00:15:25.757165Z",
     "start_time": "2018-09-15T00:15:25.727020Z"
    }
   },
   "outputs": [
    {
     "data": {
      "text/html": [
       "<div>\n",
       "<style scoped>\n",
       "    .dataframe tbody tr th:only-of-type {\n",
       "        vertical-align: middle;\n",
       "    }\n",
       "\n",
       "    .dataframe tbody tr th {\n",
       "        vertical-align: top;\n",
       "    }\n",
       "\n",
       "    .dataframe thead th {\n",
       "        text-align: right;\n",
       "    }\n",
       "</style>\n",
       "<table border=\"1\" class=\"dataframe\">\n",
       "  <thead>\n",
       "    <tr style=\"text-align: right;\">\n",
       "      <th></th>\n",
       "      <th>Dates</th>\n",
       "      <th>Category</th>\n",
       "      <th>Descript</th>\n",
       "      <th>DayOfWeek</th>\n",
       "      <th>PdDistrict</th>\n",
       "      <th>Resolution</th>\n",
       "      <th>Address</th>\n",
       "      <th>X</th>\n",
       "      <th>Y</th>\n",
       "      <th>Minute</th>\n",
       "      <th>...</th>\n",
       "      <th>BlockNo</th>\n",
       "      <th>Rot30_X</th>\n",
       "      <th>Rot30_Y</th>\n",
       "      <th>Rot45_X</th>\n",
       "      <th>Rot45_Y</th>\n",
       "      <th>Rot60_X</th>\n",
       "      <th>Rot60_Y</th>\n",
       "      <th>Radius</th>\n",
       "      <th>Angle</th>\n",
       "      <th>Cluster</th>\n",
       "    </tr>\n",
       "  </thead>\n",
       "  <tbody>\n",
       "    <tr>\n",
       "      <th>0</th>\n",
       "      <td>2015-05-13 23:53:00</td>\n",
       "      <td>WARRANTS</td>\n",
       "      <td>WARRANT ARREST</td>\n",
       "      <td>Wednesday</td>\n",
       "      <td>NORTHERN</td>\n",
       "      <td>ARREST, BOOKED</td>\n",
       "      <td>OAK ST / LAGUNA ST</td>\n",
       "      <td>-0.123619</td>\n",
       "      <td>0.313047</td>\n",
       "      <td>53</td>\n",
       "      <td>...</td>\n",
       "      <td>0</td>\n",
       "      <td>-0.263580</td>\n",
       "      <td>0.209297</td>\n",
       "      <td>-0.308769</td>\n",
       "      <td>0.133946</td>\n",
       "      <td>-0.332916</td>\n",
       "      <td>0.049466</td>\n",
       "      <td>0.336571</td>\n",
       "      <td>-0.376092</td>\n",
       "      <td>26</td>\n",
       "    </tr>\n",
       "    <tr>\n",
       "      <th>1</th>\n",
       "      <td>2015-05-13 23:53:00</td>\n",
       "      <td>OTHER OFFENSES</td>\n",
       "      <td>TRAFFIC VIOLATION ARREST</td>\n",
       "      <td>Wednesday</td>\n",
       "      <td>NORTHERN</td>\n",
       "      <td>ARREST, BOOKED</td>\n",
       "      <td>OAK ST / LAGUNA ST</td>\n",
       "      <td>-0.123619</td>\n",
       "      <td>0.313047</td>\n",
       "      <td>53</td>\n",
       "      <td>...</td>\n",
       "      <td>0</td>\n",
       "      <td>-0.263580</td>\n",
       "      <td>0.209297</td>\n",
       "      <td>-0.308769</td>\n",
       "      <td>0.133946</td>\n",
       "      <td>-0.332916</td>\n",
       "      <td>0.049466</td>\n",
       "      <td>0.336571</td>\n",
       "      <td>-0.376092</td>\n",
       "      <td>26</td>\n",
       "    </tr>\n",
       "    <tr>\n",
       "      <th>2</th>\n",
       "      <td>2015-05-13 23:33:00</td>\n",
       "      <td>OTHER OFFENSES</td>\n",
       "      <td>TRAFFIC VIOLATION ARREST</td>\n",
       "      <td>Wednesday</td>\n",
       "      <td>NORTHERN</td>\n",
       "      <td>ARREST, BOOKED</td>\n",
       "      <td>VANNESS AV / GREENWICH ST</td>\n",
       "      <td>-0.063171</td>\n",
       "      <td>1.381252</td>\n",
       "      <td>33</td>\n",
       "      <td>...</td>\n",
       "      <td>0</td>\n",
       "      <td>-0.745334</td>\n",
       "      <td>1.164614</td>\n",
       "      <td>-1.021362</td>\n",
       "      <td>0.932024</td>\n",
       "      <td>-1.227785</td>\n",
       "      <td>0.635918</td>\n",
       "      <td>1.382696</td>\n",
       "      <td>-0.045703</td>\n",
       "      <td>35</td>\n",
       "    </tr>\n",
       "    <tr>\n",
       "      <th>3</th>\n",
       "      <td>2015-05-13 23:30:00</td>\n",
       "      <td>LARCENY/THEFT</td>\n",
       "      <td>GRAND THEFT FROM LOCKED AUTO</td>\n",
       "      <td>Wednesday</td>\n",
       "      <td>NORTHERN</td>\n",
       "      <td>NONE</td>\n",
       "      <td>1500 Block of LOMBARD ST</td>\n",
       "      <td>-0.167260</td>\n",
       "      <td>1.400216</td>\n",
       "      <td>30</td>\n",
       "      <td>...</td>\n",
       "      <td>16</td>\n",
       "      <td>-0.844960</td>\n",
       "      <td>1.128993</td>\n",
       "      <td>-1.108373</td>\n",
       "      <td>0.871832</td>\n",
       "      <td>-1.296253</td>\n",
       "      <td>0.555257</td>\n",
       "      <td>1.410171</td>\n",
       "      <td>-0.118890</td>\n",
       "      <td>35</td>\n",
       "    </tr>\n",
       "    <tr>\n",
       "      <th>4</th>\n",
       "      <td>2015-05-13 23:30:00</td>\n",
       "      <td>LARCENY/THEFT</td>\n",
       "      <td>GRAND THEFT FROM LOCKED AUTO</td>\n",
       "      <td>Wednesday</td>\n",
       "      <td>PARK</td>\n",
       "      <td>NONE</td>\n",
       "      <td>100 Block of BRODERICK ST</td>\n",
       "      <td>-0.631583</td>\n",
       "      <td>0.186536</td>\n",
       "      <td>30</td>\n",
       "      <td>...</td>\n",
       "      <td>2</td>\n",
       "      <td>-0.640235</td>\n",
       "      <td>-0.154246</td>\n",
       "      <td>-0.578498</td>\n",
       "      <td>-0.314695</td>\n",
       "      <td>-0.477337</td>\n",
       "      <td>-0.453699</td>\n",
       "      <td>0.658554</td>\n",
       "      <td>-1.283613</td>\n",
       "      <td>26</td>\n",
       "    </tr>\n",
       "  </tbody>\n",
       "</table>\n",
       "<p>5 rows × 31 columns</p>\n",
       "</div>"
      ],
      "text/plain": [
       "                Dates        Category                      Descript  \\\n",
       "0 2015-05-13 23:53:00        WARRANTS                WARRANT ARREST   \n",
       "1 2015-05-13 23:53:00  OTHER OFFENSES      TRAFFIC VIOLATION ARREST   \n",
       "2 2015-05-13 23:33:00  OTHER OFFENSES      TRAFFIC VIOLATION ARREST   \n",
       "3 2015-05-13 23:30:00   LARCENY/THEFT  GRAND THEFT FROM LOCKED AUTO   \n",
       "4 2015-05-13 23:30:00   LARCENY/THEFT  GRAND THEFT FROM LOCKED AUTO   \n",
       "\n",
       "   DayOfWeek PdDistrict      Resolution                    Address         X  \\\n",
       "0  Wednesday   NORTHERN  ARREST, BOOKED         OAK ST / LAGUNA ST -0.123619   \n",
       "1  Wednesday   NORTHERN  ARREST, BOOKED         OAK ST / LAGUNA ST -0.123619   \n",
       "2  Wednesday   NORTHERN  ARREST, BOOKED  VANNESS AV / GREENWICH ST -0.063171   \n",
       "3  Wednesday   NORTHERN            NONE   1500 Block of LOMBARD ST -0.167260   \n",
       "4  Wednesday       PARK            NONE  100 Block of BRODERICK ST -0.631583   \n",
       "\n",
       "          Y  Minute  ...  BlockNo   Rot30_X   Rot30_Y   Rot45_X   Rot45_Y  \\\n",
       "0  0.313047      53  ...        0 -0.263580  0.209297 -0.308769  0.133946   \n",
       "1  0.313047      53  ...        0 -0.263580  0.209297 -0.308769  0.133946   \n",
       "2  1.381252      33  ...        0 -0.745334  1.164614 -1.021362  0.932024   \n",
       "3  1.400216      30  ...       16 -0.844960  1.128993 -1.108373  0.871832   \n",
       "4  0.186536      30  ...        2 -0.640235 -0.154246 -0.578498 -0.314695   \n",
       "\n",
       "    Rot60_X   Rot60_Y    Radius     Angle  Cluster  \n",
       "0 -0.332916  0.049466  0.336571 -0.376092       26  \n",
       "1 -0.332916  0.049466  0.336571 -0.376092       26  \n",
       "2 -1.227785  0.635918  1.382696 -0.045703       35  \n",
       "3 -1.296253  0.555257  1.410171 -0.118890       35  \n",
       "4 -0.477337 -0.453699  0.658554 -1.283613       26  \n",
       "\n",
       "[5 rows x 31 columns]"
      ]
     },
     "execution_count": 78,
     "metadata": {},
     "output_type": "execute_result"
    }
   ],
   "source": [
    "train_df.head()"
   ]
  },
  {
   "cell_type": "markdown",
   "metadata": {},
   "source": [
    "## Drop Features\n",
    "\n",
    "- We have already extracted all the necessary features from the `Address` attribute, so drop\n",
    "- We don't need `Resolution` or `Descript` features since it is not included in the training data"
   ]
  },
  {
   "cell_type": "code",
   "execution_count": 79,
   "metadata": {
    "ExecuteTime": {
     "end_time": "2018-09-15T00:15:26.460052Z",
     "start_time": "2018-09-15T00:15:25.759851Z"
    }
   },
   "outputs": [],
   "source": [
    "# Drop Address feature from both train and test set\n",
    "train_df.drop(['Address'], axis=1, inplace=True)\n",
    "test_df.drop(['Address'], axis=1, inplace=True)"
   ]
  },
  {
   "cell_type": "code",
   "execution_count": 80,
   "metadata": {
    "ExecuteTime": {
     "end_time": "2018-09-15T00:15:26.724329Z",
     "start_time": "2018-09-15T00:15:26.462106Z"
    }
   },
   "outputs": [],
   "source": [
    "# We don't need Dates column anymore\n",
    "train_df.drop(['Dates'], axis=1, inplace=True)\n",
    "test_df.drop(['Dates'], axis=1, inplace=True)"
   ]
  },
  {
   "cell_type": "code",
   "execution_count": 81,
   "metadata": {
    "ExecuteTime": {
     "end_time": "2018-09-15T00:15:26.815822Z",
     "start_time": "2018-09-15T00:15:26.726626Z"
    }
   },
   "outputs": [],
   "source": [
    "# Drop Resolution column since test set does not have this column\n",
    "train_df.drop(['Resolution'], axis=1, inplace=True)"
   ]
  },
  {
   "cell_type": "code",
   "execution_count": 82,
   "metadata": {
    "ExecuteTime": {
     "end_time": "2018-09-15T00:15:26.912963Z",
     "start_time": "2018-09-15T00:15:26.817639Z"
    }
   },
   "outputs": [],
   "source": [
    "# Drop Descript column since test set does not have this column\n",
    "train_df.drop(['Descript'], axis=1, inplace=True)"
   ]
  },
  {
   "cell_type": "code",
   "execution_count": 83,
   "metadata": {
    "ExecuteTime": {
     "end_time": "2018-09-15T00:15:26.936327Z",
     "start_time": "2018-09-15T00:15:26.915051Z"
    }
   },
   "outputs": [
    {
     "data": {
      "text/html": [
       "<div>\n",
       "<style scoped>\n",
       "    .dataframe tbody tr th:only-of-type {\n",
       "        vertical-align: middle;\n",
       "    }\n",
       "\n",
       "    .dataframe tbody tr th {\n",
       "        vertical-align: top;\n",
       "    }\n",
       "\n",
       "    .dataframe thead th {\n",
       "        text-align: right;\n",
       "    }\n",
       "</style>\n",
       "<table border=\"1\" class=\"dataframe\">\n",
       "  <thead>\n",
       "    <tr style=\"text-align: right;\">\n",
       "      <th></th>\n",
       "      <th>Category</th>\n",
       "      <th>DayOfWeek</th>\n",
       "      <th>PdDistrict</th>\n",
       "      <th>X</th>\n",
       "      <th>Y</th>\n",
       "      <th>Minute</th>\n",
       "      <th>Hour</th>\n",
       "      <th>Day</th>\n",
       "      <th>Month</th>\n",
       "      <th>Year</th>\n",
       "      <th>...</th>\n",
       "      <th>BlockNo</th>\n",
       "      <th>Rot30_X</th>\n",
       "      <th>Rot30_Y</th>\n",
       "      <th>Rot45_X</th>\n",
       "      <th>Rot45_Y</th>\n",
       "      <th>Rot60_X</th>\n",
       "      <th>Rot60_Y</th>\n",
       "      <th>Radius</th>\n",
       "      <th>Angle</th>\n",
       "      <th>Cluster</th>\n",
       "    </tr>\n",
       "  </thead>\n",
       "  <tbody>\n",
       "    <tr>\n",
       "      <th>0</th>\n",
       "      <td>WARRANTS</td>\n",
       "      <td>Wednesday</td>\n",
       "      <td>NORTHERN</td>\n",
       "      <td>-0.123619</td>\n",
       "      <td>0.313047</td>\n",
       "      <td>53</td>\n",
       "      <td>23</td>\n",
       "      <td>13</td>\n",
       "      <td>5</td>\n",
       "      <td>2015</td>\n",
       "      <td>...</td>\n",
       "      <td>0</td>\n",
       "      <td>-0.263580</td>\n",
       "      <td>0.209297</td>\n",
       "      <td>-0.308769</td>\n",
       "      <td>0.133946</td>\n",
       "      <td>-0.332916</td>\n",
       "      <td>0.049466</td>\n",
       "      <td>0.336571</td>\n",
       "      <td>-0.376092</td>\n",
       "      <td>26</td>\n",
       "    </tr>\n",
       "    <tr>\n",
       "      <th>1</th>\n",
       "      <td>OTHER OFFENSES</td>\n",
       "      <td>Wednesday</td>\n",
       "      <td>NORTHERN</td>\n",
       "      <td>-0.123619</td>\n",
       "      <td>0.313047</td>\n",
       "      <td>53</td>\n",
       "      <td>23</td>\n",
       "      <td>13</td>\n",
       "      <td>5</td>\n",
       "      <td>2015</td>\n",
       "      <td>...</td>\n",
       "      <td>0</td>\n",
       "      <td>-0.263580</td>\n",
       "      <td>0.209297</td>\n",
       "      <td>-0.308769</td>\n",
       "      <td>0.133946</td>\n",
       "      <td>-0.332916</td>\n",
       "      <td>0.049466</td>\n",
       "      <td>0.336571</td>\n",
       "      <td>-0.376092</td>\n",
       "      <td>26</td>\n",
       "    </tr>\n",
       "    <tr>\n",
       "      <th>2</th>\n",
       "      <td>OTHER OFFENSES</td>\n",
       "      <td>Wednesday</td>\n",
       "      <td>NORTHERN</td>\n",
       "      <td>-0.063171</td>\n",
       "      <td>1.381252</td>\n",
       "      <td>33</td>\n",
       "      <td>23</td>\n",
       "      <td>13</td>\n",
       "      <td>5</td>\n",
       "      <td>2015</td>\n",
       "      <td>...</td>\n",
       "      <td>0</td>\n",
       "      <td>-0.745334</td>\n",
       "      <td>1.164614</td>\n",
       "      <td>-1.021362</td>\n",
       "      <td>0.932024</td>\n",
       "      <td>-1.227785</td>\n",
       "      <td>0.635918</td>\n",
       "      <td>1.382696</td>\n",
       "      <td>-0.045703</td>\n",
       "      <td>35</td>\n",
       "    </tr>\n",
       "    <tr>\n",
       "      <th>3</th>\n",
       "      <td>LARCENY/THEFT</td>\n",
       "      <td>Wednesday</td>\n",
       "      <td>NORTHERN</td>\n",
       "      <td>-0.167260</td>\n",
       "      <td>1.400216</td>\n",
       "      <td>30</td>\n",
       "      <td>23</td>\n",
       "      <td>13</td>\n",
       "      <td>5</td>\n",
       "      <td>2015</td>\n",
       "      <td>...</td>\n",
       "      <td>16</td>\n",
       "      <td>-0.844960</td>\n",
       "      <td>1.128993</td>\n",
       "      <td>-1.108373</td>\n",
       "      <td>0.871832</td>\n",
       "      <td>-1.296253</td>\n",
       "      <td>0.555257</td>\n",
       "      <td>1.410171</td>\n",
       "      <td>-0.118890</td>\n",
       "      <td>35</td>\n",
       "    </tr>\n",
       "    <tr>\n",
       "      <th>4</th>\n",
       "      <td>LARCENY/THEFT</td>\n",
       "      <td>Wednesday</td>\n",
       "      <td>PARK</td>\n",
       "      <td>-0.631583</td>\n",
       "      <td>0.186536</td>\n",
       "      <td>30</td>\n",
       "      <td>23</td>\n",
       "      <td>13</td>\n",
       "      <td>5</td>\n",
       "      <td>2015</td>\n",
       "      <td>...</td>\n",
       "      <td>2</td>\n",
       "      <td>-0.640235</td>\n",
       "      <td>-0.154246</td>\n",
       "      <td>-0.578498</td>\n",
       "      <td>-0.314695</td>\n",
       "      <td>-0.477337</td>\n",
       "      <td>-0.453699</td>\n",
       "      <td>0.658554</td>\n",
       "      <td>-1.283613</td>\n",
       "      <td>26</td>\n",
       "    </tr>\n",
       "  </tbody>\n",
       "</table>\n",
       "<p>5 rows × 27 columns</p>\n",
       "</div>"
      ],
      "text/plain": [
       "         Category  DayOfWeek PdDistrict         X         Y  Minute  Hour  \\\n",
       "0        WARRANTS  Wednesday   NORTHERN -0.123619  0.313047      53    23   \n",
       "1  OTHER OFFENSES  Wednesday   NORTHERN -0.123619  0.313047      53    23   \n",
       "2  OTHER OFFENSES  Wednesday   NORTHERN -0.063171  1.381252      33    23   \n",
       "3   LARCENY/THEFT  Wednesday   NORTHERN -0.167260  1.400216      30    23   \n",
       "4   LARCENY/THEFT  Wednesday       PARK -0.631583  0.186536      30    23   \n",
       "\n",
       "   Day  Month  Year  ...  BlockNo   Rot30_X   Rot30_Y   Rot45_X   Rot45_Y  \\\n",
       "0   13      5  2015  ...        0 -0.263580  0.209297 -0.308769  0.133946   \n",
       "1   13      5  2015  ...        0 -0.263580  0.209297 -0.308769  0.133946   \n",
       "2   13      5  2015  ...        0 -0.745334  1.164614 -1.021362  0.932024   \n",
       "3   13      5  2015  ...       16 -0.844960  1.128993 -1.108373  0.871832   \n",
       "4   13      5  2015  ...        2 -0.640235 -0.154246 -0.578498 -0.314695   \n",
       "\n",
       "    Rot60_X   Rot60_Y    Radius     Angle  Cluster  \n",
       "0 -0.332916  0.049466  0.336571 -0.376092       26  \n",
       "1 -0.332916  0.049466  0.336571 -0.376092       26  \n",
       "2 -1.227785  0.635918  1.382696 -0.045703       35  \n",
       "3 -1.296253  0.555257  1.410171 -0.118890       35  \n",
       "4 -0.477337 -0.453699  0.658554 -1.283613       26  \n",
       "\n",
       "[5 rows x 27 columns]"
      ]
     },
     "execution_count": 83,
     "metadata": {},
     "output_type": "execute_result"
    }
   ],
   "source": [
    "# Let's quickly view the data\n",
    "train_df.head()"
   ]
  },
  {
   "cell_type": "markdown",
   "metadata": {},
   "source": [
    "# Feature Encoding \n",
    "\n",
    "- Convert categorical data to numeric data"
   ]
  },
  {
   "cell_type": "markdown",
   "metadata": {},
   "source": [
    "### Pd Districts\n",
    "\n",
    "- convert Pd District categorical feature to numeric"
   ]
  },
  {
   "cell_type": "code",
   "execution_count": 84,
   "metadata": {
    "ExecuteTime": {
     "end_time": "2018-09-15T00:15:27.960027Z",
     "start_time": "2018-09-15T00:15:26.938164Z"
    }
   },
   "outputs": [],
   "source": [
    "pd_districts = {'SOUTHERN':0, 'MISSION':1, 'NORTHERN':2, 'CENTRAL':3, 'BAYVIEW':4, 'INGLESIDE':5, \n",
    "                'TENDERLOIN':6, 'TARAVAL':7, 'PARK':8, 'RICHMOND':9}\n",
    "\n",
    "train_df['PdDistrict'].replace(pd_districts, inplace=True)\n",
    "test_df['PdDistrict'].replace(pd_districts, inplace=True)"
   ]
  },
  {
   "cell_type": "code",
   "execution_count": 85,
   "metadata": {
    "ExecuteTime": {
     "end_time": "2018-09-15T00:15:27.981326Z",
     "start_time": "2018-09-15T00:15:27.961850Z"
    }
   },
   "outputs": [
    {
     "data": {
      "text/html": [
       "<div>\n",
       "<style scoped>\n",
       "    .dataframe tbody tr th:only-of-type {\n",
       "        vertical-align: middle;\n",
       "    }\n",
       "\n",
       "    .dataframe tbody tr th {\n",
       "        vertical-align: top;\n",
       "    }\n",
       "\n",
       "    .dataframe thead th {\n",
       "        text-align: right;\n",
       "    }\n",
       "</style>\n",
       "<table border=\"1\" class=\"dataframe\">\n",
       "  <thead>\n",
       "    <tr style=\"text-align: right;\">\n",
       "      <th></th>\n",
       "      <th>Category</th>\n",
       "      <th>DayOfWeek</th>\n",
       "      <th>PdDistrict</th>\n",
       "      <th>X</th>\n",
       "      <th>Y</th>\n",
       "      <th>Minute</th>\n",
       "      <th>Hour</th>\n",
       "      <th>Day</th>\n",
       "      <th>Month</th>\n",
       "      <th>Year</th>\n",
       "      <th>...</th>\n",
       "      <th>BlockNo</th>\n",
       "      <th>Rot30_X</th>\n",
       "      <th>Rot30_Y</th>\n",
       "      <th>Rot45_X</th>\n",
       "      <th>Rot45_Y</th>\n",
       "      <th>Rot60_X</th>\n",
       "      <th>Rot60_Y</th>\n",
       "      <th>Radius</th>\n",
       "      <th>Angle</th>\n",
       "      <th>Cluster</th>\n",
       "    </tr>\n",
       "  </thead>\n",
       "  <tbody>\n",
       "    <tr>\n",
       "      <th>0</th>\n",
       "      <td>WARRANTS</td>\n",
       "      <td>Wednesday</td>\n",
       "      <td>2</td>\n",
       "      <td>-0.123619</td>\n",
       "      <td>0.313047</td>\n",
       "      <td>53</td>\n",
       "      <td>23</td>\n",
       "      <td>13</td>\n",
       "      <td>5</td>\n",
       "      <td>2015</td>\n",
       "      <td>...</td>\n",
       "      <td>0</td>\n",
       "      <td>-0.263580</td>\n",
       "      <td>0.209297</td>\n",
       "      <td>-0.308769</td>\n",
       "      <td>0.133946</td>\n",
       "      <td>-0.332916</td>\n",
       "      <td>0.049466</td>\n",
       "      <td>0.336571</td>\n",
       "      <td>-0.376092</td>\n",
       "      <td>26</td>\n",
       "    </tr>\n",
       "    <tr>\n",
       "      <th>1</th>\n",
       "      <td>OTHER OFFENSES</td>\n",
       "      <td>Wednesday</td>\n",
       "      <td>2</td>\n",
       "      <td>-0.123619</td>\n",
       "      <td>0.313047</td>\n",
       "      <td>53</td>\n",
       "      <td>23</td>\n",
       "      <td>13</td>\n",
       "      <td>5</td>\n",
       "      <td>2015</td>\n",
       "      <td>...</td>\n",
       "      <td>0</td>\n",
       "      <td>-0.263580</td>\n",
       "      <td>0.209297</td>\n",
       "      <td>-0.308769</td>\n",
       "      <td>0.133946</td>\n",
       "      <td>-0.332916</td>\n",
       "      <td>0.049466</td>\n",
       "      <td>0.336571</td>\n",
       "      <td>-0.376092</td>\n",
       "      <td>26</td>\n",
       "    </tr>\n",
       "    <tr>\n",
       "      <th>2</th>\n",
       "      <td>OTHER OFFENSES</td>\n",
       "      <td>Wednesday</td>\n",
       "      <td>2</td>\n",
       "      <td>-0.063171</td>\n",
       "      <td>1.381252</td>\n",
       "      <td>33</td>\n",
       "      <td>23</td>\n",
       "      <td>13</td>\n",
       "      <td>5</td>\n",
       "      <td>2015</td>\n",
       "      <td>...</td>\n",
       "      <td>0</td>\n",
       "      <td>-0.745334</td>\n",
       "      <td>1.164614</td>\n",
       "      <td>-1.021362</td>\n",
       "      <td>0.932024</td>\n",
       "      <td>-1.227785</td>\n",
       "      <td>0.635918</td>\n",
       "      <td>1.382696</td>\n",
       "      <td>-0.045703</td>\n",
       "      <td>35</td>\n",
       "    </tr>\n",
       "    <tr>\n",
       "      <th>3</th>\n",
       "      <td>LARCENY/THEFT</td>\n",
       "      <td>Wednesday</td>\n",
       "      <td>2</td>\n",
       "      <td>-0.167260</td>\n",
       "      <td>1.400216</td>\n",
       "      <td>30</td>\n",
       "      <td>23</td>\n",
       "      <td>13</td>\n",
       "      <td>5</td>\n",
       "      <td>2015</td>\n",
       "      <td>...</td>\n",
       "      <td>16</td>\n",
       "      <td>-0.844960</td>\n",
       "      <td>1.128993</td>\n",
       "      <td>-1.108373</td>\n",
       "      <td>0.871832</td>\n",
       "      <td>-1.296253</td>\n",
       "      <td>0.555257</td>\n",
       "      <td>1.410171</td>\n",
       "      <td>-0.118890</td>\n",
       "      <td>35</td>\n",
       "    </tr>\n",
       "    <tr>\n",
       "      <th>4</th>\n",
       "      <td>LARCENY/THEFT</td>\n",
       "      <td>Wednesday</td>\n",
       "      <td>8</td>\n",
       "      <td>-0.631583</td>\n",
       "      <td>0.186536</td>\n",
       "      <td>30</td>\n",
       "      <td>23</td>\n",
       "      <td>13</td>\n",
       "      <td>5</td>\n",
       "      <td>2015</td>\n",
       "      <td>...</td>\n",
       "      <td>2</td>\n",
       "      <td>-0.640235</td>\n",
       "      <td>-0.154246</td>\n",
       "      <td>-0.578498</td>\n",
       "      <td>-0.314695</td>\n",
       "      <td>-0.477337</td>\n",
       "      <td>-0.453699</td>\n",
       "      <td>0.658554</td>\n",
       "      <td>-1.283613</td>\n",
       "      <td>26</td>\n",
       "    </tr>\n",
       "  </tbody>\n",
       "</table>\n",
       "<p>5 rows × 27 columns</p>\n",
       "</div>"
      ],
      "text/plain": [
       "         Category  DayOfWeek  PdDistrict         X         Y  Minute  Hour  \\\n",
       "0        WARRANTS  Wednesday           2 -0.123619  0.313047      53    23   \n",
       "1  OTHER OFFENSES  Wednesday           2 -0.123619  0.313047      53    23   \n",
       "2  OTHER OFFENSES  Wednesday           2 -0.063171  1.381252      33    23   \n",
       "3   LARCENY/THEFT  Wednesday           2 -0.167260  1.400216      30    23   \n",
       "4   LARCENY/THEFT  Wednesday           8 -0.631583  0.186536      30    23   \n",
       "\n",
       "   Day  Month  Year  ...  BlockNo   Rot30_X   Rot30_Y   Rot45_X   Rot45_Y  \\\n",
       "0   13      5  2015  ...        0 -0.263580  0.209297 -0.308769  0.133946   \n",
       "1   13      5  2015  ...        0 -0.263580  0.209297 -0.308769  0.133946   \n",
       "2   13      5  2015  ...        0 -0.745334  1.164614 -1.021362  0.932024   \n",
       "3   13      5  2015  ...       16 -0.844960  1.128993 -1.108373  0.871832   \n",
       "4   13      5  2015  ...        2 -0.640235 -0.154246 -0.578498 -0.314695   \n",
       "\n",
       "    Rot60_X   Rot60_Y    Radius     Angle  Cluster  \n",
       "0 -0.332916  0.049466  0.336571 -0.376092       26  \n",
       "1 -0.332916  0.049466  0.336571 -0.376092       26  \n",
       "2 -1.227785  0.635918  1.382696 -0.045703       35  \n",
       "3 -1.296253  0.555257  1.410171 -0.118890       35  \n",
       "4 -0.477337 -0.453699  0.658554 -1.283613       26  \n",
       "\n",
       "[5 rows x 27 columns]"
      ]
     },
     "execution_count": 85,
     "metadata": {},
     "output_type": "execute_result"
    }
   ],
   "source": [
    "train_df.head()"
   ]
  },
  {
   "cell_type": "code",
   "execution_count": 86,
   "metadata": {
    "ExecuteTime": {
     "end_time": "2018-09-15T00:15:28.480435Z",
     "start_time": "2018-09-15T00:15:27.983129Z"
    }
   },
   "outputs": [
    {
     "name": "stdout",
     "output_type": "stream",
     "text": [
      "<class 'pandas.core.frame.DataFrame'>\n",
      "RangeIndex: 878049 entries, 0 to 878048\n",
      "Data columns (total 27 columns):\n",
      " #   Column        Non-Null Count   Dtype  \n",
      "---  ------        --------------   -----  \n",
      " 0   Category      878049 non-null  object \n",
      " 1   DayOfWeek     878049 non-null  object \n",
      " 2   PdDistrict    878049 non-null  int64  \n",
      " 3   X             878049 non-null  float64\n",
      " 4   Y             878049 non-null  float64\n",
      " 5   Minute        878049 non-null  int64  \n",
      " 6   Hour          878049 non-null  int64  \n",
      " 7   Day           878049 non-null  int64  \n",
      " 8   Month         878049 non-null  int64  \n",
      " 9   Year          878049 non-null  int64  \n",
      " 10  Hour_Zone     878049 non-null  int64  \n",
      " 11  WeekOfYear    878049 non-null  int64  \n",
      " 12  Holiday       878049 non-null  bool   \n",
      " 13  BusinessHour  878049 non-null  uint8  \n",
      " 14  Season        878049 non-null  int64  \n",
      " 15  Weekend       878049 non-null  uint8  \n",
      " 16  StreetType    878049 non-null  object \n",
      " 17  BlockNo       878049 non-null  int64  \n",
      " 18  Rot30_X       878049 non-null  float64\n",
      " 19  Rot30_Y       878049 non-null  float64\n",
      " 20  Rot45_X       878049 non-null  float64\n",
      " 21  Rot45_Y       878049 non-null  float64\n",
      " 22  Rot60_X       878049 non-null  float64\n",
      " 23  Rot60_Y       878049 non-null  float64\n",
      " 24  Radius        878049 non-null  float64\n",
      " 25  Angle         878049 non-null  float64\n",
      " 26  Cluster       878049 non-null  int32  \n",
      "dtypes: bool(1), float64(10), int32(1), int64(10), object(3), uint8(2)\n",
      "memory usage: 159.9+ MB\n"
     ]
    }
   ],
   "source": [
    "train_df.info()"
   ]
  },
  {
   "cell_type": "markdown",
   "metadata": {},
   "source": [
    "### Year\n",
    "\n",
    "- Year is an **ordinal** variable, so let's keep that ordering and mapping\n",
    "- convert Year categorical feature to numeric"
   ]
  },
  {
   "cell_type": "code",
   "execution_count": 87,
   "metadata": {
    "ExecuteTime": {
     "end_time": "2018-09-15T00:15:28.548217Z",
     "start_time": "2018-09-15T00:15:28.482183Z"
    }
   },
   "outputs": [
    {
     "name": "stdout",
     "output_type": "stream",
     "text": [
      "[2003, 2004, 2005, 2006, 2007, 2008, 2009, 2010, 2011, 2012, 2013, 2014, 2015]\n",
      "[2003, 2004, 2005, 2006, 2007, 2008, 2009, 2010, 2011, 2012, 2013, 2014, 2015]\n"
     ]
    }
   ],
   "source": [
    "data = [train_df, test_df]\n",
    "\n",
    "for dataset in data:\n",
    "    year_le = LabelEncoder()\n",
    "    year_le.fit(dataset['Year'].unique())\n",
    "    print(list(year_le.classes_))\n",
    "\n",
    "    dataset['Year']=year_le.transform(dataset['Year']) "
   ]
  },
  {
   "cell_type": "code",
   "execution_count": 88,
   "metadata": {
    "ExecuteTime": {
     "end_time": "2018-09-15T00:15:28.558184Z",
     "start_time": "2018-09-15T00:15:28.549815Z"
    }
   },
   "outputs": [
    {
     "data": {
      "text/plain": [
       "array([12, 11, 10,  9,  8,  7,  6,  5,  4,  3,  2,  1,  0])"
      ]
     },
     "execution_count": 88,
     "metadata": {},
     "output_type": "execute_result"
    }
   ],
   "source": [
    "train_df['Year'].unique()"
   ]
  },
  {
   "cell_type": "code",
   "execution_count": 89,
   "metadata": {
    "ExecuteTime": {
     "end_time": "2018-09-15T00:15:28.565007Z",
     "start_time": "2018-09-15T00:15:28.560030Z"
    }
   },
   "outputs": [
    {
     "data": {
      "text/plain": [
       "{2003: 0,\n",
       " 2004: 1,\n",
       " 2005: 2,\n",
       " 2006: 3,\n",
       " 2007: 4,\n",
       " 2008: 5,\n",
       " 2009: 6,\n",
       " 2010: 7,\n",
       " 2011: 8,\n",
       " 2012: 9,\n",
       " 2013: 10,\n",
       " 2014: 11,\n",
       " 2015: 12}"
      ]
     },
     "execution_count": 89,
     "metadata": {},
     "output_type": "execute_result"
    }
   ],
   "source": [
    "# So we know the mapping (important)\n",
    "dict(zip(year_le.classes_, year_le.transform(year_le.classes_)))"
   ]
  },
  {
   "cell_type": "code",
   "execution_count": 90,
   "metadata": {
    "ExecuteTime": {
     "end_time": "2018-09-15T00:15:28.586908Z",
     "start_time": "2018-09-15T00:15:28.566585Z"
    }
   },
   "outputs": [
    {
     "data": {
      "text/html": [
       "<div>\n",
       "<style scoped>\n",
       "    .dataframe tbody tr th:only-of-type {\n",
       "        vertical-align: middle;\n",
       "    }\n",
       "\n",
       "    .dataframe tbody tr th {\n",
       "        vertical-align: top;\n",
       "    }\n",
       "\n",
       "    .dataframe thead th {\n",
       "        text-align: right;\n",
       "    }\n",
       "</style>\n",
       "<table border=\"1\" class=\"dataframe\">\n",
       "  <thead>\n",
       "    <tr style=\"text-align: right;\">\n",
       "      <th></th>\n",
       "      <th>Category</th>\n",
       "      <th>DayOfWeek</th>\n",
       "      <th>PdDistrict</th>\n",
       "      <th>X</th>\n",
       "      <th>Y</th>\n",
       "      <th>Minute</th>\n",
       "      <th>Hour</th>\n",
       "      <th>Day</th>\n",
       "      <th>Month</th>\n",
       "      <th>Year</th>\n",
       "      <th>...</th>\n",
       "      <th>BlockNo</th>\n",
       "      <th>Rot30_X</th>\n",
       "      <th>Rot30_Y</th>\n",
       "      <th>Rot45_X</th>\n",
       "      <th>Rot45_Y</th>\n",
       "      <th>Rot60_X</th>\n",
       "      <th>Rot60_Y</th>\n",
       "      <th>Radius</th>\n",
       "      <th>Angle</th>\n",
       "      <th>Cluster</th>\n",
       "    </tr>\n",
       "  </thead>\n",
       "  <tbody>\n",
       "    <tr>\n",
       "      <th>0</th>\n",
       "      <td>WARRANTS</td>\n",
       "      <td>Wednesday</td>\n",
       "      <td>2</td>\n",
       "      <td>-0.123619</td>\n",
       "      <td>0.313047</td>\n",
       "      <td>53</td>\n",
       "      <td>23</td>\n",
       "      <td>13</td>\n",
       "      <td>5</td>\n",
       "      <td>12</td>\n",
       "      <td>...</td>\n",
       "      <td>0</td>\n",
       "      <td>-0.263580</td>\n",
       "      <td>0.209297</td>\n",
       "      <td>-0.308769</td>\n",
       "      <td>0.133946</td>\n",
       "      <td>-0.332916</td>\n",
       "      <td>0.049466</td>\n",
       "      <td>0.336571</td>\n",
       "      <td>-0.376092</td>\n",
       "      <td>26</td>\n",
       "    </tr>\n",
       "    <tr>\n",
       "      <th>1</th>\n",
       "      <td>OTHER OFFENSES</td>\n",
       "      <td>Wednesday</td>\n",
       "      <td>2</td>\n",
       "      <td>-0.123619</td>\n",
       "      <td>0.313047</td>\n",
       "      <td>53</td>\n",
       "      <td>23</td>\n",
       "      <td>13</td>\n",
       "      <td>5</td>\n",
       "      <td>12</td>\n",
       "      <td>...</td>\n",
       "      <td>0</td>\n",
       "      <td>-0.263580</td>\n",
       "      <td>0.209297</td>\n",
       "      <td>-0.308769</td>\n",
       "      <td>0.133946</td>\n",
       "      <td>-0.332916</td>\n",
       "      <td>0.049466</td>\n",
       "      <td>0.336571</td>\n",
       "      <td>-0.376092</td>\n",
       "      <td>26</td>\n",
       "    </tr>\n",
       "    <tr>\n",
       "      <th>2</th>\n",
       "      <td>OTHER OFFENSES</td>\n",
       "      <td>Wednesday</td>\n",
       "      <td>2</td>\n",
       "      <td>-0.063171</td>\n",
       "      <td>1.381252</td>\n",
       "      <td>33</td>\n",
       "      <td>23</td>\n",
       "      <td>13</td>\n",
       "      <td>5</td>\n",
       "      <td>12</td>\n",
       "      <td>...</td>\n",
       "      <td>0</td>\n",
       "      <td>-0.745334</td>\n",
       "      <td>1.164614</td>\n",
       "      <td>-1.021362</td>\n",
       "      <td>0.932024</td>\n",
       "      <td>-1.227785</td>\n",
       "      <td>0.635918</td>\n",
       "      <td>1.382696</td>\n",
       "      <td>-0.045703</td>\n",
       "      <td>35</td>\n",
       "    </tr>\n",
       "    <tr>\n",
       "      <th>3</th>\n",
       "      <td>LARCENY/THEFT</td>\n",
       "      <td>Wednesday</td>\n",
       "      <td>2</td>\n",
       "      <td>-0.167260</td>\n",
       "      <td>1.400216</td>\n",
       "      <td>30</td>\n",
       "      <td>23</td>\n",
       "      <td>13</td>\n",
       "      <td>5</td>\n",
       "      <td>12</td>\n",
       "      <td>...</td>\n",
       "      <td>16</td>\n",
       "      <td>-0.844960</td>\n",
       "      <td>1.128993</td>\n",
       "      <td>-1.108373</td>\n",
       "      <td>0.871832</td>\n",
       "      <td>-1.296253</td>\n",
       "      <td>0.555257</td>\n",
       "      <td>1.410171</td>\n",
       "      <td>-0.118890</td>\n",
       "      <td>35</td>\n",
       "    </tr>\n",
       "    <tr>\n",
       "      <th>4</th>\n",
       "      <td>LARCENY/THEFT</td>\n",
       "      <td>Wednesday</td>\n",
       "      <td>8</td>\n",
       "      <td>-0.631583</td>\n",
       "      <td>0.186536</td>\n",
       "      <td>30</td>\n",
       "      <td>23</td>\n",
       "      <td>13</td>\n",
       "      <td>5</td>\n",
       "      <td>12</td>\n",
       "      <td>...</td>\n",
       "      <td>2</td>\n",
       "      <td>-0.640235</td>\n",
       "      <td>-0.154246</td>\n",
       "      <td>-0.578498</td>\n",
       "      <td>-0.314695</td>\n",
       "      <td>-0.477337</td>\n",
       "      <td>-0.453699</td>\n",
       "      <td>0.658554</td>\n",
       "      <td>-1.283613</td>\n",
       "      <td>26</td>\n",
       "    </tr>\n",
       "  </tbody>\n",
       "</table>\n",
       "<p>5 rows × 27 columns</p>\n",
       "</div>"
      ],
      "text/plain": [
       "         Category  DayOfWeek  PdDistrict         X         Y  Minute  Hour  \\\n",
       "0        WARRANTS  Wednesday           2 -0.123619  0.313047      53    23   \n",
       "1  OTHER OFFENSES  Wednesday           2 -0.123619  0.313047      53    23   \n",
       "2  OTHER OFFENSES  Wednesday           2 -0.063171  1.381252      33    23   \n",
       "3   LARCENY/THEFT  Wednesday           2 -0.167260  1.400216      30    23   \n",
       "4   LARCENY/THEFT  Wednesday           8 -0.631583  0.186536      30    23   \n",
       "\n",
       "   Day  Month  Year  ...  BlockNo   Rot30_X   Rot30_Y   Rot45_X   Rot45_Y  \\\n",
       "0   13      5    12  ...        0 -0.263580  0.209297 -0.308769  0.133946   \n",
       "1   13      5    12  ...        0 -0.263580  0.209297 -0.308769  0.133946   \n",
       "2   13      5    12  ...        0 -0.745334  1.164614 -1.021362  0.932024   \n",
       "3   13      5    12  ...       16 -0.844960  1.128993 -1.108373  0.871832   \n",
       "4   13      5    12  ...        2 -0.640235 -0.154246 -0.578498 -0.314695   \n",
       "\n",
       "    Rot60_X   Rot60_Y    Radius     Angle  Cluster  \n",
       "0 -0.332916  0.049466  0.336571 -0.376092       26  \n",
       "1 -0.332916  0.049466  0.336571 -0.376092       26  \n",
       "2 -1.227785  0.635918  1.382696 -0.045703       35  \n",
       "3 -1.296253  0.555257  1.410171 -0.118890       35  \n",
       "4 -0.477337 -0.453699  0.658554 -1.283613       26  \n",
       "\n",
       "[5 rows x 27 columns]"
      ]
     },
     "execution_count": 90,
     "metadata": {},
     "output_type": "execute_result"
    }
   ],
   "source": [
    "train_df.head()"
   ]
  },
  {
   "cell_type": "code",
   "execution_count": 91,
   "metadata": {
    "ExecuteTime": {
     "end_time": "2018-09-15T00:15:28.960961Z",
     "start_time": "2018-09-15T00:15:28.588787Z"
    }
   },
   "outputs": [
    {
     "name": "stdout",
     "output_type": "stream",
     "text": [
      "<class 'pandas.core.frame.DataFrame'>\n",
      "RangeIndex: 878049 entries, 0 to 878048\n",
      "Data columns (total 27 columns):\n",
      " #   Column        Non-Null Count   Dtype  \n",
      "---  ------        --------------   -----  \n",
      " 0   Category      878049 non-null  object \n",
      " 1   DayOfWeek     878049 non-null  object \n",
      " 2   PdDistrict    878049 non-null  int64  \n",
      " 3   X             878049 non-null  float64\n",
      " 4   Y             878049 non-null  float64\n",
      " 5   Minute        878049 non-null  int64  \n",
      " 6   Hour          878049 non-null  int64  \n",
      " 7   Day           878049 non-null  int64  \n",
      " 8   Month         878049 non-null  int64  \n",
      " 9   Year          878049 non-null  int64  \n",
      " 10  Hour_Zone     878049 non-null  int64  \n",
      " 11  WeekOfYear    878049 non-null  int64  \n",
      " 12  Holiday       878049 non-null  bool   \n",
      " 13  BusinessHour  878049 non-null  uint8  \n",
      " 14  Season        878049 non-null  int64  \n",
      " 15  Weekend       878049 non-null  uint8  \n",
      " 16  StreetType    878049 non-null  object \n",
      " 17  BlockNo       878049 non-null  int64  \n",
      " 18  Rot30_X       878049 non-null  float64\n",
      " 19  Rot30_Y       878049 non-null  float64\n",
      " 20  Rot45_X       878049 non-null  float64\n",
      " 21  Rot45_Y       878049 non-null  float64\n",
      " 22  Rot60_X       878049 non-null  float64\n",
      " 23  Rot60_Y       878049 non-null  float64\n",
      " 24  Radius        878049 non-null  float64\n",
      " 25  Angle         878049 non-null  float64\n",
      " 26  Cluster       878049 non-null  int32  \n",
      "dtypes: bool(1), float64(10), int32(1), int64(10), object(3), uint8(2)\n",
      "memory usage: 159.9+ MB\n"
     ]
    }
   ],
   "source": [
    "train_df.info()"
   ]
  },
  {
   "cell_type": "markdown",
   "metadata": {},
   "source": [
    "### DayOfWeek\n",
    "\n",
    "- we are going to use sklearn's LabelEncoder to encode the categorical data to numeric\n",
    "- Day of week is considered a categorical and nominal variable"
   ]
  },
  {
   "cell_type": "code",
   "execution_count": 92,
   "metadata": {
    "ExecuteTime": {
     "end_time": "2018-09-15T00:15:30.490086Z",
     "start_time": "2018-09-15T00:15:28.963333Z"
    }
   },
   "outputs": [
    {
     "name": "stdout",
     "output_type": "stream",
     "text": [
      "['Friday', 'Monday', 'Saturday', 'Sunday', 'Thursday', 'Tuesday', 'Wednesday']\n",
      "['Friday', 'Monday', 'Saturday', 'Sunday', 'Thursday', 'Tuesday', 'Wednesday']\n"
     ]
    }
   ],
   "source": [
    "data = [train_df, test_df]\n",
    "\n",
    "for dataset in data:\n",
    "    dow_le = LabelEncoder()\n",
    "    dow_le.fit(dataset['DayOfWeek'].unique())\n",
    "    print(list(dow_le.classes_))\n",
    "    dataset['DayOfWeek']=dow_le.transform(dataset['DayOfWeek'])"
   ]
  },
  {
   "cell_type": "code",
   "execution_count": 93,
   "metadata": {
    "ExecuteTime": {
     "end_time": "2018-09-15T00:15:30.502616Z",
     "start_time": "2018-09-15T00:15:30.491985Z"
    }
   },
   "outputs": [
    {
     "data": {
      "text/plain": [
       "array([6, 5, 1, 3, 2, 0, 4])"
      ]
     },
     "execution_count": 93,
     "metadata": {},
     "output_type": "execute_result"
    }
   ],
   "source": [
    "train_df['DayOfWeek'].unique()"
   ]
  },
  {
   "cell_type": "code",
   "execution_count": 94,
   "metadata": {
    "ExecuteTime": {
     "end_time": "2018-09-15T00:15:30.514008Z",
     "start_time": "2018-09-15T00:15:30.505862Z"
    }
   },
   "outputs": [
    {
     "data": {
      "text/plain": [
       "{'Friday': 0,\n",
       " 'Monday': 1,\n",
       " 'Saturday': 2,\n",
       " 'Sunday': 3,\n",
       " 'Thursday': 4,\n",
       " 'Tuesday': 5,\n",
       " 'Wednesday': 6}"
      ]
     },
     "execution_count": 94,
     "metadata": {},
     "output_type": "execute_result"
    }
   ],
   "source": [
    "# So we know the mapping (important)\n",
    "dict(zip(dow_le.classes_, dow_le.transform(dow_le.classes_)))"
   ]
  },
  {
   "cell_type": "code",
   "execution_count": 95,
   "metadata": {
    "ExecuteTime": {
     "end_time": "2018-09-15T00:15:30.541416Z",
     "start_time": "2018-09-15T00:15:30.517311Z"
    }
   },
   "outputs": [
    {
     "data": {
      "text/html": [
       "<div>\n",
       "<style scoped>\n",
       "    .dataframe tbody tr th:only-of-type {\n",
       "        vertical-align: middle;\n",
       "    }\n",
       "\n",
       "    .dataframe tbody tr th {\n",
       "        vertical-align: top;\n",
       "    }\n",
       "\n",
       "    .dataframe thead th {\n",
       "        text-align: right;\n",
       "    }\n",
       "</style>\n",
       "<table border=\"1\" class=\"dataframe\">\n",
       "  <thead>\n",
       "    <tr style=\"text-align: right;\">\n",
       "      <th></th>\n",
       "      <th>Category</th>\n",
       "      <th>DayOfWeek</th>\n",
       "      <th>PdDistrict</th>\n",
       "      <th>X</th>\n",
       "      <th>Y</th>\n",
       "      <th>Minute</th>\n",
       "      <th>Hour</th>\n",
       "      <th>Day</th>\n",
       "      <th>Month</th>\n",
       "      <th>Year</th>\n",
       "      <th>...</th>\n",
       "      <th>BlockNo</th>\n",
       "      <th>Rot30_X</th>\n",
       "      <th>Rot30_Y</th>\n",
       "      <th>Rot45_X</th>\n",
       "      <th>Rot45_Y</th>\n",
       "      <th>Rot60_X</th>\n",
       "      <th>Rot60_Y</th>\n",
       "      <th>Radius</th>\n",
       "      <th>Angle</th>\n",
       "      <th>Cluster</th>\n",
       "    </tr>\n",
       "  </thead>\n",
       "  <tbody>\n",
       "    <tr>\n",
       "      <th>0</th>\n",
       "      <td>WARRANTS</td>\n",
       "      <td>6</td>\n",
       "      <td>2</td>\n",
       "      <td>-0.123619</td>\n",
       "      <td>0.313047</td>\n",
       "      <td>53</td>\n",
       "      <td>23</td>\n",
       "      <td>13</td>\n",
       "      <td>5</td>\n",
       "      <td>12</td>\n",
       "      <td>...</td>\n",
       "      <td>0</td>\n",
       "      <td>-0.263580</td>\n",
       "      <td>0.209297</td>\n",
       "      <td>-0.308769</td>\n",
       "      <td>0.133946</td>\n",
       "      <td>-0.332916</td>\n",
       "      <td>0.049466</td>\n",
       "      <td>0.336571</td>\n",
       "      <td>-0.376092</td>\n",
       "      <td>26</td>\n",
       "    </tr>\n",
       "    <tr>\n",
       "      <th>1</th>\n",
       "      <td>OTHER OFFENSES</td>\n",
       "      <td>6</td>\n",
       "      <td>2</td>\n",
       "      <td>-0.123619</td>\n",
       "      <td>0.313047</td>\n",
       "      <td>53</td>\n",
       "      <td>23</td>\n",
       "      <td>13</td>\n",
       "      <td>5</td>\n",
       "      <td>12</td>\n",
       "      <td>...</td>\n",
       "      <td>0</td>\n",
       "      <td>-0.263580</td>\n",
       "      <td>0.209297</td>\n",
       "      <td>-0.308769</td>\n",
       "      <td>0.133946</td>\n",
       "      <td>-0.332916</td>\n",
       "      <td>0.049466</td>\n",
       "      <td>0.336571</td>\n",
       "      <td>-0.376092</td>\n",
       "      <td>26</td>\n",
       "    </tr>\n",
       "    <tr>\n",
       "      <th>2</th>\n",
       "      <td>OTHER OFFENSES</td>\n",
       "      <td>6</td>\n",
       "      <td>2</td>\n",
       "      <td>-0.063171</td>\n",
       "      <td>1.381252</td>\n",
       "      <td>33</td>\n",
       "      <td>23</td>\n",
       "      <td>13</td>\n",
       "      <td>5</td>\n",
       "      <td>12</td>\n",
       "      <td>...</td>\n",
       "      <td>0</td>\n",
       "      <td>-0.745334</td>\n",
       "      <td>1.164614</td>\n",
       "      <td>-1.021362</td>\n",
       "      <td>0.932024</td>\n",
       "      <td>-1.227785</td>\n",
       "      <td>0.635918</td>\n",
       "      <td>1.382696</td>\n",
       "      <td>-0.045703</td>\n",
       "      <td>35</td>\n",
       "    </tr>\n",
       "    <tr>\n",
       "      <th>3</th>\n",
       "      <td>LARCENY/THEFT</td>\n",
       "      <td>6</td>\n",
       "      <td>2</td>\n",
       "      <td>-0.167260</td>\n",
       "      <td>1.400216</td>\n",
       "      <td>30</td>\n",
       "      <td>23</td>\n",
       "      <td>13</td>\n",
       "      <td>5</td>\n",
       "      <td>12</td>\n",
       "      <td>...</td>\n",
       "      <td>16</td>\n",
       "      <td>-0.844960</td>\n",
       "      <td>1.128993</td>\n",
       "      <td>-1.108373</td>\n",
       "      <td>0.871832</td>\n",
       "      <td>-1.296253</td>\n",
       "      <td>0.555257</td>\n",
       "      <td>1.410171</td>\n",
       "      <td>-0.118890</td>\n",
       "      <td>35</td>\n",
       "    </tr>\n",
       "    <tr>\n",
       "      <th>4</th>\n",
       "      <td>LARCENY/THEFT</td>\n",
       "      <td>6</td>\n",
       "      <td>8</td>\n",
       "      <td>-0.631583</td>\n",
       "      <td>0.186536</td>\n",
       "      <td>30</td>\n",
       "      <td>23</td>\n",
       "      <td>13</td>\n",
       "      <td>5</td>\n",
       "      <td>12</td>\n",
       "      <td>...</td>\n",
       "      <td>2</td>\n",
       "      <td>-0.640235</td>\n",
       "      <td>-0.154246</td>\n",
       "      <td>-0.578498</td>\n",
       "      <td>-0.314695</td>\n",
       "      <td>-0.477337</td>\n",
       "      <td>-0.453699</td>\n",
       "      <td>0.658554</td>\n",
       "      <td>-1.283613</td>\n",
       "      <td>26</td>\n",
       "    </tr>\n",
       "  </tbody>\n",
       "</table>\n",
       "<p>5 rows × 27 columns</p>\n",
       "</div>"
      ],
      "text/plain": [
       "         Category  DayOfWeek  PdDistrict         X         Y  Minute  Hour  \\\n",
       "0        WARRANTS          6           2 -0.123619  0.313047      53    23   \n",
       "1  OTHER OFFENSES          6           2 -0.123619  0.313047      53    23   \n",
       "2  OTHER OFFENSES          6           2 -0.063171  1.381252      33    23   \n",
       "3   LARCENY/THEFT          6           2 -0.167260  1.400216      30    23   \n",
       "4   LARCENY/THEFT          6           8 -0.631583  0.186536      30    23   \n",
       "\n",
       "   Day  Month  Year  ...  BlockNo   Rot30_X   Rot30_Y   Rot45_X   Rot45_Y  \\\n",
       "0   13      5    12  ...        0 -0.263580  0.209297 -0.308769  0.133946   \n",
       "1   13      5    12  ...        0 -0.263580  0.209297 -0.308769  0.133946   \n",
       "2   13      5    12  ...        0 -0.745334  1.164614 -1.021362  0.932024   \n",
       "3   13      5    12  ...       16 -0.844960  1.128993 -1.108373  0.871832   \n",
       "4   13      5    12  ...        2 -0.640235 -0.154246 -0.578498 -0.314695   \n",
       "\n",
       "    Rot60_X   Rot60_Y    Radius     Angle  Cluster  \n",
       "0 -0.332916  0.049466  0.336571 -0.376092       26  \n",
       "1 -0.332916  0.049466  0.336571 -0.376092       26  \n",
       "2 -1.227785  0.635918  1.382696 -0.045703       35  \n",
       "3 -1.296253  0.555257  1.410171 -0.118890       35  \n",
       "4 -0.477337 -0.453699  0.658554 -1.283613       26  \n",
       "\n",
       "[5 rows x 27 columns]"
      ]
     },
     "execution_count": 95,
     "metadata": {},
     "output_type": "execute_result"
    }
   ],
   "source": [
    "train_df.head()"
   ]
  },
  {
   "cell_type": "code",
   "execution_count": 96,
   "metadata": {
    "ExecuteTime": {
     "end_time": "2018-09-15T00:15:31.019915Z",
     "start_time": "2018-09-15T00:15:30.543207Z"
    }
   },
   "outputs": [
    {
     "name": "stdout",
     "output_type": "stream",
     "text": [
      "<class 'pandas.core.frame.DataFrame'>\n",
      "RangeIndex: 878049 entries, 0 to 878048\n",
      "Data columns (total 27 columns):\n",
      " #   Column        Non-Null Count   Dtype  \n",
      "---  ------        --------------   -----  \n",
      " 0   Category      878049 non-null  object \n",
      " 1   DayOfWeek     878049 non-null  int64  \n",
      " 2   PdDistrict    878049 non-null  int64  \n",
      " 3   X             878049 non-null  float64\n",
      " 4   Y             878049 non-null  float64\n",
      " 5   Minute        878049 non-null  int64  \n",
      " 6   Hour          878049 non-null  int64  \n",
      " 7   Day           878049 non-null  int64  \n",
      " 8   Month         878049 non-null  int64  \n",
      " 9   Year          878049 non-null  int64  \n",
      " 10  Hour_Zone     878049 non-null  int64  \n",
      " 11  WeekOfYear    878049 non-null  int64  \n",
      " 12  Holiday       878049 non-null  bool   \n",
      " 13  BusinessHour  878049 non-null  uint8  \n",
      " 14  Season        878049 non-null  int64  \n",
      " 15  Weekend       878049 non-null  uint8  \n",
      " 16  StreetType    878049 non-null  object \n",
      " 17  BlockNo       878049 non-null  int64  \n",
      " 18  Rot30_X       878049 non-null  float64\n",
      " 19  Rot30_Y       878049 non-null  float64\n",
      " 20  Rot45_X       878049 non-null  float64\n",
      " 21  Rot45_Y       878049 non-null  float64\n",
      " 22  Rot60_X       878049 non-null  float64\n",
      " 23  Rot60_Y       878049 non-null  float64\n",
      " 24  Radius        878049 non-null  float64\n",
      " 25  Angle         878049 non-null  float64\n",
      " 26  Cluster       878049 non-null  int32  \n",
      "dtypes: bool(1), float64(10), int32(1), int64(11), object(2), uint8(2)\n",
      "memory usage: 159.9+ MB\n"
     ]
    }
   ],
   "source": [
    "train_df.info()"
   ]
  },
  {
   "cell_type": "markdown",
   "metadata": {},
   "source": [
    "### Street Type\n",
    "\n",
    "- we are going to use sklearn's LabelEncoder to encode the categorical data to numeric"
   ]
  },
  {
   "cell_type": "code",
   "execution_count": 97,
   "metadata": {
    "ExecuteTime": {
     "end_time": "2018-09-15T00:15:32.609940Z",
     "start_time": "2018-09-15T00:15:31.021643Z"
    }
   },
   "outputs": [
    {
     "name": "stdout",
     "output_type": "stream",
     "text": [
      "['AL', 'AV', 'BL', 'CR', 'CT', 'DR', 'EL CAMINO DEL MAR', 'HY', 'I-80', 'INT', 'LN', 'OTHER', 'PL', 'PZ', 'RD', 'RW', 'ST', 'TR', 'WAY', 'WK', 'WY']\n",
      "['AL', 'AV', 'BL', 'CR', 'CT', 'DR', 'EL CAMINO DEL MAR', 'HY', 'I-80', 'INT', 'LN', 'OTHER', 'PL', 'PZ', 'RD', 'RW', 'ST', 'TR', 'WAY', 'WK', 'WY']\n"
     ]
    }
   ],
   "source": [
    "data = [train_df, test_df]\n",
    "\n",
    "for dataset in data:\n",
    "    st_le = LabelEncoder()\n",
    "    st_le.fit(dataset['StreetType'].unique())\n",
    "    print(list(st_le.classes_))\n",
    "    dataset['StreetType']=st_le.transform(dataset['StreetType'])"
   ]
  },
  {
   "cell_type": "code",
   "execution_count": 98,
   "metadata": {
    "ExecuteTime": {
     "end_time": "2018-09-15T00:15:32.621448Z",
     "start_time": "2018-09-15T00:15:32.611850Z"
    }
   },
   "outputs": [
    {
     "data": {
      "text/plain": [
       "array([ 9, 16,  1, 20,  4,  5, 17,  7, 14, 13,  2, 12, 10, 18,  3,  0, 11,\n",
       "       19, 15,  6,  8])"
      ]
     },
     "execution_count": 98,
     "metadata": {},
     "output_type": "execute_result"
    }
   ],
   "source": [
    "train_df['StreetType'].unique()"
   ]
  },
  {
   "cell_type": "code",
   "execution_count": 99,
   "metadata": {
    "ExecuteTime": {
     "end_time": "2018-09-15T00:15:32.656477Z",
     "start_time": "2018-09-15T00:15:32.631106Z"
    }
   },
   "outputs": [
    {
     "data": {
      "text/html": [
       "<div>\n",
       "<style scoped>\n",
       "    .dataframe tbody tr th:only-of-type {\n",
       "        vertical-align: middle;\n",
       "    }\n",
       "\n",
       "    .dataframe tbody tr th {\n",
       "        vertical-align: top;\n",
       "    }\n",
       "\n",
       "    .dataframe thead th {\n",
       "        text-align: right;\n",
       "    }\n",
       "</style>\n",
       "<table border=\"1\" class=\"dataframe\">\n",
       "  <thead>\n",
       "    <tr style=\"text-align: right;\">\n",
       "      <th></th>\n",
       "      <th>Category</th>\n",
       "      <th>DayOfWeek</th>\n",
       "      <th>PdDistrict</th>\n",
       "      <th>X</th>\n",
       "      <th>Y</th>\n",
       "      <th>Minute</th>\n",
       "      <th>Hour</th>\n",
       "      <th>Day</th>\n",
       "      <th>Month</th>\n",
       "      <th>Year</th>\n",
       "      <th>...</th>\n",
       "      <th>BlockNo</th>\n",
       "      <th>Rot30_X</th>\n",
       "      <th>Rot30_Y</th>\n",
       "      <th>Rot45_X</th>\n",
       "      <th>Rot45_Y</th>\n",
       "      <th>Rot60_X</th>\n",
       "      <th>Rot60_Y</th>\n",
       "      <th>Radius</th>\n",
       "      <th>Angle</th>\n",
       "      <th>Cluster</th>\n",
       "    </tr>\n",
       "  </thead>\n",
       "  <tbody>\n",
       "    <tr>\n",
       "      <th>0</th>\n",
       "      <td>WARRANTS</td>\n",
       "      <td>6</td>\n",
       "      <td>2</td>\n",
       "      <td>-0.123619</td>\n",
       "      <td>0.313047</td>\n",
       "      <td>53</td>\n",
       "      <td>23</td>\n",
       "      <td>13</td>\n",
       "      <td>5</td>\n",
       "      <td>12</td>\n",
       "      <td>...</td>\n",
       "      <td>0</td>\n",
       "      <td>-0.263580</td>\n",
       "      <td>0.209297</td>\n",
       "      <td>-0.308769</td>\n",
       "      <td>0.133946</td>\n",
       "      <td>-0.332916</td>\n",
       "      <td>0.049466</td>\n",
       "      <td>0.336571</td>\n",
       "      <td>-0.376092</td>\n",
       "      <td>26</td>\n",
       "    </tr>\n",
       "    <tr>\n",
       "      <th>1</th>\n",
       "      <td>OTHER OFFENSES</td>\n",
       "      <td>6</td>\n",
       "      <td>2</td>\n",
       "      <td>-0.123619</td>\n",
       "      <td>0.313047</td>\n",
       "      <td>53</td>\n",
       "      <td>23</td>\n",
       "      <td>13</td>\n",
       "      <td>5</td>\n",
       "      <td>12</td>\n",
       "      <td>...</td>\n",
       "      <td>0</td>\n",
       "      <td>-0.263580</td>\n",
       "      <td>0.209297</td>\n",
       "      <td>-0.308769</td>\n",
       "      <td>0.133946</td>\n",
       "      <td>-0.332916</td>\n",
       "      <td>0.049466</td>\n",
       "      <td>0.336571</td>\n",
       "      <td>-0.376092</td>\n",
       "      <td>26</td>\n",
       "    </tr>\n",
       "    <tr>\n",
       "      <th>2</th>\n",
       "      <td>OTHER OFFENSES</td>\n",
       "      <td>6</td>\n",
       "      <td>2</td>\n",
       "      <td>-0.063171</td>\n",
       "      <td>1.381252</td>\n",
       "      <td>33</td>\n",
       "      <td>23</td>\n",
       "      <td>13</td>\n",
       "      <td>5</td>\n",
       "      <td>12</td>\n",
       "      <td>...</td>\n",
       "      <td>0</td>\n",
       "      <td>-0.745334</td>\n",
       "      <td>1.164614</td>\n",
       "      <td>-1.021362</td>\n",
       "      <td>0.932024</td>\n",
       "      <td>-1.227785</td>\n",
       "      <td>0.635918</td>\n",
       "      <td>1.382696</td>\n",
       "      <td>-0.045703</td>\n",
       "      <td>35</td>\n",
       "    </tr>\n",
       "    <tr>\n",
       "      <th>3</th>\n",
       "      <td>LARCENY/THEFT</td>\n",
       "      <td>6</td>\n",
       "      <td>2</td>\n",
       "      <td>-0.167260</td>\n",
       "      <td>1.400216</td>\n",
       "      <td>30</td>\n",
       "      <td>23</td>\n",
       "      <td>13</td>\n",
       "      <td>5</td>\n",
       "      <td>12</td>\n",
       "      <td>...</td>\n",
       "      <td>16</td>\n",
       "      <td>-0.844960</td>\n",
       "      <td>1.128993</td>\n",
       "      <td>-1.108373</td>\n",
       "      <td>0.871832</td>\n",
       "      <td>-1.296253</td>\n",
       "      <td>0.555257</td>\n",
       "      <td>1.410171</td>\n",
       "      <td>-0.118890</td>\n",
       "      <td>35</td>\n",
       "    </tr>\n",
       "    <tr>\n",
       "      <th>4</th>\n",
       "      <td>LARCENY/THEFT</td>\n",
       "      <td>6</td>\n",
       "      <td>8</td>\n",
       "      <td>-0.631583</td>\n",
       "      <td>0.186536</td>\n",
       "      <td>30</td>\n",
       "      <td>23</td>\n",
       "      <td>13</td>\n",
       "      <td>5</td>\n",
       "      <td>12</td>\n",
       "      <td>...</td>\n",
       "      <td>2</td>\n",
       "      <td>-0.640235</td>\n",
       "      <td>-0.154246</td>\n",
       "      <td>-0.578498</td>\n",
       "      <td>-0.314695</td>\n",
       "      <td>-0.477337</td>\n",
       "      <td>-0.453699</td>\n",
       "      <td>0.658554</td>\n",
       "      <td>-1.283613</td>\n",
       "      <td>26</td>\n",
       "    </tr>\n",
       "  </tbody>\n",
       "</table>\n",
       "<p>5 rows × 27 columns</p>\n",
       "</div>"
      ],
      "text/plain": [
       "         Category  DayOfWeek  PdDistrict         X         Y  Minute  Hour  \\\n",
       "0        WARRANTS          6           2 -0.123619  0.313047      53    23   \n",
       "1  OTHER OFFENSES          6           2 -0.123619  0.313047      53    23   \n",
       "2  OTHER OFFENSES          6           2 -0.063171  1.381252      33    23   \n",
       "3   LARCENY/THEFT          6           2 -0.167260  1.400216      30    23   \n",
       "4   LARCENY/THEFT          6           8 -0.631583  0.186536      30    23   \n",
       "\n",
       "   Day  Month  Year  ...  BlockNo   Rot30_X   Rot30_Y   Rot45_X   Rot45_Y  \\\n",
       "0   13      5    12  ...        0 -0.263580  0.209297 -0.308769  0.133946   \n",
       "1   13      5    12  ...        0 -0.263580  0.209297 -0.308769  0.133946   \n",
       "2   13      5    12  ...        0 -0.745334  1.164614 -1.021362  0.932024   \n",
       "3   13      5    12  ...       16 -0.844960  1.128993 -1.108373  0.871832   \n",
       "4   13      5    12  ...        2 -0.640235 -0.154246 -0.578498 -0.314695   \n",
       "\n",
       "    Rot60_X   Rot60_Y    Radius     Angle  Cluster  \n",
       "0 -0.332916  0.049466  0.336571 -0.376092       26  \n",
       "1 -0.332916  0.049466  0.336571 -0.376092       26  \n",
       "2 -1.227785  0.635918  1.382696 -0.045703       35  \n",
       "3 -1.296253  0.555257  1.410171 -0.118890       35  \n",
       "4 -0.477337 -0.453699  0.658554 -1.283613       26  \n",
       "\n",
       "[5 rows x 27 columns]"
      ]
     },
     "execution_count": 99,
     "metadata": {},
     "output_type": "execute_result"
    }
   ],
   "source": [
    "train_df.head()"
   ]
  },
  {
   "cell_type": "code",
   "execution_count": 100,
   "metadata": {
    "ExecuteTime": {
     "end_time": "2018-09-15T00:15:33.124717Z",
     "start_time": "2018-09-15T00:15:32.658114Z"
    }
   },
   "outputs": [
    {
     "name": "stdout",
     "output_type": "stream",
     "text": [
      "<class 'pandas.core.frame.DataFrame'>\n",
      "RangeIndex: 878049 entries, 0 to 878048\n",
      "Data columns (total 27 columns):\n",
      " #   Column        Non-Null Count   Dtype  \n",
      "---  ------        --------------   -----  \n",
      " 0   Category      878049 non-null  object \n",
      " 1   DayOfWeek     878049 non-null  int64  \n",
      " 2   PdDistrict    878049 non-null  int64  \n",
      " 3   X             878049 non-null  float64\n",
      " 4   Y             878049 non-null  float64\n",
      " 5   Minute        878049 non-null  int64  \n",
      " 6   Hour          878049 non-null  int64  \n",
      " 7   Day           878049 non-null  int64  \n",
      " 8   Month         878049 non-null  int64  \n",
      " 9   Year          878049 non-null  int64  \n",
      " 10  Hour_Zone     878049 non-null  int64  \n",
      " 11  WeekOfYear    878049 non-null  int64  \n",
      " 12  Holiday       878049 non-null  bool   \n",
      " 13  BusinessHour  878049 non-null  uint8  \n",
      " 14  Season        878049 non-null  int64  \n",
      " 15  Weekend       878049 non-null  uint8  \n",
      " 16  StreetType    878049 non-null  int64  \n",
      " 17  BlockNo       878049 non-null  int64  \n",
      " 18  Rot30_X       878049 non-null  float64\n",
      " 19  Rot30_Y       878049 non-null  float64\n",
      " 20  Rot45_X       878049 non-null  float64\n",
      " 21  Rot45_Y       878049 non-null  float64\n",
      " 22  Rot60_X       878049 non-null  float64\n",
      " 23  Rot60_Y       878049 non-null  float64\n",
      " 24  Radius        878049 non-null  float64\n",
      " 25  Angle         878049 non-null  float64\n",
      " 26  Cluster       878049 non-null  int32  \n",
      "dtypes: bool(1), float64(10), int32(1), int64(12), object(1), uint8(2)\n",
      "memory usage: 159.9+ MB\n"
     ]
    }
   ],
   "source": [
    "train_df.info()"
   ]
  },
  {
   "cell_type": "markdown",
   "metadata": {},
   "source": [
    "### Holiday\n",
    "\n",
    "- Encode the binary feature"
   ]
  },
  {
   "cell_type": "code",
   "execution_count": 101,
   "metadata": {
    "ExecuteTime": {
     "end_time": "2018-09-15T00:15:33.366955Z",
     "start_time": "2018-09-15T00:15:33.126363Z"
    }
   },
   "outputs": [],
   "source": [
    "# Encode to 0 and 1\n",
    "\n",
    "train_df['Holiday'].replace(False, 0, inplace=True)\n",
    "train_df['Holiday'].replace(True, 1, inplace=True)\n",
    "test_df['Holiday'].replace(False, 0, inplace=True)\n",
    "test_df['Holiday'].replace(True, 1, inplace=True)\n",
    "\n",
    "train_df['Holiday'] = train_df['Holiday'].astype('uint8')\n",
    "train_df['Holiday'] = train_df['Holiday'].astype('uint8')"
   ]
  },
  {
   "cell_type": "code",
   "execution_count": 102,
   "metadata": {
    "ExecuteTime": {
     "end_time": "2018-09-15T00:15:33.401544Z",
     "start_time": "2018-09-15T00:15:33.368756Z"
    }
   },
   "outputs": [
    {
     "data": {
      "text/html": [
       "<div>\n",
       "<style scoped>\n",
       "    .dataframe tbody tr th:only-of-type {\n",
       "        vertical-align: middle;\n",
       "    }\n",
       "\n",
       "    .dataframe tbody tr th {\n",
       "        vertical-align: top;\n",
       "    }\n",
       "\n",
       "    .dataframe thead th {\n",
       "        text-align: right;\n",
       "    }\n",
       "</style>\n",
       "<table border=\"1\" class=\"dataframe\">\n",
       "  <thead>\n",
       "    <tr style=\"text-align: right;\">\n",
       "      <th></th>\n",
       "      <th>Category</th>\n",
       "      <th>DayOfWeek</th>\n",
       "      <th>PdDistrict</th>\n",
       "      <th>X</th>\n",
       "      <th>Y</th>\n",
       "      <th>Minute</th>\n",
       "      <th>Hour</th>\n",
       "      <th>Day</th>\n",
       "      <th>Month</th>\n",
       "      <th>Year</th>\n",
       "      <th>...</th>\n",
       "      <th>BlockNo</th>\n",
       "      <th>Rot30_X</th>\n",
       "      <th>Rot30_Y</th>\n",
       "      <th>Rot45_X</th>\n",
       "      <th>Rot45_Y</th>\n",
       "      <th>Rot60_X</th>\n",
       "      <th>Rot60_Y</th>\n",
       "      <th>Radius</th>\n",
       "      <th>Angle</th>\n",
       "      <th>Cluster</th>\n",
       "    </tr>\n",
       "  </thead>\n",
       "  <tbody>\n",
       "    <tr>\n",
       "      <th>18357</th>\n",
       "      <td>DRUG/NARCOTIC</td>\n",
       "      <td>1</td>\n",
       "      <td>0</td>\n",
       "      <td>0.765575</td>\n",
       "      <td>0.347064</td>\n",
       "      <td>48</td>\n",
       "      <td>23</td>\n",
       "      <td>16</td>\n",
       "      <td>2</td>\n",
       "      <td>12</td>\n",
       "      <td>...</td>\n",
       "      <td>9</td>\n",
       "      <td>0.489475</td>\n",
       "      <td>0.683354</td>\n",
       "      <td>0.295932</td>\n",
       "      <td>0.786755</td>\n",
       "      <td>0.082221</td>\n",
       "      <td>0.836539</td>\n",
       "      <td>0.840570</td>\n",
       "      <td>1.145170</td>\n",
       "      <td>39</td>\n",
       "    </tr>\n",
       "    <tr>\n",
       "      <th>18358</th>\n",
       "      <td>OTHER OFFENSES</td>\n",
       "      <td>1</td>\n",
       "      <td>0</td>\n",
       "      <td>0.765575</td>\n",
       "      <td>0.347064</td>\n",
       "      <td>48</td>\n",
       "      <td>23</td>\n",
       "      <td>16</td>\n",
       "      <td>2</td>\n",
       "      <td>12</td>\n",
       "      <td>...</td>\n",
       "      <td>9</td>\n",
       "      <td>0.489475</td>\n",
       "      <td>0.683354</td>\n",
       "      <td>0.295932</td>\n",
       "      <td>0.786755</td>\n",
       "      <td>0.082221</td>\n",
       "      <td>0.836539</td>\n",
       "      <td>0.840570</td>\n",
       "      <td>1.145170</td>\n",
       "      <td>39</td>\n",
       "    </tr>\n",
       "    <tr>\n",
       "      <th>18359</th>\n",
       "      <td>NON-CRIMINAL</td>\n",
       "      <td>1</td>\n",
       "      <td>5</td>\n",
       "      <td>0.436374</td>\n",
       "      <td>-2.363569</td>\n",
       "      <td>30</td>\n",
       "      <td>23</td>\n",
       "      <td>16</td>\n",
       "      <td>2</td>\n",
       "      <td>12</td>\n",
       "      <td>...</td>\n",
       "      <td>3</td>\n",
       "      <td>1.559696</td>\n",
       "      <td>-1.828724</td>\n",
       "      <td>1.979859</td>\n",
       "      <td>-1.362733</td>\n",
       "      <td>2.265098</td>\n",
       "      <td>-0.803874</td>\n",
       "      <td>2.403514</td>\n",
       "      <td>2.959023</td>\n",
       "      <td>24</td>\n",
       "    </tr>\n",
       "    <tr>\n",
       "      <th>18360</th>\n",
       "      <td>VANDALISM</td>\n",
       "      <td>1</td>\n",
       "      <td>3</td>\n",
       "      <td>0.281649</td>\n",
       "      <td>1.685306</td>\n",
       "      <td>30</td>\n",
       "      <td>23</td>\n",
       "      <td>16</td>\n",
       "      <td>2</td>\n",
       "      <td>12</td>\n",
       "      <td>...</td>\n",
       "      <td>28</td>\n",
       "      <td>-0.598738</td>\n",
       "      <td>1.600342</td>\n",
       "      <td>-0.992535</td>\n",
       "      <td>1.390847</td>\n",
       "      <td>-1.318693</td>\n",
       "      <td>1.086568</td>\n",
       "      <td>1.708678</td>\n",
       "      <td>0.165590</td>\n",
       "      <td>19</td>\n",
       "    </tr>\n",
       "    <tr>\n",
       "      <th>18361</th>\n",
       "      <td>LARCENY/THEFT</td>\n",
       "      <td>1</td>\n",
       "      <td>2</td>\n",
       "      <td>-0.250881</td>\n",
       "      <td>0.118579</td>\n",
       "      <td>30</td>\n",
       "      <td>23</td>\n",
       "      <td>16</td>\n",
       "      <td>2</td>\n",
       "      <td>12</td>\n",
       "      <td>...</td>\n",
       "      <td>1</td>\n",
       "      <td>-0.276559</td>\n",
       "      <td>-0.022748</td>\n",
       "      <td>-0.261248</td>\n",
       "      <td>-0.093551</td>\n",
       "      <td>-0.228133</td>\n",
       "      <td>-0.157980</td>\n",
       "      <td>0.277493</td>\n",
       "      <td>-1.129266</td>\n",
       "      <td>26</td>\n",
       "    </tr>\n",
       "  </tbody>\n",
       "</table>\n",
       "<p>5 rows × 27 columns</p>\n",
       "</div>"
      ],
      "text/plain": [
       "             Category  DayOfWeek  PdDistrict         X         Y  Minute  \\\n",
       "18357   DRUG/NARCOTIC          1           0  0.765575  0.347064      48   \n",
       "18358  OTHER OFFENSES          1           0  0.765575  0.347064      48   \n",
       "18359    NON-CRIMINAL          1           5  0.436374 -2.363569      30   \n",
       "18360       VANDALISM          1           3  0.281649  1.685306      30   \n",
       "18361   LARCENY/THEFT          1           2 -0.250881  0.118579      30   \n",
       "\n",
       "       Hour  Day  Month  Year  ...  BlockNo   Rot30_X   Rot30_Y   Rot45_X  \\\n",
       "18357    23   16      2    12  ...        9  0.489475  0.683354  0.295932   \n",
       "18358    23   16      2    12  ...        9  0.489475  0.683354  0.295932   \n",
       "18359    23   16      2    12  ...        3  1.559696 -1.828724  1.979859   \n",
       "18360    23   16      2    12  ...       28 -0.598738  1.600342 -0.992535   \n",
       "18361    23   16      2    12  ...        1 -0.276559 -0.022748 -0.261248   \n",
       "\n",
       "        Rot45_Y   Rot60_X   Rot60_Y    Radius     Angle  Cluster  \n",
       "18357  0.786755  0.082221  0.836539  0.840570  1.145170       39  \n",
       "18358  0.786755  0.082221  0.836539  0.840570  1.145170       39  \n",
       "18359 -1.362733  2.265098 -0.803874  2.403514  2.959023       24  \n",
       "18360  1.390847 -1.318693  1.086568  1.708678  0.165590       19  \n",
       "18361 -0.093551 -0.228133 -0.157980  0.277493 -1.129266       26  \n",
       "\n",
       "[5 rows x 27 columns]"
      ]
     },
     "execution_count": 102,
     "metadata": {},
     "output_type": "execute_result"
    }
   ],
   "source": [
    "train_df[train_df['Holiday'] == 1].head()"
   ]
  },
  {
   "cell_type": "code",
   "execution_count": 103,
   "metadata": {
    "ExecuteTime": {
     "end_time": "2018-09-15T00:15:33.644042Z",
     "start_time": "2018-09-15T00:15:33.403046Z"
    }
   },
   "outputs": [
    {
     "data": {
      "text/html": [
       "<div>\n",
       "<style scoped>\n",
       "    .dataframe tbody tr th:only-of-type {\n",
       "        vertical-align: middle;\n",
       "    }\n",
       "\n",
       "    .dataframe tbody tr th {\n",
       "        vertical-align: top;\n",
       "    }\n",
       "\n",
       "    .dataframe thead th {\n",
       "        text-align: right;\n",
       "    }\n",
       "</style>\n",
       "<table border=\"1\" class=\"dataframe\">\n",
       "  <thead>\n",
       "    <tr style=\"text-align: right;\">\n",
       "      <th></th>\n",
       "      <th>Id</th>\n",
       "      <th>DayOfWeek</th>\n",
       "      <th>PdDistrict</th>\n",
       "      <th>X</th>\n",
       "      <th>Y</th>\n",
       "      <th>Minute</th>\n",
       "      <th>Hour</th>\n",
       "      <th>Day</th>\n",
       "      <th>Month</th>\n",
       "      <th>Year</th>\n",
       "      <th>...</th>\n",
       "      <th>BlockNo</th>\n",
       "      <th>Rot30_X</th>\n",
       "      <th>Rot30_Y</th>\n",
       "      <th>Rot45_X</th>\n",
       "      <th>Rot45_Y</th>\n",
       "      <th>Rot60_X</th>\n",
       "      <th>Rot60_Y</th>\n",
       "      <th>Radius</th>\n",
       "      <th>Angle</th>\n",
       "      <th>Cluster</th>\n",
       "    </tr>\n",
       "  </thead>\n",
       "  <tbody>\n",
       "    <tr>\n",
       "      <th>27957</th>\n",
       "      <td>27957</td>\n",
       "      <td>4</td>\n",
       "      <td>3</td>\n",
       "      <td>0.499753</td>\n",
       "      <td>1.575074</td>\n",
       "      <td>55</td>\n",
       "      <td>23</td>\n",
       "      <td>1</td>\n",
       "      <td>1</td>\n",
       "      <td>12</td>\n",
       "      <td>...</td>\n",
       "      <td>0</td>\n",
       "      <td>-0.354739</td>\n",
       "      <td>1.613931</td>\n",
       "      <td>-0.760367</td>\n",
       "      <td>1.467124</td>\n",
       "      <td>-1.114178</td>\n",
       "      <td>1.220336</td>\n",
       "      <td>1.652456</td>\n",
       "      <td>0.307241</td>\n",
       "      <td>35</td>\n",
       "    </tr>\n",
       "    <tr>\n",
       "      <th>27958</th>\n",
       "      <td>27958</td>\n",
       "      <td>4</td>\n",
       "      <td>6</td>\n",
       "      <td>0.192237</td>\n",
       "      <td>0.750351</td>\n",
       "      <td>43</td>\n",
       "      <td>23</td>\n",
       "      <td>1</td>\n",
       "      <td>1</td>\n",
       "      <td>12</td>\n",
       "      <td>...</td>\n",
       "      <td>0</td>\n",
       "      <td>-0.208693</td>\n",
       "      <td>0.745941</td>\n",
       "      <td>-0.394646</td>\n",
       "      <td>0.666510</td>\n",
       "      <td>-0.553704</td>\n",
       "      <td>0.541658</td>\n",
       "      <td>0.774585</td>\n",
       "      <td>0.250802</td>\n",
       "      <td>5</td>\n",
       "    </tr>\n",
       "    <tr>\n",
       "      <th>27959</th>\n",
       "      <td>27959</td>\n",
       "      <td>4</td>\n",
       "      <td>1</td>\n",
       "      <td>-0.121661</td>\n",
       "      <td>-0.265278</td>\n",
       "      <td>30</td>\n",
       "      <td>23</td>\n",
       "      <td>1</td>\n",
       "      <td>1</td>\n",
       "      <td>12</td>\n",
       "      <td>...</td>\n",
       "      <td>6</td>\n",
       "      <td>0.027278</td>\n",
       "      <td>-0.290568</td>\n",
       "      <td>0.101553</td>\n",
       "      <td>-0.273607</td>\n",
       "      <td>0.168907</td>\n",
       "      <td>-0.238000</td>\n",
       "      <td>0.291845</td>\n",
       "      <td>-2.711597</td>\n",
       "      <td>6</td>\n",
       "    </tr>\n",
       "    <tr>\n",
       "      <th>27960</th>\n",
       "      <td>27960</td>\n",
       "      <td>4</td>\n",
       "      <td>7</td>\n",
       "      <td>-2.340960</td>\n",
       "      <td>-1.309963</td>\n",
       "      <td>15</td>\n",
       "      <td>23</td>\n",
       "      <td>1</td>\n",
       "      <td>1</td>\n",
       "      <td>12</td>\n",
       "      <td>...</td>\n",
       "      <td>1</td>\n",
       "      <td>-1.372349</td>\n",
       "      <td>-2.304941</td>\n",
       "      <td>-0.729025</td>\n",
       "      <td>-2.581593</td>\n",
       "      <td>-0.036019</td>\n",
       "      <td>-2.682312</td>\n",
       "      <td>2.682554</td>\n",
       "      <td>-2.080968</td>\n",
       "      <td>36</td>\n",
       "    </tr>\n",
       "    <tr>\n",
       "      <th>27961</th>\n",
       "      <td>27961</td>\n",
       "      <td>4</td>\n",
       "      <td>7</td>\n",
       "      <td>-2.340960</td>\n",
       "      <td>-1.309963</td>\n",
       "      <td>15</td>\n",
       "      <td>23</td>\n",
       "      <td>1</td>\n",
       "      <td>1</td>\n",
       "      <td>12</td>\n",
       "      <td>...</td>\n",
       "      <td>1</td>\n",
       "      <td>-1.372349</td>\n",
       "      <td>-2.304941</td>\n",
       "      <td>-0.729025</td>\n",
       "      <td>-2.581593</td>\n",
       "      <td>-0.036019</td>\n",
       "      <td>-2.682312</td>\n",
       "      <td>2.682554</td>\n",
       "      <td>-2.080968</td>\n",
       "      <td>36</td>\n",
       "    </tr>\n",
       "  </tbody>\n",
       "</table>\n",
       "<p>5 rows × 27 columns</p>\n",
       "</div>"
      ],
      "text/plain": [
       "          Id  DayOfWeek  PdDistrict         X         Y  Minute  Hour  Day  \\\n",
       "27957  27957          4           3  0.499753  1.575074      55    23    1   \n",
       "27958  27958          4           6  0.192237  0.750351      43    23    1   \n",
       "27959  27959          4           1 -0.121661 -0.265278      30    23    1   \n",
       "27960  27960          4           7 -2.340960 -1.309963      15    23    1   \n",
       "27961  27961          4           7 -2.340960 -1.309963      15    23    1   \n",
       "\n",
       "       Month  Year  ...  BlockNo   Rot30_X   Rot30_Y   Rot45_X   Rot45_Y  \\\n",
       "27957      1    12  ...        0 -0.354739  1.613931 -0.760367  1.467124   \n",
       "27958      1    12  ...        0 -0.208693  0.745941 -0.394646  0.666510   \n",
       "27959      1    12  ...        6  0.027278 -0.290568  0.101553 -0.273607   \n",
       "27960      1    12  ...        1 -1.372349 -2.304941 -0.729025 -2.581593   \n",
       "27961      1    12  ...        1 -1.372349 -2.304941 -0.729025 -2.581593   \n",
       "\n",
       "        Rot60_X   Rot60_Y    Radius     Angle  Cluster  \n",
       "27957 -1.114178  1.220336  1.652456  0.307241       35  \n",
       "27958 -0.553704  0.541658  0.774585  0.250802        5  \n",
       "27959  0.168907 -0.238000  0.291845 -2.711597        6  \n",
       "27960 -0.036019 -2.682312  2.682554 -2.080968       36  \n",
       "27961 -0.036019 -2.682312  2.682554 -2.080968       36  \n",
       "\n",
       "[5 rows x 27 columns]"
      ]
     },
     "execution_count": 103,
     "metadata": {},
     "output_type": "execute_result"
    }
   ],
   "source": [
    "test_df[test_df['Holiday'] == 1].head()"
   ]
  },
  {
   "cell_type": "markdown",
   "metadata": {},
   "source": [
    "### Category\n",
    "\n",
    "- we are going to use sklearn's LabelEncoder to encode the categorical data to numeric"
   ]
  },
  {
   "cell_type": "code",
   "execution_count": 104,
   "metadata": {
    "ExecuteTime": {
     "end_time": "2018-09-15T00:15:34.733063Z",
     "start_time": "2018-09-15T00:15:33.645874Z"
    }
   },
   "outputs": [
    {
     "name": "stdout",
     "output_type": "stream",
     "text": [
      "['ARSON', 'ASSAULT', 'BAD CHECKS', 'BRIBERY', 'BURGLARY', 'DISORDERLY CONDUCT', 'DRIVING UNDER THE INFLUENCE', 'DRUG/NARCOTIC', 'DRUNKENNESS', 'EMBEZZLEMENT', 'EXTORTION', 'FAMILY OFFENSES', 'FORGERY/COUNTERFEITING', 'FRAUD', 'GAMBLING', 'KIDNAPPING', 'LARCENY/THEFT', 'LIQUOR LAWS', 'LOITERING', 'MISSING PERSON', 'NON-CRIMINAL', 'OTHER OFFENSES', 'PORNOGRAPHY/OBSCENE MAT', 'PROSTITUTION', 'RECOVERED VEHICLE', 'ROBBERY', 'RUNAWAY', 'SECONDARY CODES', 'SEX OFFENSES FORCIBLE', 'SEX OFFENSES NON FORCIBLE', 'STOLEN PROPERTY', 'SUICIDE', 'SUSPICIOUS OCC', 'TREA', 'TRESPASS', 'VANDALISM', 'VEHICLE THEFT', 'WARRANTS', 'WEAPON LAWS']\n"
     ]
    }
   ],
   "source": [
    "data = [train_df]\n",
    "\n",
    "for dataset in data:\n",
    "    cat_le = LabelEncoder()\n",
    "    cat_le.fit(dataset['Category'].unique())\n",
    "    print(list(cat_le.classes_))\n",
    "    dataset['Category']=cat_le.transform(dataset['Category'])"
   ]
  },
  {
   "cell_type": "code",
   "execution_count": 105,
   "metadata": {
    "ExecuteTime": {
     "end_time": "2018-09-15T00:15:34.744138Z",
     "start_time": "2018-09-15T00:15:34.735515Z"
    }
   },
   "outputs": [
    {
     "data": {
      "text/plain": [
       "39"
      ]
     },
     "execution_count": 105,
     "metadata": {},
     "output_type": "execute_result"
    }
   ],
   "source": [
    "len(train_df['Category'].unique())"
   ]
  },
  {
   "cell_type": "code",
   "execution_count": 106,
   "metadata": {
    "ExecuteTime": {
     "end_time": "2018-09-15T00:15:34.751446Z",
     "start_time": "2018-09-15T00:15:34.746020Z"
    }
   },
   "outputs": [
    {
     "data": {
      "text/plain": [
       "{'ARSON': 0,\n",
       " 'ASSAULT': 1,\n",
       " 'BAD CHECKS': 2,\n",
       " 'BRIBERY': 3,\n",
       " 'BURGLARY': 4,\n",
       " 'DISORDERLY CONDUCT': 5,\n",
       " 'DRIVING UNDER THE INFLUENCE': 6,\n",
       " 'DRUG/NARCOTIC': 7,\n",
       " 'DRUNKENNESS': 8,\n",
       " 'EMBEZZLEMENT': 9,\n",
       " 'EXTORTION': 10,\n",
       " 'FAMILY OFFENSES': 11,\n",
       " 'FORGERY/COUNTERFEITING': 12,\n",
       " 'FRAUD': 13,\n",
       " 'GAMBLING': 14,\n",
       " 'KIDNAPPING': 15,\n",
       " 'LARCENY/THEFT': 16,\n",
       " 'LIQUOR LAWS': 17,\n",
       " 'LOITERING': 18,\n",
       " 'MISSING PERSON': 19,\n",
       " 'NON-CRIMINAL': 20,\n",
       " 'OTHER OFFENSES': 21,\n",
       " 'PORNOGRAPHY/OBSCENE MAT': 22,\n",
       " 'PROSTITUTION': 23,\n",
       " 'RECOVERED VEHICLE': 24,\n",
       " 'ROBBERY': 25,\n",
       " 'RUNAWAY': 26,\n",
       " 'SECONDARY CODES': 27,\n",
       " 'SEX OFFENSES FORCIBLE': 28,\n",
       " 'SEX OFFENSES NON FORCIBLE': 29,\n",
       " 'STOLEN PROPERTY': 30,\n",
       " 'SUICIDE': 31,\n",
       " 'SUSPICIOUS OCC': 32,\n",
       " 'TREA': 33,\n",
       " 'TRESPASS': 34,\n",
       " 'VANDALISM': 35,\n",
       " 'VEHICLE THEFT': 36,\n",
       " 'WARRANTS': 37,\n",
       " 'WEAPON LAWS': 38}"
      ]
     },
     "execution_count": 106,
     "metadata": {},
     "output_type": "execute_result"
    }
   ],
   "source": [
    "# So we know the mapping (important)\n",
    "dict(zip(cat_le.classes_, cat_le.transform(cat_le.classes_)))"
   ]
  },
  {
   "cell_type": "code",
   "execution_count": 107,
   "metadata": {
    "ExecuteTime": {
     "end_time": "2018-09-15T00:15:34.771176Z",
     "start_time": "2018-09-15T00:15:34.753364Z"
    }
   },
   "outputs": [
    {
     "data": {
      "text/html": [
       "<div>\n",
       "<style scoped>\n",
       "    .dataframe tbody tr th:only-of-type {\n",
       "        vertical-align: middle;\n",
       "    }\n",
       "\n",
       "    .dataframe tbody tr th {\n",
       "        vertical-align: top;\n",
       "    }\n",
       "\n",
       "    .dataframe thead th {\n",
       "        text-align: right;\n",
       "    }\n",
       "</style>\n",
       "<table border=\"1\" class=\"dataframe\">\n",
       "  <thead>\n",
       "    <tr style=\"text-align: right;\">\n",
       "      <th></th>\n",
       "      <th>Category</th>\n",
       "      <th>DayOfWeek</th>\n",
       "      <th>PdDistrict</th>\n",
       "      <th>X</th>\n",
       "      <th>Y</th>\n",
       "      <th>Minute</th>\n",
       "      <th>Hour</th>\n",
       "      <th>Day</th>\n",
       "      <th>Month</th>\n",
       "      <th>Year</th>\n",
       "      <th>...</th>\n",
       "      <th>BlockNo</th>\n",
       "      <th>Rot30_X</th>\n",
       "      <th>Rot30_Y</th>\n",
       "      <th>Rot45_X</th>\n",
       "      <th>Rot45_Y</th>\n",
       "      <th>Rot60_X</th>\n",
       "      <th>Rot60_Y</th>\n",
       "      <th>Radius</th>\n",
       "      <th>Angle</th>\n",
       "      <th>Cluster</th>\n",
       "    </tr>\n",
       "  </thead>\n",
       "  <tbody>\n",
       "    <tr>\n",
       "      <th>0</th>\n",
       "      <td>37</td>\n",
       "      <td>6</td>\n",
       "      <td>2</td>\n",
       "      <td>-0.123619</td>\n",
       "      <td>0.313047</td>\n",
       "      <td>53</td>\n",
       "      <td>23</td>\n",
       "      <td>13</td>\n",
       "      <td>5</td>\n",
       "      <td>12</td>\n",
       "      <td>...</td>\n",
       "      <td>0</td>\n",
       "      <td>-0.263580</td>\n",
       "      <td>0.209297</td>\n",
       "      <td>-0.308769</td>\n",
       "      <td>0.133946</td>\n",
       "      <td>-0.332916</td>\n",
       "      <td>0.049466</td>\n",
       "      <td>0.336571</td>\n",
       "      <td>-0.376092</td>\n",
       "      <td>26</td>\n",
       "    </tr>\n",
       "    <tr>\n",
       "      <th>1</th>\n",
       "      <td>21</td>\n",
       "      <td>6</td>\n",
       "      <td>2</td>\n",
       "      <td>-0.123619</td>\n",
       "      <td>0.313047</td>\n",
       "      <td>53</td>\n",
       "      <td>23</td>\n",
       "      <td>13</td>\n",
       "      <td>5</td>\n",
       "      <td>12</td>\n",
       "      <td>...</td>\n",
       "      <td>0</td>\n",
       "      <td>-0.263580</td>\n",
       "      <td>0.209297</td>\n",
       "      <td>-0.308769</td>\n",
       "      <td>0.133946</td>\n",
       "      <td>-0.332916</td>\n",
       "      <td>0.049466</td>\n",
       "      <td>0.336571</td>\n",
       "      <td>-0.376092</td>\n",
       "      <td>26</td>\n",
       "    </tr>\n",
       "    <tr>\n",
       "      <th>2</th>\n",
       "      <td>21</td>\n",
       "      <td>6</td>\n",
       "      <td>2</td>\n",
       "      <td>-0.063171</td>\n",
       "      <td>1.381252</td>\n",
       "      <td>33</td>\n",
       "      <td>23</td>\n",
       "      <td>13</td>\n",
       "      <td>5</td>\n",
       "      <td>12</td>\n",
       "      <td>...</td>\n",
       "      <td>0</td>\n",
       "      <td>-0.745334</td>\n",
       "      <td>1.164614</td>\n",
       "      <td>-1.021362</td>\n",
       "      <td>0.932024</td>\n",
       "      <td>-1.227785</td>\n",
       "      <td>0.635918</td>\n",
       "      <td>1.382696</td>\n",
       "      <td>-0.045703</td>\n",
       "      <td>35</td>\n",
       "    </tr>\n",
       "    <tr>\n",
       "      <th>3</th>\n",
       "      <td>16</td>\n",
       "      <td>6</td>\n",
       "      <td>2</td>\n",
       "      <td>-0.167260</td>\n",
       "      <td>1.400216</td>\n",
       "      <td>30</td>\n",
       "      <td>23</td>\n",
       "      <td>13</td>\n",
       "      <td>5</td>\n",
       "      <td>12</td>\n",
       "      <td>...</td>\n",
       "      <td>16</td>\n",
       "      <td>-0.844960</td>\n",
       "      <td>1.128993</td>\n",
       "      <td>-1.108373</td>\n",
       "      <td>0.871832</td>\n",
       "      <td>-1.296253</td>\n",
       "      <td>0.555257</td>\n",
       "      <td>1.410171</td>\n",
       "      <td>-0.118890</td>\n",
       "      <td>35</td>\n",
       "    </tr>\n",
       "    <tr>\n",
       "      <th>4</th>\n",
       "      <td>16</td>\n",
       "      <td>6</td>\n",
       "      <td>8</td>\n",
       "      <td>-0.631583</td>\n",
       "      <td>0.186536</td>\n",
       "      <td>30</td>\n",
       "      <td>23</td>\n",
       "      <td>13</td>\n",
       "      <td>5</td>\n",
       "      <td>12</td>\n",
       "      <td>...</td>\n",
       "      <td>2</td>\n",
       "      <td>-0.640235</td>\n",
       "      <td>-0.154246</td>\n",
       "      <td>-0.578498</td>\n",
       "      <td>-0.314695</td>\n",
       "      <td>-0.477337</td>\n",
       "      <td>-0.453699</td>\n",
       "      <td>0.658554</td>\n",
       "      <td>-1.283613</td>\n",
       "      <td>26</td>\n",
       "    </tr>\n",
       "  </tbody>\n",
       "</table>\n",
       "<p>5 rows × 27 columns</p>\n",
       "</div>"
      ],
      "text/plain": [
       "   Category  DayOfWeek  PdDistrict         X         Y  Minute  Hour  Day  \\\n",
       "0        37          6           2 -0.123619  0.313047      53    23   13   \n",
       "1        21          6           2 -0.123619  0.313047      53    23   13   \n",
       "2        21          6           2 -0.063171  1.381252      33    23   13   \n",
       "3        16          6           2 -0.167260  1.400216      30    23   13   \n",
       "4        16          6           8 -0.631583  0.186536      30    23   13   \n",
       "\n",
       "   Month  Year  ...  BlockNo   Rot30_X   Rot30_Y   Rot45_X   Rot45_Y  \\\n",
       "0      5    12  ...        0 -0.263580  0.209297 -0.308769  0.133946   \n",
       "1      5    12  ...        0 -0.263580  0.209297 -0.308769  0.133946   \n",
       "2      5    12  ...        0 -0.745334  1.164614 -1.021362  0.932024   \n",
       "3      5    12  ...       16 -0.844960  1.128993 -1.108373  0.871832   \n",
       "4      5    12  ...        2 -0.640235 -0.154246 -0.578498 -0.314695   \n",
       "\n",
       "    Rot60_X   Rot60_Y    Radius     Angle  Cluster  \n",
       "0 -0.332916  0.049466  0.336571 -0.376092       26  \n",
       "1 -0.332916  0.049466  0.336571 -0.376092       26  \n",
       "2 -1.227785  0.635918  1.382696 -0.045703       35  \n",
       "3 -1.296253  0.555257  1.410171 -0.118890       35  \n",
       "4 -0.477337 -0.453699  0.658554 -1.283613       26  \n",
       "\n",
       "[5 rows x 27 columns]"
      ]
     },
     "execution_count": 107,
     "metadata": {},
     "output_type": "execute_result"
    }
   ],
   "source": [
    "train_df.head()"
   ]
  },
  {
   "cell_type": "code",
   "execution_count": 108,
   "metadata": {
    "ExecuteTime": {
     "end_time": "2018-09-15T00:15:35.216673Z",
     "start_time": "2018-09-15T00:15:34.772873Z"
    }
   },
   "outputs": [
    {
     "name": "stdout",
     "output_type": "stream",
     "text": [
      "<class 'pandas.core.frame.DataFrame'>\n",
      "RangeIndex: 878049 entries, 0 to 878048\n",
      "Data columns (total 27 columns):\n",
      " #   Column        Non-Null Count   Dtype  \n",
      "---  ------        --------------   -----  \n",
      " 0   Category      878049 non-null  int64  \n",
      " 1   DayOfWeek     878049 non-null  int64  \n",
      " 2   PdDistrict    878049 non-null  int64  \n",
      " 3   X             878049 non-null  float64\n",
      " 4   Y             878049 non-null  float64\n",
      " 5   Minute        878049 non-null  int64  \n",
      " 6   Hour          878049 non-null  int64  \n",
      " 7   Day           878049 non-null  int64  \n",
      " 8   Month         878049 non-null  int64  \n",
      " 9   Year          878049 non-null  int64  \n",
      " 10  Hour_Zone     878049 non-null  int64  \n",
      " 11  WeekOfYear    878049 non-null  int64  \n",
      " 12  Holiday       878049 non-null  uint8  \n",
      " 13  BusinessHour  878049 non-null  uint8  \n",
      " 14  Season        878049 non-null  int64  \n",
      " 15  Weekend       878049 non-null  uint8  \n",
      " 16  StreetType    878049 non-null  int64  \n",
      " 17  BlockNo       878049 non-null  int64  \n",
      " 18  Rot30_X       878049 non-null  float64\n",
      " 19  Rot30_Y       878049 non-null  float64\n",
      " 20  Rot45_X       878049 non-null  float64\n",
      " 21  Rot45_Y       878049 non-null  float64\n",
      " 22  Rot60_X       878049 non-null  float64\n",
      " 23  Rot60_Y       878049 non-null  float64\n",
      " 24  Radius        878049 non-null  float64\n",
      " 25  Angle         878049 non-null  float64\n",
      " 26  Cluster       878049 non-null  int32  \n",
      "dtypes: float64(10), int32(1), int64(13), uint8(3)\n",
      "memory usage: 159.9 MB\n"
     ]
    }
   ],
   "source": [
    "train_df.info()"
   ]
  },
  {
   "cell_type": "markdown",
   "metadata": {},
   "source": [
    "## View Information about Data\n",
    "\n",
    "- One last check before training"
   ]
  },
  {
   "cell_type": "code",
   "execution_count": 109,
   "metadata": {
    "ExecuteTime": {
     "end_time": "2018-09-15T00:15:35.519400Z",
     "start_time": "2018-09-15T00:15:35.218326Z"
    }
   },
   "outputs": [
    {
     "name": "stdout",
     "output_type": "stream",
     "text": [
      "<class 'pandas.core.frame.DataFrame'>\n",
      "RangeIndex: 878049 entries, 0 to 878048\n",
      "Data columns (total 27 columns):\n",
      " #   Column        Non-Null Count   Dtype  \n",
      "---  ------        --------------   -----  \n",
      " 0   Category      878049 non-null  int64  \n",
      " 1   DayOfWeek     878049 non-null  int64  \n",
      " 2   PdDistrict    878049 non-null  int64  \n",
      " 3   X             878049 non-null  float64\n",
      " 4   Y             878049 non-null  float64\n",
      " 5   Minute        878049 non-null  int64  \n",
      " 6   Hour          878049 non-null  int64  \n",
      " 7   Day           878049 non-null  int64  \n",
      " 8   Month         878049 non-null  int64  \n",
      " 9   Year          878049 non-null  int64  \n",
      " 10  Hour_Zone     878049 non-null  int64  \n",
      " 11  WeekOfYear    878049 non-null  int64  \n",
      " 12  Holiday       878049 non-null  uint8  \n",
      " 13  BusinessHour  878049 non-null  uint8  \n",
      " 14  Season        878049 non-null  int64  \n",
      " 15  Weekend       878049 non-null  uint8  \n",
      " 16  StreetType    878049 non-null  int64  \n",
      " 17  BlockNo       878049 non-null  int64  \n",
      " 18  Rot30_X       878049 non-null  float64\n",
      " 19  Rot30_Y       878049 non-null  float64\n",
      " 20  Rot45_X       878049 non-null  float64\n",
      " 21  Rot45_Y       878049 non-null  float64\n",
      " 22  Rot60_X       878049 non-null  float64\n",
      " 23  Rot60_Y       878049 non-null  float64\n",
      " 24  Radius        878049 non-null  float64\n",
      " 25  Angle         878049 non-null  float64\n",
      " 26  Cluster       878049 non-null  int32  \n",
      "dtypes: float64(10), int32(1), int64(13), uint8(3)\n",
      "memory usage: 159.9 MB\n"
     ]
    }
   ],
   "source": [
    "train_df.info()"
   ]
  },
  {
   "cell_type": "code",
   "execution_count": 110,
   "metadata": {
    "ExecuteTime": {
     "end_time": "2018-09-15T00:15:36.424967Z",
     "start_time": "2018-09-15T00:15:35.520949Z"
    }
   },
   "outputs": [
    {
     "name": "stdout",
     "output_type": "stream",
     "text": [
      "<class 'pandas.core.frame.DataFrame'>\n",
      "RangeIndex: 878049 entries, 0 to 878048\n",
      "Data columns (total 27 columns):\n",
      " #   Column        Non-Null Count   Dtype  \n",
      "---  ------        --------------   -----  \n",
      " 0   Category      878049 non-null  int64  \n",
      " 1   DayOfWeek     878049 non-null  int16  \n",
      " 2   PdDistrict    878049 non-null  int16  \n",
      " 3   X             878049 non-null  float64\n",
      " 4   Y             878049 non-null  float64\n",
      " 5   Minute        878049 non-null  int16  \n",
      " 6   Hour          878049 non-null  int16  \n",
      " 7   Day           878049 non-null  int16  \n",
      " 8   Month         878049 non-null  int16  \n",
      " 9   Year          878049 non-null  int16  \n",
      " 10  Hour_Zone     878049 non-null  int16  \n",
      " 11  WeekOfYear    878049 non-null  int16  \n",
      " 12  Holiday       878049 non-null  uint8  \n",
      " 13  BusinessHour  878049 non-null  uint8  \n",
      " 14  Season        878049 non-null  int16  \n",
      " 15  Weekend       878049 non-null  uint8  \n",
      " 16  StreetType    878049 non-null  int16  \n",
      " 17  BlockNo       878049 non-null  int16  \n",
      " 18  Rot30_X       878049 non-null  float64\n",
      " 19  Rot30_Y       878049 non-null  float64\n",
      " 20  Rot45_X       878049 non-null  float64\n",
      " 21  Rot45_Y       878049 non-null  float64\n",
      " 22  Rot60_X       878049 non-null  float64\n",
      " 23  Rot60_Y       878049 non-null  float64\n",
      " 24  Radius        878049 non-null  float64\n",
      " 25  Angle         878049 non-null  float64\n",
      " 26  Cluster       878049 non-null  int16  \n",
      "dtypes: float64(10), int16(13), int64(1), uint8(3)\n",
      "memory usage: 98.0 MB\n"
     ]
    }
   ],
   "source": [
    "# # Convert all to 32 bit integers so less memory and will train faster (no loss in data since our integers dont reach)\n",
    "columns_to_convert = ['DayOfWeek', 'PdDistrict', 'Minute', 'Hour', 'Day', 'Month', 'Year', \n",
    "                      'Hour_Zone', 'WeekOfYear', 'Season', 'StreetType', 'BlockNo', 'Cluster']\n",
    "train_df[columns_to_convert] = train_df[columns_to_convert].astype('int16')\n",
    "test_df[columns_to_convert] = test_df[columns_to_convert].astype('int16')\n",
    "\n",
    "train_df.info()"
   ]
  },
  {
   "cell_type": "markdown",
   "metadata": {},
   "source": [
    "# Building Machine Learning Models\n",
    "\n",
    "- Baseline Models\n",
    "    - Let's train a couple models on a stratified sample of the training data\n",
    "    - Evaluate on a hold out set to get baseline results for each model to determine what model to use\n",
    "    - Models:\n",
    "        - Stochastic Gradient Descent (with elastic net regularization)\n",
    "        - Gaussian Naive Bayes\n",
    "        - K Nearest Neighbors\n",
    "        - Logistic Regression (with L1 regularization)\n",
    "        - Random Forest\n",
    "        - XGBoost\n",
    "    - Almost all the default scikit-learn ML algorithm hyperparameters exhibit bad performance\n",
    "        - Researched online & read literature to determine some more ideal default hyperparameters\n",
    "            - [Reference](https://arxiv.org/abs/1708.05070)\n",
    "- Couple things to note:\n",
    "    - **Decision tree models** including Ensemble methods (Random Forest & XGBoost) can handle categorical variables without one-hot encoding them. \n",
    "    - **Linear models** (SGD & Logistic Regression) cannot handle categorical features & need features to be OHE before training\n",
    "    - Always OneHotEncode before you split data up to training/dev/test so that all features & classes will be represented"
   ]
  },
  {
   "cell_type": "code",
   "execution_count": 111,
   "metadata": {
    "ExecuteTime": {
     "end_time": "2018-09-15T00:15:36.648460Z",
     "start_time": "2018-09-15T00:15:36.426939Z"
    }
   },
   "outputs": [],
   "source": [
    "# Set training data (drop labels) and training labels\n",
    "X_train = train_df.drop(\"Category\", axis=1).copy()\n",
    "Y_train = train_df[\"Category\"].copy()\n",
    "\n",
    "# Set testing data (drop Id)\n",
    "X_test = test_df.drop(\"Id\", axis=1).copy()"
   ]
  },
  {
   "cell_type": "code",
   "execution_count": 112,
   "metadata": {
    "ExecuteTime": {
     "end_time": "2018-09-15T00:15:36.668125Z",
     "start_time": "2018-09-15T00:15:36.650857Z"
    }
   },
   "outputs": [],
   "source": [
    "# def one_hot_encode(train_data):\n",
    "#     '''One Hot Encode the categorical features'''\n",
    "#     encoded_train_data = train_data\n",
    "\n",
    "#     encoded_train_data = pd.concat([encoded_train_data, \n",
    "#                                     pd.get_dummies(pd.Series(encoded_train_data['PdDistrict']), prefix='PdDistrict')], axis=1)\n",
    "#     encoded_train_data = pd.concat([encoded_train_data, \n",
    "#                                     pd.get_dummies(pd.Series(encoded_train_data['DayOfWeek']), prefix='DayOfWeek')], axis=1)\n",
    "#     encoded_train_data = pd.concat([encoded_train_data, \n",
    "#                                     pd.get_dummies(pd.Series(encoded_train_data['StreetType']), prefix='StreetType')], axis=1)\n",
    "#     encoded_train_data = pd.concat([encoded_train_data, \n",
    "#                                     pd.get_dummies(pd.Series(encoded_train_data['Season']), prefix='Season')], axis=1)\n",
    "#     encoded_train_data = pd.concat([encoded_train_data, \n",
    "#                                     pd.get_dummies(pd.Series(encoded_train_data['Hour_Zone']), prefix='Hour_Zone')], axis=1)\n",
    "#     encoded_train_data = pd.concat([encoded_train_data, \n",
    "#                                     pd.get_dummies(pd.Series(encoded_train_data['Cluster']), prefix='Cluster')], axis=1)\n",
    "#     encoded_train_data = encoded_train_data.drop(['Cluster','StreetType', 'Season', 'Hour_Zone', 'DayOfWeek', 'PdDistrict'], axis=1)\n",
    "\n",
    "#     return encoded_train_data"
   ]
  },
  {
   "cell_type": "code",
   "execution_count": 113,
   "metadata": {
    "ExecuteTime": {
     "end_time": "2018-09-15T00:15:38.078394Z",
     "start_time": "2018-09-15T00:15:36.669880Z"
    }
   },
   "outputs": [],
   "source": [
    "# X_encoded_train = one_hot_encode(X_train)"
   ]
  },
  {
   "cell_type": "code",
   "execution_count": 114,
   "metadata": {
    "ExecuteTime": {
     "end_time": "2018-09-15T00:15:38.889144Z",
     "start_time": "2018-09-15T00:15:38.080685Z"
    }
   },
   "outputs": [],
   "source": [
    "# # Use these for ML algorithms that can't handle categorical data (Logistic Regression, Linear Models)\n",
    "# mini_encoded_train_data, mini_encoded_dev_data, mini_train_labels, mini_dev_labels = train_test_split(X_encoded_train, \n",
    "#                                                                                       Y_train,\n",
    "#                                                                                       stratify=Y_train,\n",
    "#                                                                                       test_size=0.5,\n",
    "#                                                                                       random_state=1)"
   ]
  },
  {
   "cell_type": "code",
   "execution_count": 115,
   "metadata": {
    "ExecuteTime": {
     "end_time": "2018-09-15T00:15:39.373300Z",
     "start_time": "2018-09-15T00:15:38.891328Z"
    }
   },
   "outputs": [],
   "source": [
    "# Use these for ML algorithms that can handle categorical data without OHE\n",
    "mini_train_data, mini_dev_data, mini_train_labels, mini_dev_labels = train_test_split(X_train, \n",
    "                                                                                      Y_train,\n",
    "                                                                                      stratify=Y_train,\n",
    "                                                                                      test_size=0.5,\n",
    "                                                                                      random_state=1)"
   ]
  },
  {
   "cell_type": "code",
   "execution_count": 116,
   "metadata": {
    "ExecuteTime": {
     "end_time": "2018-09-15T00:21:04.680834Z",
     "start_time": "2018-09-15T00:15:39.375996Z"
    }
   },
   "outputs": [],
   "source": [
    "# # K Neighbors\n",
    "# knn = KNeighborsClassifier()\n",
    "# knn.fit(mini_train_data, mini_train_labels)\n",
    "# pred_probs = knn.predict_proba(mini_dev_data)\n",
    "# knn_loss = log_loss(mini_dev_labels, pred_probs)\n",
    "\n",
    "\n",
    "# print('KNN Validation Log Loss: ', knn_loss)"
   ]
  },
  {
   "cell_type": "code",
   "execution_count": 117,
   "metadata": {
    "ExecuteTime": {
     "end_time": "2018-09-15T00:21:10.419938Z",
     "start_time": "2018-09-15T00:21:04.683462Z"
    }
   },
   "outputs": [],
   "source": [
    "# # Naive Bayes\n",
    "# gaussian = GaussianNB()\n",
    "# gaussian.fit(mini_train_data, mini_train_labels)\n",
    "# pred_probs = gaussian.predict_proba(mini_dev_data)\n",
    "# nb_loss = log_loss(mini_dev_labels, pred_probs)\n",
    "\n",
    "\n",
    "# print('Gaussian Naive Bayes Validation Log Loss: ', nb_loss)"
   ]
  },
  {
   "cell_type": "code",
   "execution_count": 118,
   "metadata": {
    "ExecuteTime": {
     "end_time": "2018-09-15T00:22:42.776583Z",
     "start_time": "2018-09-15T00:21:10.422757Z"
    }
   },
   "outputs": [],
   "source": [
    "# # stochastic gradient descent (SGD) learning\n",
    "# sgd = linear_model.SGDClassifier(penalty='elasticnet', loss='log', \n",
    "#                                   tol=0.0001, max_iter=1000, n_jobs=3, random_state=1)\n",
    "# sgd.fit(mini_encoded_train_data, mini_train_labels)\n",
    "# pred_probs = sgd.predict_proba(mini_encoded_dev_data)\n",
    "# # sgd.fit(one_hot_encode(mini_train_data), mini_train_labels)\n",
    "# # sgd = gaussian.predict_proba(one_hot_encode(mini_dev_data))\n",
    "# sgd_loss = log_loss(mini_dev_labels, pred_probs)\n",
    "\n",
    "# print('Linear Model SGD Validation Log Loss: ', sgd_loss)"
   ]
  },
  {
   "cell_type": "code",
   "execution_count": 119,
   "metadata": {
    "ExecuteTime": {
     "end_time": "2018-09-15T04:58:06.514049Z",
     "start_time": "2018-09-15T00:22:42.778440Z"
    }
   },
   "outputs": [],
   "source": [
    "# # Logistic Regression\n",
    "# logreg = LogisticRegression(penalty='l1', C=1.5, solver='saga', multi_class='multinomial', \n",
    "#                             tol=0.0001, max_iter=1000, verbose=3, n_jobs=3, random_state=1)\n",
    "\n",
    "# logreg.fit(mini_encoded_train_data, mini_train_labels)\n",
    "# pred_probs = logreg.predict_proba(mini_encoded_dev_data)\n",
    "\n",
    "# logreg_loss = log_loss(mini_dev_labels, pred_probs)\n",
    "\n",
    "\n",
    "# print('Logistic Regression Validation Log Loss: ', logreg_loss)"
   ]
  },
  {
   "cell_type": "code",
   "execution_count": 120,
   "metadata": {
    "ExecuteTime": {
     "end_time": "2018-09-15T05:04:12.620499Z",
     "start_time": "2018-09-15T04:58:06.515799Z"
    },
    "scrolled": true
   },
   "outputs": [],
   "source": [
    "# # Random Forest Ensemble\n",
    "# random_forest = RandomForestClassifier(n_estimators=500, max_depth=15, max_features='sqrt',\n",
    "#                                        min_samples_leaf=5, min_samples_split=25, \n",
    "#                                        random_state=1, verbose=1, n_jobs=2)\n",
    "\n",
    "\n",
    "# random_forest.fit(mini_train_data, mini_train_labels)\n",
    "# pred_probs = random_forest.predict_proba(mini_dev_data)\n",
    "\n",
    "# rf_loss = log_loss(mini_dev_labels, pred_probs)\n",
    "\n",
    "# print('Random Forest Validation Log Loss: ', rf_loss)"
   ]
  },
  {
   "cell_type": "code",
   "execution_count": 121,
   "metadata": {
    "ExecuteTime": {
     "end_time": "2018-09-15T06:34:32.857467Z",
     "start_time": "2018-09-15T05:04:12.622327Z"
    }
   },
   "outputs": [],
   "source": [
    "# # XGBoost Ensemble \n",
    "# # xgb = XGBClassifier(n_estimators=100, verbose=3, n_jobs=2, random_state=1)\n",
    "# xgb = XGBClassifier(n_estimators=500, objective=\"multi:softprob\", \n",
    "#                     verbose=3, n_jobs=3, random_state=1)\n",
    "\n",
    "# xgb.fit(mini_encoded_train_data, mini_train_labels)\n",
    "# pred_probs = xgb.predict_proba(mini_encoded_dev_data)\n",
    "\n",
    "# xgb_loss = log_loss(mini_dev_labels, pred_probs)\n",
    "\n",
    "# print('XGBoost Validation Log Loss: ', xgb_loss)"
   ]
  },
  {
   "cell_type": "code",
   "execution_count": 122,
   "metadata": {
    "ExecuteTime": {
     "end_time": "2018-09-15T06:34:32.876359Z",
     "start_time": "2018-09-15T06:34:32.859371Z"
    }
   },
   "outputs": [],
   "source": [
    "# # Display the rank of the models\n",
    "# models = pd.DataFrame({\n",
    "#     'Model': ['SGD (Elastic net)', 'Logistic Regression (l1)', 'Random Forest', \n",
    "#               'Gaussian Naive Bayes', 'XGBoost', 'K Neighbors'],\n",
    "#     'Log_Loss': [sgd_loss, logreg_loss, rf_loss, nb_loss, xgb_loss, knn_loss]})\n",
    "# print(models.sort_values(by='Log_Loss', ascending=True).reset_index(drop=True))"
   ]
  },
  {
   "cell_type": "markdown",
   "metadata": {},
   "source": [
    "# Model Selection\n",
    "\n",
    "- Although Logistic Regression with L1 regularization seems promising, our dataset has a mixture of categorical and numerical features that have very different statistics (mean, variance), thus not very linear. In addition, with any linear model, this would require **one hot encoding** that would greatly increase the feature space (some categorical features such as `BlockNumber` have many levels/values). \n",
    "    - Logistic Regression is a generalized linear model, and can theoretically only solve problems where the classes are linearly separable & features are linear.\n",
    "    - In practice, if we do more feature engineering and convert the non-linear features to linear features, we could increase the performance of LR\n",
    "- Ensemble methods have been historically and theoretically powerful in handling datasets with very different features (numerical & categorical features). In addition, ensemble methods are effective in solving non-linear problems. So, I will select between Random Forest & XGBoost as the final model. \n",
    "    - The caveat is that the default hyperparameters for RF & XGB are generally not optimal for the problem in hand, so hyperparameter tuning is necessary, which can take a while since there are so many hyperparameters to tune for (at least in XGB)."
   ]
  },
  {
   "cell_type": "markdown",
   "metadata": {},
   "source": [
    "# Hyperparameter Tuning\n",
    "\n",
    "- Hyperparameter tuning involves defining an objective function (log loss), and using cross-validation to measure the hyperparameter quality. \n",
    "    - We want the hyperparameters that give the highest generalization performance.\n",
    "- Three approaches: Grid Search (`GridSearchCV`), Random Search (`RandomSearchCV`), and Bayes Optimization (`BayesSearchCV`)\n",
    "- Realized `GridSearchCV` took way too long and was impractical, and `RandomSearchCV` was too random.\n",
    "    - Grid and random search are completely uninformed by past evaluations, and as a result, often spend a significant amount of time evaluating “bad” hyperparameters.\n",
    "- Then, I did more research on more efficient & smarter hyperparameter tuning techniques and found Bayeisan Optimization (`BayesSearchCV`)\n",
    "- **Bayesian Optimization Overview**\n",
    "    - Build a probabilistic model of the objective function & use it to select promising hyperparameters to evaluate in the true objective function\n",
    "        - The model used for approximating the objective function is called *surrogate model*. \n",
    "            - E.g. Gaussian Processes \n",
    "    - Keeps track of past evaluation results, which is used to form a probabilistic model mapping hyperparameters to a probability of a score on the objective function\n",
    "    - Instead of optimizing an expensive objective function, we optimize on a cheap proxy function instead.\n",
    "        - *Acquisition function* that directs sampling to areas where an improvement over the current best observation is likely.\n",
    "            - E.g. maximum probability of improvement (MPI), expected improvement (EI) and upper confidence bound (UCB)\n",
    "- **K-Folds Cross Validation**\n",
    "    - Use cross validation to measure the true generalization performance of a model \n",
    "    - This is integrated with the hyperparameter tuning techniques (`GridSearchCV`, `RandomSearchCV`, `BayesSearchCV`)"
   ]
  },
  {
   "cell_type": "markdown",
   "metadata": {},
   "source": [
    "--------\n",
    "## Random Forest (Bagging)\n",
    "\n",
    "- Basic Overview\n",
    "    - An ensemble method that utilizes Bagging (Bootstrapp Aggregation or sampling with replacement)\n",
    "    - Bagging helps reduce **variance** in any single learner (Decision Trees)\n",
    "- Basic Steps:\n",
    "    1. Several decision trees which are generated in parallel, form the base learners of bagging technique.\n",
    "    2. Data sampled with replacement is fed to these learners for training.\n",
    "    3. The final prediction is the averaged output from all the learners.\n",
    "   \n",
    "\n",
    "**Things I learned**:\n",
    "- Since the random forest model is overfitting, we want to increase the **min** parameters of random forest and decrease the **max** parameters of random forest\n",
    "- increasing n_estimators will prevent the random forest from **overfitting**\n",
    "    - lower number of n_estimators will be similiar to just a simple decision tree (very prone to overfitting)\n",
    "- increasing max depth will increase **variance** (overfitting, sensitivity to training set) and decrease **bias**\n",
    "- increasing min samples leaf will decrease **variance** and increase **bias**.\n",
    "- decreasing any of the **max*** parameters and increasing any of the **min*** parameters will increase **regularization**."
   ]
  },
  {
   "cell_type": "code",
   "execution_count": 123,
   "metadata": {
    "ExecuteTime": {
     "end_time": "2018-09-15T06:34:33.878874Z",
     "start_time": "2018-09-15T06:34:33.825618Z"
    }
   },
   "outputs": [],
   "source": [
    "# n_features = X_train.shape[1]\n",
    "\n",
    "\n",
    "# opt = BayesSearchCV(\n",
    "#     estimator=RandomForestClassifier(oob_score=True, random_state=1, n_jobs=2),\n",
    "#     search_spaces= \n",
    "#     {\n",
    "#         'n_estimators': (100, 600),\n",
    "#         'max_depth': (1, 50),  \n",
    "#         'max_features': (1, n_features),\n",
    "#         'min_samples_leaf': (1, 50),  # integer valued parameter\n",
    "#         'min_samples_split': (2, 50),\n",
    "#     },\n",
    "#     n_iter=20,\n",
    "#     optimizer_kwargs= {'base_estimator': 'RF'},\n",
    "#     scoring='neg_log_loss',\n",
    "#     n_jobs=5,\n",
    "#     verbose=0,\n",
    "#     cv = StratifiedKFold(\n",
    "#         n_splits=3,\n",
    "#         shuffle=True,\n",
    "#         random_state=1\n",
    "#     ),\n",
    "#     random_state=1\n",
    "    \n",
    "# )\n",
    "\n",
    "\n",
    "# def status_print(optim_result):\n",
    "#     \"\"\"Status callback durring bayesian hyperparameter search\"\"\"\n",
    "    \n",
    "#     # Get all the models tested so far in DataFrame format\n",
    "#     all_models = pd.DataFrame(opt.cv_results_)    \n",
    "    \n",
    "#     # Get current parameters and the best parameters    \n",
    "#     best_params = pd.Series(opt.best_params_)\n",
    "#     print('Model #{}\\nBest LogLoss: {}\\nBest params: {}\\n'.format(\n",
    "#         len(all_models),\n",
    "#         np.round(opt.best_score_, 6),\n",
    "#         opt.best_params_\n",
    "#     ))\n",
    "    \n",
    "#     # Save all model results\n",
    "#     clf_name = opt.estimator.__class__.__name__\n",
    "#     all_models.to_csv(clf_name + \"_cv_results.csv\")\n"
   ]
  },
  {
   "cell_type": "code",
   "execution_count": 124,
   "metadata": {
    "ExecuteTime": {
     "end_time": "2018-09-15T11:29:52.084160Z",
     "start_time": "2018-09-15T06:34:33.881264Z"
    },
    "scrolled": true
   },
   "outputs": [],
   "source": [
    "# result = opt.fit(X_train.values, Y_train.values, callback=status_print)"
   ]
  },
  {
   "cell_type": "code",
   "execution_count": 125,
   "metadata": {
    "ExecuteTime": {
     "end_time": "2018-09-17T04:55:53.896268Z",
     "start_time": "2018-09-17T04:55:53.757495Z"
    }
   },
   "outputs": [],
   "source": [
    "# result.best_params_"
   ]
  },
  {
   "cell_type": "markdown",
   "metadata": {},
   "source": [
    "## XGBoost (Boosting)\n",
    "\n",
    "- Basic Overview:\n",
    "    - Another ensemble method that uses Boosting instead of Bagging (Random Forests)\n",
    "    - In **Boosting**, the trees are built sequentially such that each subsequent tree aims to reduce the errors of the previous tree.\n",
    "    - Each tree learns from its predecessors and updates the residual errors. \n",
    "    - Each base learner is weak (high bias) and contributes some vital information for prediction, enabling the boosting technique to produce a strong learner by effectively combining these weak learners.\n",
    "    - The final strong learner brings down both the **bias** and the **variance**.\n",
    "    - In contrast to bagging techniques like Random Forest, in which trees are grown to their maximum extent, boosting makes use of trees with fewer splits\n",
    "        -  Such small trees, which are not very deep, are **highly interpretable**. \n",
    "- Basic Steps:\n",
    "    1. Initial model `F0` to predict target variable `y`. Used to also calculate residual (`y - F0`)\n",
    "    2. A new model `h1` is used to fit to the residuals from the previous step\n",
    "    3. Now, `F0` and `h1` are combined to give `F1`, which is the boosted version of `F0`. \n",
    "        - The MSE or whatever cost function you use (Log loss, MAE) of `F1` will be lower than `F0`.\n",
    "    4. Iterate the above steps to create new models based off the previous models.\n",
    "    \n",
    "### Prevent Overfitting:\n",
    "- Large number of trees will cause overfitting (unlike Random Forests)\n"
   ]
  },
  {
   "cell_type": "code",
   "execution_count": 126,
   "metadata": {
    "ExecuteTime": {
     "end_time": "2018-09-15T21:03:55.844774Z",
     "start_time": "2018-09-15T21:03:55.779287Z"
    }
   },
   "outputs": [],
   "source": [
    "# # log-uniform: understand as search over p = exp(x) by varying x\n",
    "# bayes_cv_tuner = BayesSearchCV(\n",
    "#     estimator = XGBClassifier(\n",
    "#         n_jobs = 3,\n",
    "#         objective = 'multi:softprob',\n",
    "#         eval_metric = 'mlogloss',\n",
    "#         verbosity=1,\n",
    "#         random_state=1,\n",
    "#         tree_method=\"gpu_hist\",\n",
    "#         gpu_id=0,\n",
    "#     ),\n",
    "#     search_spaces = {\n",
    "#         'learning_rate': (0.01, 1.0, 'log-uniform'),\n",
    "#         'min_child_weight': (0, 10),\n",
    "#         'max_depth': (1, 100),\n",
    "#         'max_delta_step': (0, 20),\n",
    "#         'subsample': (0.01, 1.0, 'uniform'),\n",
    "#         'colsample_bytree': (0.01, 1.0, 'uniform'),\n",
    "#         'colsample_bylevel': (0.01, 1.0, 'uniform'),\n",
    "#         'reg_lambda': (1e-9, 1000, 'log-uniform'),\n",
    "#         'reg_alpha': (1e-9, 1.0, 'log-uniform'),\n",
    "#         'gamma': (1e-9, 0.5, 'log-uniform'),\n",
    "#         'min_child_weight': (0, 5),\n",
    "#         'n_estimators': (50, 300)\n",
    "#     },    \n",
    "#     scoring = 'neg_log_loss',\n",
    "#     cv = StratifiedKFold(\n",
    "#         n_splits=3,\n",
    "#         shuffle=True,\n",
    "#         random_state=1\n",
    "#     ),\n",
    "#     n_jobs = 6,\n",
    "#     n_iter = 20,   \n",
    "#     verbose = 0,\n",
    "#     refit = True,\n",
    "#     random_state = 1\n",
    "# )\n",
    "\n",
    "# def status_print(optim_result):\n",
    "#     \"\"\"Status callback durring bayesian hyperparameter search\"\"\"\n",
    "    \n",
    "#     # Get all the models tested so far in DataFrame format\n",
    "#     all_models = pd.DataFrame(bayes_cv_tuner.cv_results_)    \n",
    "    \n",
    "#     # Get current parameters and the best parameters    \n",
    "#     best_params = pd.Series(bayes_cv_tuner.best_params_)\n",
    "#     print('Model #{}\\nBest Log Loss: {}\\nBest params: {}\\n'.format(\n",
    "#         len(all_models),\n",
    "#         np.round(bayes_cv_tuner.best_score_, 8),\n",
    "#         bayes_cv_tuner.best_params_\n",
    "#     ))\n",
    "    \n",
    "#     # Save all model results\n",
    "#     clf_name = bayes_cv_tuner.estimator.__class__.__name__\n",
    "#     all_models.to_csv(clf_name + \"_cv_results.csv\")"
   ]
  },
  {
   "cell_type": "code",
   "execution_count": 127,
   "metadata": {},
   "outputs": [],
   "source": [
    "# # Fit the model\n",
    "# result = bayes_cv_tuner.fit(X_train.values, Y_train.values, callback=status_print)"
   ]
  },
  {
   "cell_type": "code",
   "execution_count": 128,
   "metadata": {},
   "outputs": [],
   "source": [
    "# # Print best params\n",
    "# result.best_params_"
   ]
  },
  {
   "cell_type": "raw",
   "metadata": {},
   "source": [
    "XGBoost Best params:\n",
    "\n",
    "{'colsample_bylevel': 1.0, 'colsample_bytree': 1.0, 'gamma': 0.49999999999999994, 'learning_rate': 0.1858621466840661, \n",
    "'max_delta_step': 0, 'max_depth': 50, 'min_child_weight': 5, 'n_estimators': 86, 'reg_alpha': 1.0, 'reg_lambda': 60.121460571845695, 'scale_pos_weight': 1e-06, 'subsample': 1.0}"
   ]
  },
  {
   "cell_type": "markdown",
   "metadata": {},
   "source": [
    "# Train model with optimal hyperparameters & all features\n",
    "\n",
    "- Initially, I started with a Random Forest, but decided to use XGBoost\n",
    "- We first train the model (with all the features) using the optimal hyperparameters that were found through `BayesSearchCV`\n",
    "- Then, I use the model to predict the probabilities of test set with all the features\n",
    "    - I'll save these predictions later to compare them with another model I will train with certain features removed"
   ]
  },
  {
   "cell_type": "code",
   "execution_count": 129,
   "metadata": {
    "ExecuteTime": {
     "end_time": "2018-09-17T08:00:30.846347Z",
     "start_time": "2018-09-17T05:06:43.255143Z"
    }
   },
   "outputs": [
    {
     "name": "stderr",
     "output_type": "stream",
     "text": [
      "/home/me/.conda/envs/py39/lib/python3.9/site-packages/xgboost/data.py:173: FutureWarning: pandas.Int64Index is deprecated and will be removed from pandas in a future version. Use pandas.Index with the appropriate dtype instead.\n",
      "  from pandas import MultiIndex, Int64Index\n"
     ]
    }
   ],
   "source": [
    "# It seems running time scales quadratically with the number of classes\n",
    "xgb = XGBClassifier(\n",
    "    n_estimators=86, \n",
    "    objective=\"multi:softprob\", \n",
    "    learning_rate=0.1858621466840661,\n",
    "    colsample_bylevel=1.0,\n",
    "    colsample_bytree=1.0,\n",
    "    gamma=0.49999999999999994,\n",
    "    max_delta_step=0,\n",
    "    max_depth=50,\n",
    "    min_child_weight=5,\n",
    "    reg_alpha=1.0,\n",
    "    reg_lambda=60.121460571845695,\n",
    "    scale_pos_weight=1e-06,\n",
    "    subsample=1.0,\n",
    "    random_state=1, \n",
    "    tree_method=\"gpu_hist\",\n",
    "    gpu_id=0,\n",
    "    n_jobs=4,\n",
    "    verbosity=0)\n",
    "\n",
    "\n",
    "xgb.fit(X_train, Y_train)\n",
    "\n",
    "Y_test_pred = xgb.predict_proba(X_test)"
   ]
  },
  {
   "cell_type": "code",
   "execution_count": 130,
   "metadata": {
    "ExecuteTime": {
     "end_time": "2018-09-08T08:58:59.498448Z",
     "start_time": "2018-09-08T08:27:44.681456Z"
    },
    "scrolled": true
   },
   "outputs": [],
   "source": [
    "# random_forest = RandomForestClassifier(n_estimators=600, max_depth=21, max_features=6,\n",
    "#                                        min_samples_leaf=43, min_samples_split=40, \n",
    "#                                        random_state=1, verbose=3, n_jobs=2)\n",
    "# random_forest.fit(X_train, Y_train)\n",
    "\n",
    "# Y_test_pred = random_forest.predict_proba(X_test)"
   ]
  },
  {
   "cell_type": "markdown",
   "metadata": {},
   "source": [
    "# Feature Importance\n",
    "\n",
    "- Measured by mean decrease in Gini information\n",
    "- This is a form of feature selection that ensemble methods (Random Forest, XGBoost) can use to prevent overfitting\n",
    "    - I drop the features that seem unimportant & with less than a 1% contribution"
   ]
  },
  {
   "cell_type": "code",
   "execution_count": 131,
   "metadata": {
    "ExecuteTime": {
     "end_time": "2018-09-17T08:00:40.093635Z",
     "start_time": "2018-09-17T08:00:30.849884Z"
    }
   },
   "outputs": [],
   "source": [
    "importances = pd.DataFrame({'feature': X_train.columns,\n",
    "                            'importance': np.round(xgb.feature_importances_, 5)})\n",
    "importances = importances.sort_values('importance',ascending=False).set_index('feature')"
   ]
  },
  {
   "cell_type": "code",
   "execution_count": 132,
   "metadata": {
    "ExecuteTime": {
     "end_time": "2018-09-17T08:00:40.175114Z",
     "start_time": "2018-09-17T08:00:40.097249Z"
    }
   },
   "outputs": [
    {
     "data": {
      "text/html": [
       "<div>\n",
       "<style scoped>\n",
       "    .dataframe tbody tr th:only-of-type {\n",
       "        vertical-align: middle;\n",
       "    }\n",
       "\n",
       "    .dataframe tbody tr th {\n",
       "        vertical-align: top;\n",
       "    }\n",
       "\n",
       "    .dataframe thead th {\n",
       "        text-align: right;\n",
       "    }\n",
       "</style>\n",
       "<table border=\"1\" class=\"dataframe\">\n",
       "  <thead>\n",
       "    <tr style=\"text-align: right;\">\n",
       "      <th></th>\n",
       "      <th>importance</th>\n",
       "    </tr>\n",
       "    <tr>\n",
       "      <th>feature</th>\n",
       "      <th></th>\n",
       "    </tr>\n",
       "  </thead>\n",
       "  <tbody>\n",
       "    <tr>\n",
       "      <th>Minute</th>\n",
       "      <td>0.08841</td>\n",
       "    </tr>\n",
       "    <tr>\n",
       "      <th>BusinessHour</th>\n",
       "      <td>0.07314</td>\n",
       "    </tr>\n",
       "    <tr>\n",
       "      <th>BlockNo</th>\n",
       "      <td>0.06109</td>\n",
       "    </tr>\n",
       "    <tr>\n",
       "      <th>Rot45_Y</th>\n",
       "      <td>0.04771</td>\n",
       "    </tr>\n",
       "    <tr>\n",
       "      <th>Rot30_Y</th>\n",
       "      <td>0.04726</td>\n",
       "    </tr>\n",
       "    <tr>\n",
       "      <th>Radius</th>\n",
       "      <td>0.04560</td>\n",
       "    </tr>\n",
       "    <tr>\n",
       "      <th>Hour_Zone</th>\n",
       "      <td>0.04189</td>\n",
       "    </tr>\n",
       "    <tr>\n",
       "      <th>Rot60_X</th>\n",
       "      <td>0.04186</td>\n",
       "    </tr>\n",
       "    <tr>\n",
       "      <th>PdDistrict</th>\n",
       "      <td>0.04180</td>\n",
       "    </tr>\n",
       "    <tr>\n",
       "      <th>Rot30_X</th>\n",
       "      <td>0.03753</td>\n",
       "    </tr>\n",
       "    <tr>\n",
       "      <th>Y</th>\n",
       "      <td>0.03630</td>\n",
       "    </tr>\n",
       "    <tr>\n",
       "      <th>Cluster</th>\n",
       "      <td>0.03579</td>\n",
       "    </tr>\n",
       "    <tr>\n",
       "      <th>Rot60_Y</th>\n",
       "      <td>0.03557</td>\n",
       "    </tr>\n",
       "    <tr>\n",
       "      <th>X</th>\n",
       "      <td>0.03498</td>\n",
       "    </tr>\n",
       "    <tr>\n",
       "      <th>Year</th>\n",
       "      <td>0.03451</td>\n",
       "    </tr>\n",
       "    <tr>\n",
       "      <th>Rot45_X</th>\n",
       "      <td>0.03438</td>\n",
       "    </tr>\n",
       "    <tr>\n",
       "      <th>Hour</th>\n",
       "      <td>0.03366</td>\n",
       "    </tr>\n",
       "    <tr>\n",
       "      <th>Angle</th>\n",
       "      <td>0.03359</td>\n",
       "    </tr>\n",
       "    <tr>\n",
       "      <th>StreetType</th>\n",
       "      <td>0.02852</td>\n",
       "    </tr>\n",
       "    <tr>\n",
       "      <th>Weekend</th>\n",
       "      <td>0.02815</td>\n",
       "    </tr>\n",
       "    <tr>\n",
       "      <th>WeekOfYear</th>\n",
       "      <td>0.02371</td>\n",
       "    </tr>\n",
       "    <tr>\n",
       "      <th>Holiday</th>\n",
       "      <td>0.02337</td>\n",
       "    </tr>\n",
       "    <tr>\n",
       "      <th>Season</th>\n",
       "      <td>0.02324</td>\n",
       "    </tr>\n",
       "    <tr>\n",
       "      <th>Day</th>\n",
       "      <td>0.02297</td>\n",
       "    </tr>\n",
       "    <tr>\n",
       "      <th>DayOfWeek</th>\n",
       "      <td>0.02278</td>\n",
       "    </tr>\n",
       "    <tr>\n",
       "      <th>Month</th>\n",
       "      <td>0.02217</td>\n",
       "    </tr>\n",
       "  </tbody>\n",
       "</table>\n",
       "</div>"
      ],
      "text/plain": [
       "              importance\n",
       "feature                 \n",
       "Minute           0.08841\n",
       "BusinessHour     0.07314\n",
       "BlockNo          0.06109\n",
       "Rot45_Y          0.04771\n",
       "Rot30_Y          0.04726\n",
       "Radius           0.04560\n",
       "Hour_Zone        0.04189\n",
       "Rot60_X          0.04186\n",
       "PdDistrict       0.04180\n",
       "Rot30_X          0.03753\n",
       "Y                0.03630\n",
       "Cluster          0.03579\n",
       "Rot60_Y          0.03557\n",
       "X                0.03498\n",
       "Year             0.03451\n",
       "Rot45_X          0.03438\n",
       "Hour             0.03366\n",
       "Angle            0.03359\n",
       "StreetType       0.02852\n",
       "Weekend          0.02815\n",
       "WeekOfYear       0.02371\n",
       "Holiday          0.02337\n",
       "Season           0.02324\n",
       "Day              0.02297\n",
       "DayOfWeek        0.02278\n",
       "Month            0.02217"
      ]
     },
     "execution_count": 132,
     "metadata": {},
     "output_type": "execute_result"
    }
   ],
   "source": [
    "importances"
   ]
  },
  {
   "cell_type": "markdown",
   "metadata": {},
   "source": [
    "# Feature Removal\n",
    "\n",
    "- Remove features to simplify model and prevent overfitting\n",
    "- Drop anything that contributes under 1% to prevent overfitting"
   ]
  },
  {
   "cell_type": "code",
   "execution_count": 133,
   "metadata": {
    "ExecuteTime": {
     "end_time": "2018-09-17T08:14:35.010195Z",
     "start_time": "2018-09-17T08:14:34.817218Z"
    }
   },
   "outputs": [],
   "source": [
    "# X_train = X_train.drop(\"BusinessHour\", axis=1)\n",
    "# X_test  = X_test.drop(\"BusinessHour\", axis=1)"
   ]
  },
  {
   "cell_type": "code",
   "execution_count": 134,
   "metadata": {
    "ExecuteTime": {
     "end_time": "2018-09-17T08:14:36.108016Z",
     "start_time": "2018-09-17T08:14:35.943995Z"
    }
   },
   "outputs": [],
   "source": [
    "# X_train = X_train.drop(\"PdDistrict\", axis=1)\n",
    "# X_test  = X_test.drop(\"PdDistrict\", axis=1)"
   ]
  },
  {
   "cell_type": "code",
   "execution_count": 135,
   "metadata": {
    "ExecuteTime": {
     "end_time": "2018-09-17T08:14:36.487347Z",
     "start_time": "2018-09-17T08:14:36.397874Z"
    }
   },
   "outputs": [],
   "source": [
    "# X_train = X_train.drop(\"Holiday\", axis=1)\n",
    "# X_test  = X_test.drop(\"Holiday\", axis=1)"
   ]
  },
  {
   "cell_type": "code",
   "execution_count": 136,
   "metadata": {
    "ExecuteTime": {
     "end_time": "2018-09-17T08:14:53.358791Z",
     "start_time": "2018-09-17T08:14:53.260800Z"
    }
   },
   "outputs": [],
   "source": [
    "# X_train = X_train.drop(\"Weekend\", axis=1)\n",
    "# X_test  = X_test.drop(\"Weekend\", axis=1)"
   ]
  },
  {
   "cell_type": "code",
   "execution_count": 137,
   "metadata": {
    "ExecuteTime": {
     "end_time": "2018-09-17T08:14:53.946694Z",
     "start_time": "2018-09-17T08:14:53.897524Z"
    }
   },
   "outputs": [],
   "source": [
    "# X_train.head()"
   ]
  },
  {
   "cell_type": "code",
   "execution_count": 138,
   "metadata": {
    "ExecuteTime": {
     "end_time": "2018-09-17T08:14:54.532223Z",
     "start_time": "2018-09-17T08:14:54.508723Z"
    }
   },
   "outputs": [],
   "source": [
    "# X_test.head()"
   ]
  },
  {
   "cell_type": "markdown",
   "metadata": {},
   "source": [
    "# Train final model with optimal hyperparameters & features"
   ]
  },
  {
   "cell_type": "code",
   "execution_count": 139,
   "metadata": {
    "ExecuteTime": {
     "end_time": "2018-09-17T10:48:47.621060Z",
     "start_time": "2018-09-17T08:18:41.414908Z"
    }
   },
   "outputs": [],
   "source": [
    "# # It seems running time scales quadratically with the number of classes\n",
    "# xgb = XGBClassifier(\n",
    "#     n_estimators=86, \n",
    "#     objective=\"multi:softprob\", \n",
    "#     learning_rate=0.1858621466840661,\n",
    "#     colsample_bylevel=1.0,\n",
    "#     colsample_bytree=1.0,\n",
    "#     gamma=0.49999999999999994,\n",
    "#     max_delta_step=0,\n",
    "#     max_depth=50,\n",
    "#     min_child_weight=5,\n",
    "#     reg_alpha=1.0,\n",
    "#     reg_lambda=60.121460571845695,\n",
    "#     scale_pos_weight=1e-06,\n",
    "#     subsample=1.0,\n",
    "#     random_state=1, \n",
    "#     n_jobs=4,\n",
    "#     verbosity=0)\n",
    "\n",
    "\n",
    "# xgb.fit(X_train, Y_train)\n",
    "\n",
    "# Y_test_pred = xgb.predict_proba(X_test)"
   ]
  },
  {
   "cell_type": "code",
   "execution_count": 140,
   "metadata": {},
   "outputs": [],
   "source": [
    "# Final Random Forest Model\n",
    "\n",
    "# random_forest = RandomForestClassifier(n_estimators=600, max_depth=21, max_features=6,\n",
    "#                                        min_samples_leaf=43, min_samples_split=40, \n",
    "#                                        random_state=1, verbose=3, n_jobs=2)\n",
    "# random_forest.fit(X_train, Y_train)\n",
    "\n",
    "# Y_test_pred = random_forest.predict_proba(X_test)"
   ]
  },
  {
   "cell_type": "markdown",
   "metadata": {},
   "source": [
    "# Model Evaluation\n",
    "\n",
    "- Evaluate final model based on K-Fold cross validation\n",
    "- Average all K iterations to give the true estimate of the final model's performance"
   ]
  },
  {
   "cell_type": "code",
   "execution_count": 141,
   "metadata": {
    "ExecuteTime": {
     "end_time": "2018-09-02T04:41:05.199240Z",
     "start_time": "2018-09-02T04:27:11.535Z"
    }
   },
   "outputs": [
    {
     "name": "stderr",
     "output_type": "stream",
     "text": [
      "/home/me/.conda/envs/py39/lib/python3.9/site-packages/xgboost/compat.py:93: FutureWarning: pandas.Int64Index is deprecated and will be removed from pandas in a future version. Use pandas.Index with the appropriate dtype instead.\n",
      "  from pandas import MultiIndex, Int64Index\n",
      "/home/me/.conda/envs/py39/lib/python3.9/site-packages/xgboost/compat.py:93: FutureWarning: pandas.Int64Index is deprecated and will be removed from pandas in a future version. Use pandas.Index with the appropriate dtype instead.\n",
      "  from pandas import MultiIndex, Int64Index\n",
      "/home/me/.conda/envs/py39/lib/python3.9/site-packages/xgboost/data.py:173: FutureWarning: pandas.Int64Index is deprecated and will be removed from pandas in a future version. Use pandas.Index with the appropriate dtype instead.\n",
      "  from pandas import MultiIndex, Int64Index\n",
      "/home/me/.conda/envs/py39/lib/python3.9/site-packages/xgboost/data.py:173: FutureWarning: pandas.Int64Index is deprecated and will be removed from pandas in a future version. Use pandas.Index with the appropriate dtype instead.\n",
      "  from pandas import MultiIndex, Int64Index\n",
      "/home/me/.conda/envs/py39/lib/python3.9/site-packages/xgboost/data.py:173: FutureWarning: pandas.Int64Index is deprecated and will be removed from pandas in a future version. Use pandas.Index with the appropriate dtype instead.\n",
      "  from pandas import MultiIndex, Int64Index\n",
      "/home/me/.conda/envs/py39/lib/python3.9/site-packages/xgboost/data.py:173: FutureWarning: pandas.Int64Index is deprecated and will be removed from pandas in a future version. Use pandas.Index with the appropriate dtype instead.\n",
      "  from pandas import MultiIndex, Int64Index\n",
      "/home/me/.conda/envs/py39/lib/python3.9/site-packages/xgboost/data.py:173: FutureWarning: pandas.Int64Index is deprecated and will be removed from pandas in a future version. Use pandas.Index with the appropriate dtype instead.\n",
      "  from pandas import MultiIndex, Int64Index\n",
      "/home/me/.conda/envs/py39/lib/python3.9/site-packages/xgboost/data.py:173: FutureWarning: pandas.Int64Index is deprecated and will be removed from pandas in a future version. Use pandas.Index with the appropriate dtype instead.\n",
      "  from pandas import MultiIndex, Int64Index\n"
     ]
    }
   ],
   "source": [
    "scores = cross_val_score(xgb, X_train, Y_train, \n",
    "                         cv=StratifiedKFold(n_splits=3, shuffle=True, random_state=1), \n",
    "                         scoring = \"neg_log_loss\", n_jobs=2)"
   ]
  },
  {
   "cell_type": "code",
   "execution_count": 142,
   "metadata": {
    "ExecuteTime": {
     "end_time": "2018-09-02T04:41:05.202180Z",
     "start_time": "2018-09-02T04:27:11.537Z"
    }
   },
   "outputs": [
    {
     "name": "stdout",
     "output_type": "stream",
     "text": [
      "Scores: [-2.20872865 -2.2078146  -2.20646691]\n",
      "Mean: -2.2076700542660572\n",
      "Standard Deviation: 0.000928988632855422\n"
     ]
    }
   ],
   "source": [
    "print(\"Scores:\", scores)\n",
    "print(\"Mean:\", scores.mean())\n",
    "print(\"Standard Deviation:\", scores.std())"
   ]
  },
  {
   "cell_type": "markdown",
   "metadata": {},
   "source": [
    "# Kaggle Submission\n",
    "\n",
    "- Reformat and turn in predictions and results from our model"
   ]
  },
  {
   "cell_type": "code",
   "execution_count": 143,
   "metadata": {
    "ExecuteTime": {
     "end_time": "2018-09-17T10:48:47.627937Z",
     "start_time": "2018-09-17T10:48:47.623352Z"
    }
   },
   "outputs": [
    {
     "data": {
      "text/plain": [
       "(884262, 39)"
      ]
     },
     "execution_count": 143,
     "metadata": {},
     "output_type": "execute_result"
    }
   ],
   "source": [
    "Y_test_pred.shape"
   ]
  },
  {
   "cell_type": "code",
   "execution_count": 144,
   "metadata": {
    "ExecuteTime": {
     "end_time": "2018-09-17T11:06:50.148631Z",
     "start_time": "2018-09-17T11:06:47.249150Z"
    }
   },
   "outputs": [],
   "source": [
    "sample_submission = pd.read_csv('data/sampleSubmission.csv')"
   ]
  },
  {
   "cell_type": "code",
   "execution_count": 145,
   "metadata": {
    "ExecuteTime": {
     "end_time": "2018-09-17T11:06:50.154768Z",
     "start_time": "2018-09-17T11:06:50.150430Z"
    }
   },
   "outputs": [
    {
     "data": {
      "text/plain": [
       "(884262, 40)"
      ]
     },
     "execution_count": 145,
     "metadata": {},
     "output_type": "execute_result"
    }
   ],
   "source": [
    "sample_submission.shape"
   ]
  },
  {
   "cell_type": "code",
   "execution_count": 146,
   "metadata": {
    "ExecuteTime": {
     "end_time": "2018-09-17T11:06:54.120643Z",
     "start_time": "2018-09-17T11:06:50.157476Z"
    },
    "scrolled": true
   },
   "outputs": [],
   "source": [
    "sample_submission.iloc[:, 1:] = pd.DataFrame(Y_test_pred, columns=sample_submission.columns[1:])"
   ]
  },
  {
   "cell_type": "code",
   "execution_count": 147,
   "metadata": {
    "ExecuteTime": {
     "end_time": "2018-09-17T11:06:54.159292Z",
     "start_time": "2018-09-17T11:06:54.122433Z"
    }
   },
   "outputs": [
    {
     "data": {
      "text/html": [
       "<div>\n",
       "<style scoped>\n",
       "    .dataframe tbody tr th:only-of-type {\n",
       "        vertical-align: middle;\n",
       "    }\n",
       "\n",
       "    .dataframe tbody tr th {\n",
       "        vertical-align: top;\n",
       "    }\n",
       "\n",
       "    .dataframe thead th {\n",
       "        text-align: right;\n",
       "    }\n",
       "</style>\n",
       "<table border=\"1\" class=\"dataframe\">\n",
       "  <thead>\n",
       "    <tr style=\"text-align: right;\">\n",
       "      <th></th>\n",
       "      <th>Id</th>\n",
       "      <th>ARSON</th>\n",
       "      <th>ASSAULT</th>\n",
       "      <th>BAD CHECKS</th>\n",
       "      <th>BRIBERY</th>\n",
       "      <th>BURGLARY</th>\n",
       "      <th>DISORDERLY CONDUCT</th>\n",
       "      <th>DRIVING UNDER THE INFLUENCE</th>\n",
       "      <th>DRUG/NARCOTIC</th>\n",
       "      <th>DRUNKENNESS</th>\n",
       "      <th>...</th>\n",
       "      <th>SEX OFFENSES NON FORCIBLE</th>\n",
       "      <th>STOLEN PROPERTY</th>\n",
       "      <th>SUICIDE</th>\n",
       "      <th>SUSPICIOUS OCC</th>\n",
       "      <th>TREA</th>\n",
       "      <th>TRESPASS</th>\n",
       "      <th>VANDALISM</th>\n",
       "      <th>VEHICLE THEFT</th>\n",
       "      <th>WARRANTS</th>\n",
       "      <th>WEAPON LAWS</th>\n",
       "    </tr>\n",
       "  </thead>\n",
       "  <tbody>\n",
       "    <tr>\n",
       "      <th>0</th>\n",
       "      <td>0</td>\n",
       "      <td>0.003679</td>\n",
       "      <td>0.105622</td>\n",
       "      <td>0.000132</td>\n",
       "      <td>0.001219</td>\n",
       "      <td>0.037274</td>\n",
       "      <td>0.002779</td>\n",
       "      <td>0.007785</td>\n",
       "      <td>0.020038</td>\n",
       "      <td>0.004292</td>\n",
       "      <td>...</td>\n",
       "      <td>0.000187</td>\n",
       "      <td>0.005317</td>\n",
       "      <td>0.000749</td>\n",
       "      <td>0.061839</td>\n",
       "      <td>0.000039</td>\n",
       "      <td>0.006519</td>\n",
       "      <td>0.033522</td>\n",
       "      <td>0.285986</td>\n",
       "      <td>0.023371</td>\n",
       "      <td>0.034233</td>\n",
       "    </tr>\n",
       "    <tr>\n",
       "      <th>1</th>\n",
       "      <td>1</td>\n",
       "      <td>0.001423</td>\n",
       "      <td>0.030257</td>\n",
       "      <td>0.000077</td>\n",
       "      <td>0.000696</td>\n",
       "      <td>0.001264</td>\n",
       "      <td>0.001711</td>\n",
       "      <td>0.008223</td>\n",
       "      <td>0.052197</td>\n",
       "      <td>0.003198</td>\n",
       "      <td>...</td>\n",
       "      <td>0.000156</td>\n",
       "      <td>0.004333</td>\n",
       "      <td>0.000100</td>\n",
       "      <td>0.044854</td>\n",
       "      <td>0.000031</td>\n",
       "      <td>0.000416</td>\n",
       "      <td>0.008517</td>\n",
       "      <td>0.011487</td>\n",
       "      <td>0.109868</td>\n",
       "      <td>0.011984</td>\n",
       "    </tr>\n",
       "    <tr>\n",
       "      <th>2</th>\n",
       "      <td>2</td>\n",
       "      <td>0.003068</td>\n",
       "      <td>0.121695</td>\n",
       "      <td>0.000126</td>\n",
       "      <td>0.000355</td>\n",
       "      <td>0.072130</td>\n",
       "      <td>0.002002</td>\n",
       "      <td>0.001906</td>\n",
       "      <td>0.011426</td>\n",
       "      <td>0.007318</td>\n",
       "      <td>...</td>\n",
       "      <td>0.000092</td>\n",
       "      <td>0.005152</td>\n",
       "      <td>0.000733</td>\n",
       "      <td>0.056084</td>\n",
       "      <td>0.000031</td>\n",
       "      <td>0.006096</td>\n",
       "      <td>0.046552</td>\n",
       "      <td>0.019040</td>\n",
       "      <td>0.027240</td>\n",
       "      <td>0.006408</td>\n",
       "    </tr>\n",
       "    <tr>\n",
       "      <th>3</th>\n",
       "      <td>3</td>\n",
       "      <td>0.002033</td>\n",
       "      <td>0.225354</td>\n",
       "      <td>0.000217</td>\n",
       "      <td>0.002199</td>\n",
       "      <td>0.035708</td>\n",
       "      <td>0.003474</td>\n",
       "      <td>0.007544</td>\n",
       "      <td>0.024714</td>\n",
       "      <td>0.025438</td>\n",
       "      <td>...</td>\n",
       "      <td>0.000346</td>\n",
       "      <td>0.012097</td>\n",
       "      <td>0.000746</td>\n",
       "      <td>0.062204</td>\n",
       "      <td>0.000049</td>\n",
       "      <td>0.006848</td>\n",
       "      <td>0.067086</td>\n",
       "      <td>0.078949</td>\n",
       "      <td>0.052308</td>\n",
       "      <td>0.020181</td>\n",
       "    </tr>\n",
       "    <tr>\n",
       "      <th>4</th>\n",
       "      <td>4</td>\n",
       "      <td>0.002033</td>\n",
       "      <td>0.225354</td>\n",
       "      <td>0.000217</td>\n",
       "      <td>0.002199</td>\n",
       "      <td>0.035708</td>\n",
       "      <td>0.003474</td>\n",
       "      <td>0.007544</td>\n",
       "      <td>0.024714</td>\n",
       "      <td>0.025438</td>\n",
       "      <td>...</td>\n",
       "      <td>0.000346</td>\n",
       "      <td>0.012097</td>\n",
       "      <td>0.000746</td>\n",
       "      <td>0.062204</td>\n",
       "      <td>0.000049</td>\n",
       "      <td>0.006848</td>\n",
       "      <td>0.067086</td>\n",
       "      <td>0.078949</td>\n",
       "      <td>0.052308</td>\n",
       "      <td>0.020181</td>\n",
       "    </tr>\n",
       "    <tr>\n",
       "      <th>5</th>\n",
       "      <td>5</td>\n",
       "      <td>0.001387</td>\n",
       "      <td>0.087916</td>\n",
       "      <td>0.000084</td>\n",
       "      <td>0.000671</td>\n",
       "      <td>0.001553</td>\n",
       "      <td>0.001674</td>\n",
       "      <td>0.012803</td>\n",
       "      <td>0.009039</td>\n",
       "      <td>0.005605</td>\n",
       "      <td>...</td>\n",
       "      <td>0.000175</td>\n",
       "      <td>0.004644</td>\n",
       "      <td>0.000199</td>\n",
       "      <td>0.019686</td>\n",
       "      <td>0.000034</td>\n",
       "      <td>0.000448</td>\n",
       "      <td>0.059605</td>\n",
       "      <td>0.033330</td>\n",
       "      <td>0.038224</td>\n",
       "      <td>0.029734</td>\n",
       "    </tr>\n",
       "    <tr>\n",
       "      <th>6</th>\n",
       "      <td>6</td>\n",
       "      <td>0.001109</td>\n",
       "      <td>0.035771</td>\n",
       "      <td>0.000064</td>\n",
       "      <td>0.000501</td>\n",
       "      <td>0.063373</td>\n",
       "      <td>0.000993</td>\n",
       "      <td>0.000941</td>\n",
       "      <td>0.005648</td>\n",
       "      <td>0.000693</td>\n",
       "      <td>...</td>\n",
       "      <td>0.000117</td>\n",
       "      <td>0.002305</td>\n",
       "      <td>0.000326</td>\n",
       "      <td>0.013965</td>\n",
       "      <td>0.000020</td>\n",
       "      <td>0.002332</td>\n",
       "      <td>0.103877</td>\n",
       "      <td>0.343926</td>\n",
       "      <td>0.003921</td>\n",
       "      <td>0.003879</td>\n",
       "    </tr>\n",
       "    <tr>\n",
       "      <th>7</th>\n",
       "      <td>7</td>\n",
       "      <td>0.003376</td>\n",
       "      <td>0.106689</td>\n",
       "      <td>0.000076</td>\n",
       "      <td>0.000852</td>\n",
       "      <td>0.076684</td>\n",
       "      <td>0.001479</td>\n",
       "      <td>0.001176</td>\n",
       "      <td>0.004761</td>\n",
       "      <td>0.001827</td>\n",
       "      <td>...</td>\n",
       "      <td>0.000158</td>\n",
       "      <td>0.003961</td>\n",
       "      <td>0.000462</td>\n",
       "      <td>0.030738</td>\n",
       "      <td>0.000027</td>\n",
       "      <td>0.003466</td>\n",
       "      <td>0.077790</td>\n",
       "      <td>0.418310</td>\n",
       "      <td>0.004067</td>\n",
       "      <td>0.003370</td>\n",
       "    </tr>\n",
       "    <tr>\n",
       "      <th>8</th>\n",
       "      <td>8</td>\n",
       "      <td>0.002758</td>\n",
       "      <td>0.150609</td>\n",
       "      <td>0.000143</td>\n",
       "      <td>0.001710</td>\n",
       "      <td>0.041354</td>\n",
       "      <td>0.005913</td>\n",
       "      <td>0.004899</td>\n",
       "      <td>0.080283</td>\n",
       "      <td>0.008412</td>\n",
       "      <td>...</td>\n",
       "      <td>0.000164</td>\n",
       "      <td>0.007312</td>\n",
       "      <td>0.000352</td>\n",
       "      <td>0.046165</td>\n",
       "      <td>0.000041</td>\n",
       "      <td>0.011602</td>\n",
       "      <td>0.044808</td>\n",
       "      <td>0.008404</td>\n",
       "      <td>0.079509</td>\n",
       "      <td>0.023080</td>\n",
       "    </tr>\n",
       "    <tr>\n",
       "      <th>9</th>\n",
       "      <td>9</td>\n",
       "      <td>0.000822</td>\n",
       "      <td>0.087102</td>\n",
       "      <td>0.000085</td>\n",
       "      <td>0.000252</td>\n",
       "      <td>0.003281</td>\n",
       "      <td>0.001633</td>\n",
       "      <td>0.005549</td>\n",
       "      <td>0.015753</td>\n",
       "      <td>0.008043</td>\n",
       "      <td>...</td>\n",
       "      <td>0.000091</td>\n",
       "      <td>0.008881</td>\n",
       "      <td>0.000234</td>\n",
       "      <td>0.024910</td>\n",
       "      <td>0.000033</td>\n",
       "      <td>0.000833</td>\n",
       "      <td>0.044359</td>\n",
       "      <td>0.013939</td>\n",
       "      <td>0.036994</td>\n",
       "      <td>0.008928</td>\n",
       "    </tr>\n",
       "  </tbody>\n",
       "</table>\n",
       "<p>10 rows × 40 columns</p>\n",
       "</div>"
      ],
      "text/plain": [
       "   Id     ARSON   ASSAULT  BAD CHECKS   BRIBERY  BURGLARY  DISORDERLY CONDUCT  \\\n",
       "0   0  0.003679  0.105622    0.000132  0.001219  0.037274            0.002779   \n",
       "1   1  0.001423  0.030257    0.000077  0.000696  0.001264            0.001711   \n",
       "2   2  0.003068  0.121695    0.000126  0.000355  0.072130            0.002002   \n",
       "3   3  0.002033  0.225354    0.000217  0.002199  0.035708            0.003474   \n",
       "4   4  0.002033  0.225354    0.000217  0.002199  0.035708            0.003474   \n",
       "5   5  0.001387  0.087916    0.000084  0.000671  0.001553            0.001674   \n",
       "6   6  0.001109  0.035771    0.000064  0.000501  0.063373            0.000993   \n",
       "7   7  0.003376  0.106689    0.000076  0.000852  0.076684            0.001479   \n",
       "8   8  0.002758  0.150609    0.000143  0.001710  0.041354            0.005913   \n",
       "9   9  0.000822  0.087102    0.000085  0.000252  0.003281            0.001633   \n",
       "\n",
       "   DRIVING UNDER THE INFLUENCE  DRUG/NARCOTIC  DRUNKENNESS  ...  \\\n",
       "0                     0.007785       0.020038     0.004292  ...   \n",
       "1                     0.008223       0.052197     0.003198  ...   \n",
       "2                     0.001906       0.011426     0.007318  ...   \n",
       "3                     0.007544       0.024714     0.025438  ...   \n",
       "4                     0.007544       0.024714     0.025438  ...   \n",
       "5                     0.012803       0.009039     0.005605  ...   \n",
       "6                     0.000941       0.005648     0.000693  ...   \n",
       "7                     0.001176       0.004761     0.001827  ...   \n",
       "8                     0.004899       0.080283     0.008412  ...   \n",
       "9                     0.005549       0.015753     0.008043  ...   \n",
       "\n",
       "   SEX OFFENSES NON FORCIBLE  STOLEN PROPERTY   SUICIDE  SUSPICIOUS OCC  \\\n",
       "0                   0.000187         0.005317  0.000749        0.061839   \n",
       "1                   0.000156         0.004333  0.000100        0.044854   \n",
       "2                   0.000092         0.005152  0.000733        0.056084   \n",
       "3                   0.000346         0.012097  0.000746        0.062204   \n",
       "4                   0.000346         0.012097  0.000746        0.062204   \n",
       "5                   0.000175         0.004644  0.000199        0.019686   \n",
       "6                   0.000117         0.002305  0.000326        0.013965   \n",
       "7                   0.000158         0.003961  0.000462        0.030738   \n",
       "8                   0.000164         0.007312  0.000352        0.046165   \n",
       "9                   0.000091         0.008881  0.000234        0.024910   \n",
       "\n",
       "       TREA  TRESPASS  VANDALISM  VEHICLE THEFT  WARRANTS  WEAPON LAWS  \n",
       "0  0.000039  0.006519   0.033522       0.285986  0.023371     0.034233  \n",
       "1  0.000031  0.000416   0.008517       0.011487  0.109868     0.011984  \n",
       "2  0.000031  0.006096   0.046552       0.019040  0.027240     0.006408  \n",
       "3  0.000049  0.006848   0.067086       0.078949  0.052308     0.020181  \n",
       "4  0.000049  0.006848   0.067086       0.078949  0.052308     0.020181  \n",
       "5  0.000034  0.000448   0.059605       0.033330  0.038224     0.029734  \n",
       "6  0.000020  0.002332   0.103877       0.343926  0.003921     0.003879  \n",
       "7  0.000027  0.003466   0.077790       0.418310  0.004067     0.003370  \n",
       "8  0.000041  0.011602   0.044808       0.008404  0.079509     0.023080  \n",
       "9  0.000033  0.000833   0.044359       0.013939  0.036994     0.008928  \n",
       "\n",
       "[10 rows x 40 columns]"
      ]
     },
     "execution_count": 147,
     "metadata": {},
     "output_type": "execute_result"
    }
   ],
   "source": [
    "sample_submission.head(10)"
   ]
  },
  {
   "cell_type": "code",
   "execution_count": 148,
   "metadata": {
    "ExecuteTime": {
     "end_time": "2018-09-17T11:07:37.190126Z",
     "start_time": "2018-09-17T11:06:54.161512Z"
    }
   },
   "outputs": [],
   "source": [
    "sample_submission.to_csv('data/submission_baseline.csv', index=False)"
   ]
  },
  {
   "cell_type": "markdown",
   "metadata": {},
   "source": [
    "# Summary\n",
    "\n",
    "- After lots of tuning, I finally achieved a kaggle evaluation score (multiclass log loss) of **2.25674**, which would ideally rank at **#136** (out of 2,335 teams) or at the **top 6%** or **94th percentile** on the public leaderboard\n",
    "    - Since this is an old kaggle competition, this would most likely be a lower rank, but I still felt proud to achieve this score\n",
    "    - It is possible that I could run more experiments and tune the hyperparameters to achieve an even better score & ranking \n",
    "    - This was more of a learning experience for me & to get my feet wet with Data Science projects & Kaggle competitions\n",
    "    - In an effort to learn, I refrained from looking up old Kaggle kernels & other resources that completed this specific Kaggle competition.\n",
    "    - I coded most of this myself to learn the data science libraries, but did use resources such as other Kaggle competition kernels and research papers to get a better idea of how to think about the data. Google is awesome.\n",
    "- Below, I show images of my two highest scoring submissions on Kaggle"
   ]
  },
  {
   "cell_type": "code",
   "execution_count": 149,
   "metadata": {
    "ExecuteTime": {
     "end_time": "2018-09-17T11:45:15.757302Z",
     "start_time": "2018-09-17T11:45:15.694747Z"
    }
   },
   "outputs": [],
   "source": [
    "# from IPython.display import Image\n",
    "# Image(filename='images/best_kaggle_submission.png') "
   ]
  },
  {
   "cell_type": "code",
   "execution_count": 150,
   "metadata": {
    "ExecuteTime": {
     "end_time": "2018-09-17T11:45:26.073609Z",
     "start_time": "2018-09-17T11:45:26.066850Z"
    }
   },
   "outputs": [],
   "source": [
    "# Image(filename='images/2nd_best_kaggle_submission.png') "
   ]
  },
  {
   "cell_type": "markdown",
   "metadata": {},
   "source": [
    "# Conclusion\n",
    "\n",
    "This project has taught me a lot about data science and has given me hands-on experience with working with data and completing an end-to-end data science project. I've had a lot of fun visualizing, analyzing, and experimenting with the data to gain more insight. This is just the beginning of my journey into data science, and I am very excited to see what the future holds in terms of new and interesting data science problems and datasets.\n",
    "\n",
    "- **What I learned**:\n",
    "    - There are more efficient ways to label or integer encode features\n",
    "        - Will use sklearn's LabelEncoder, OneHotEncoder, & MultiLabelBinarizer next time\n",
    "    - Instead of just blindly training models, research more about ways to optimize the hyperparameters efficiently\n",
    "        - Spent too many AWS EC2 hours with `GridSearchCV`, when I should have used *Bayesian Optimization* for efficient hyperparameter tuning\n",
    "        - Do more research on the domain of the problem, certain core ML algorithms, and data processing techniques\n",
    "- **What's next?**\n",
    "    - AutoML with `tpot` or `auto-sklearn`\n",
    "        - automate the hyperparameter tuning and model selection with AutoML packages\n",
    "    - Problem Redirection (Classification ---> Regression)\n",
    "        - Instead of predicting category of crime, predict X & Y coordinates (longitude & latitude) continuous values given same spatial and temporal features as well as category of crime\n",
    "        - **Use case:** Dynamically concentrate police on certain serious categories of crime to prevent crimes from happening beforehand\n",
    "    - Rewrite all code in the jupyter notebook to .py files\n",
    "        - Modularize each of the steps with functions and/or classes\n",
    "        - Useful because I can run the .py file on AWS EC2 without having to host it on jupyter notebook locally\n",
    "            - Meaning I can peacefully shut down my laptop and let script run in the cloud overnight\n"
   ]
  }
 ],
 "metadata": {
  "kernelspec": {
   "display_name": "Python 3.9.13 ('py39')",
   "language": "python",
   "name": "python3"
  },
  "language_info": {
   "codemirror_mode": {
    "name": "ipython",
    "version": 3
   },
   "file_extension": ".py",
   "mimetype": "text/x-python",
   "name": "python",
   "nbconvert_exporter": "python",
   "pygments_lexer": "ipython3",
   "version": "3.9.13"
  },
  "vscode": {
   "interpreter": {
    "hash": "c826e536c3a505596f0e2d06b1e710c70fa81f3ad055524c17f65f2bf85a16c5"
   }
  }
 },
 "nbformat": 4,
 "nbformat_minor": 2
}
